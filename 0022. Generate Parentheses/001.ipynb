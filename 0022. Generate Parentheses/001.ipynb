{
 "cells": [
  {
   "cell_type": "code",
   "execution_count": 1,
   "metadata": {},
   "outputs": [],
   "source": [
    "import numpy as np\n",
    "import matplotlib.pyplot as plt\n",
    "from typing import List, Optional"
   ]
  },
  {
   "cell_type": "code",
   "execution_count": 2,
   "metadata": {},
   "outputs": [],
   "source": [
    "class Solution1:\n",
    "    def isValid(self, s: str) -> bool:\n",
    "        stack = []\n",
    "        closeToOpen = {\")\" : \"(\", \"]\" : \"[\", \"}\" : \"{\"}\n",
    "        for c in s:\n",
    "            if c in closeToOpen:\n",
    "                if stack and stack[-1] == closeToOpen[c]:\n",
    "                    stack.pop()\n",
    "                else:\n",
    "                    return False\n",
    "            else:\n",
    "                stack.append(c)\n",
    "        return True if not stack else False"
   ]
  },
  {
   "cell_type": "code",
   "execution_count": 140,
   "metadata": {},
   "outputs": [],
   "source": [
    "class Solution:\n",
    "    def isValid(self, s: str) -> bool:\n",
    "        stack = []\n",
    "        closeToOpen = {\")\" : \"(\"}\n",
    "        for c in s:\n",
    "            if c in closeToOpen:\n",
    "                if stack and stack[-1] == closeToOpen[c]:\n",
    "                    stack.pop()\n",
    "                else:\n",
    "                    return False\n",
    "            else:\n",
    "                stack.append(c)\n",
    "        return True if not stack else False\n",
    "    def generateParenthesis(self, n: int) -> List[str]:\n",
    "        res = []\n",
    "\n",
    "        for i in range(2**(2*n)):\n",
    "            s = bin(i)[2:].rjust(2*n, '0')\n",
    "            new_s = s.replace('0','(').replace('1',')')\n",
    "            # print(new_s)\n",
    "            if self.isValid(new_s):\n",
    "                res.append(new_s)\n",
    "\n",
    "        return res"
   ]
  },
  {
   "cell_type": "code",
   "execution_count": 141,
   "metadata": {},
   "outputs": [],
   "source": [
    "n = 3"
   ]
  },
  {
   "cell_type": "code",
   "execution_count": 142,
   "metadata": {},
   "outputs": [
    {
     "data": {
      "text/plain": [
       "['((()))', '(()())', '(())()', '()(())', '()()()']"
      ]
     },
     "execution_count": 142,
     "metadata": {},
     "output_type": "execute_result"
    }
   ],
   "source": [
    "sol = Solution()\n",
    "res = sol.generateParenthesis(n)\n",
    "res"
   ]
  },
  {
   "cell_type": "code",
   "execution_count": 143,
   "metadata": {},
   "outputs": [
    {
     "name": "stdout",
     "output_type": "stream",
     "text": [
      "1 1\n",
      "2 2\n",
      "3 5\n",
      "4 14\n",
      "5 42\n",
      "6 132\n",
      "7 429\n",
      "8 1430\n"
     ]
    }
   ],
   "source": [
    "for i in range(1, 8+1):\n",
    "    print(i, len(sol.generateParenthesis(i)))"
   ]
  },
  {
   "cell_type": "code",
   "execution_count": 152,
   "metadata": {},
   "outputs": [
    {
     "name": "stdout",
     "output_type": "stream",
     "text": [
      "[   1    3    9   28   90  297 1001]\n",
      "[  2   6  19  62 207 704]\n",
      "[  4  13  43 145 497]\n",
      "[  9  30 102 352]\n",
      "[ 21  72 250]\n",
      "[ 51 178]\n",
      "[127]\n"
     ]
    }
   ],
   "source": [
    "for i in range(1, 8):\n",
    "    print(np.diff([1, 2, 5, 14, 42, 132, 429, 1430], i))"
   ]
  },
  {
   "cell_type": "code",
   "execution_count": 6,
   "metadata": {},
   "outputs": [
    {
     "data": {
      "text/plain": [
       "[7, 11, 13, 19, 21]"
      ]
     },
     "execution_count": 6,
     "metadata": {},
     "output_type": "execute_result"
    }
   ],
   "source": [
    "list(map(lambda x: int(x, 2), [\n",
    "    \"000111\",\n",
    "    \"001011\",\n",
    "    \"001101\",\n",
    "    \"010011\",\n",
    "    \"010101\",\n",
    "]))"
   ]
  },
  {
   "cell_type": "code",
   "execution_count": null,
   "metadata": {},
   "outputs": [],
   "source": []
  },
  {
   "cell_type": "code",
   "execution_count": 7,
   "metadata": {},
   "outputs": [
    {
     "data": {
      "text/plain": [
       "'\\n123456 6\\n((())) 123 456\\n(()()) 124 356\\n(())() 125 346\\n()(()) 134 256\\n()()() 135 246\\n\\n000111\\n001011\\n001101\\n010011\\n010101\\n\\n00 01 11     013\\n00 10 11     023\\n00 11 01     031\\n01 00 11     103\\n01 01 01     111\\n\\n000 111      07\\n001 011      13\\n001 101      15\\n010 011      22\\n010 101      25\\n\\n\\n\\n01 01 01\\n01 01 10\\n01 00 11\\n01 11 00\\n01 10 01\\n\\n\\n000 111 7  4\\n001 011 11 2\\n001 101 13 6\\n010 011 19 18\\n010 101 37\\n\\n000 0 111 7\\n001 1 011 3\\n001 1 101 5\\n010 2 011 2\\n010 2 101 5\\n\\n'"
      ]
     },
     "execution_count": 7,
     "metadata": {},
     "output_type": "execute_result"
    }
   ],
   "source": [
    "\"\"\"\n",
    "123456 6\n",
    "((())) 123 456\n",
    "(()()) 124 356\n",
    "(())() 125 346\n",
    "()(()) 134 256\n",
    "()()() 135 246\n",
    "\n",
    "000111\n",
    "001011\n",
    "001101\n",
    "010011\n",
    "010101\n",
    "\n",
    "00 01 11     013\n",
    "00 10 11     023\n",
    "00 11 01     031\n",
    "01 00 11     103\n",
    "01 01 01     111\n",
    "\n",
    "000 111      07\n",
    "001 011      13\n",
    "001 101      15\n",
    "010 011      22\n",
    "010 101      25\n",
    "\n",
    "\n",
    "\n",
    "01 01 01\n",
    "01 01 10\n",
    "01 00 11\n",
    "01 11 00\n",
    "01 10 01\n",
    "\n",
    "\n",
    "000 111 7  4\n",
    "001 011 11 2\n",
    "001 101 13 6\n",
    "010 011 19 18\n",
    "010 101 37\n",
    "\n",
    "000 0 111 7\n",
    "001 1 011 3\n",
    "001 1 101 5\n",
    "010 2 011 2\n",
    "010 2 101 5\n",
    "\n",
    "\"\"\""
   ]
  },
  {
   "cell_type": "code",
   "execution_count": 8,
   "metadata": {},
   "outputs": [
    {
     "data": {
      "text/plain": [
       "'\\n000111  001232\\n001011  011222\\n001101  012221\\n010011  111122\\n010101  112121\\n\\n000111  123210\\n001011  121210\\n001101  121010\\n010011  101220\\n010101  101010\\n\\n'"
      ]
     },
     "execution_count": 8,
     "metadata": {},
     "output_type": "execute_result"
    }
   ],
   "source": [
    "\"\"\"\n",
    "000111  001232\n",
    "001011  011222\n",
    "001101  012221\n",
    "010011  111122\n",
    "010101  112121\n",
    "\n",
    "000111  123210\n",
    "001011  121210\n",
    "001101  121010\n",
    "010011  101220\n",
    "010101  101010\n",
    "\n",
    "\"\"\""
   ]
  },
  {
   "cell_type": "code",
   "execution_count": 9,
   "metadata": {},
   "outputs": [
    {
     "name": "stdout",
     "output_type": "stream",
     "text": [
      "000111 = 7 -- True\n",
      "001011 = 11 -- True\n",
      "001101 = 13 -- True\n",
      "010011 = 19 -- True\n",
      "010101 = 21 -- True\n",
      "011001 = 25 -- False\n"
     ]
    }
   ],
   "source": [
    "n = 6\n",
    "for i in range(2**n):\n",
    "    s = bin(i)[2:].rjust(n, '0')\n",
    "    sm = sum(map(int, list(s)))\n",
    "    if sm == 3:\n",
    "        if s[0] == '0' and s[-1] == '1':\n",
    "            new_s = s.replace('0','(').replace('1',')')\n",
    "            print(f\"{s} = {int(s, 2)} -- {Solution1().isValid(new_s)}\")"
   ]
  },
  {
   "cell_type": "code",
   "execution_count": 35,
   "metadata": {},
   "outputs": [
    {
     "name": "stdout",
     "output_type": "stream",
     "text": [
      "0000011111 = 31 -- [1 2 3 4 5 4 3 2 1 0]\n",
      "0000101111 = 47 -- [1 2 3 4 3 4 3 2 1 0]\n",
      "0000110111 = 55 -- [1 2 3 4 3 2 3 2 1 0]\n",
      "0000111011 = 59 -- [1 2 3 4 3 2 1 2 1 0]\n",
      "0000111101 = 61 -- [1 2 3 4 3 2 1 0 1 0]\n",
      "0001001111 = 79 -- [1 2 3 2 3 4 3 2 1 0]\n",
      "0001010111 = 87 -- [1 2 3 2 3 2 3 2 1 0]\n",
      "0001011011 = 91 -- [1 2 3 2 3 2 1 2 1 0]\n",
      "0001011101 = 93 -- [1 2 3 2 3 2 1 0 1 0]\n",
      "0001100111 = 103 -- [1 2 3 2 1 2 3 2 1 0]\n",
      "0001101011 = 107 -- [1 2 3 2 1 2 1 2 1 0]\n",
      "0001101101 = 109 -- [1 2 3 2 1 2 1 0 1 0]\n",
      "0001110011 = 115 -- [1 2 3 2 1 0 1 2 1 0]\n",
      "0001110101 = 117 -- [1 2 3 2 1 0 1 0 1 0]\n",
      "0010001111 = 143 -- [1 2 1 2 3 4 3 2 1 0]\n",
      "0010010111 = 151 -- [1 2 1 2 3 2 3 2 1 0]\n",
      "0010011011 = 155 -- [1 2 1 2 3 2 1 2 1 0]\n",
      "0010011101 = 157 -- [1 2 1 2 3 2 1 0 1 0]\n",
      "0010100111 = 167 -- [1 2 1 2 1 2 3 2 1 0]\n",
      "0010101011 = 171 -- [1 2 1 2 1 2 1 2 1 0]\n",
      "0010101101 = 173 -- [1 2 1 2 1 2 1 0 1 0]\n",
      "0010110011 = 179 -- [1 2 1 2 1 0 1 2 1 0]\n",
      "0010110101 = 181 -- [1 2 1 2 1 0 1 0 1 0]\n",
      "0011000111 = 199 -- [1 2 1 0 1 2 3 2 1 0]\n",
      "0011001011 = 203 -- [1 2 1 0 1 2 1 2 1 0]\n",
      "0011001101 = 205 -- [1 2 1 0 1 2 1 0 1 0]\n",
      "0011010011 = 211 -- [1 2 1 0 1 0 1 2 1 0]\n",
      "0011010101 = 213 -- [1 2 1 0 1 0 1 0 1 0]\n",
      "0100001111 = 271 -- [1 0 1 2 3 4 3 2 1 0]\n",
      "0100010111 = 279 -- [1 0 1 2 3 2 3 2 1 0]\n",
      "0100011011 = 283 -- [1 0 1 2 3 2 1 2 1 0]\n",
      "0100011101 = 285 -- [1 0 1 2 3 2 1 0 1 0]\n",
      "0100100111 = 295 -- [1 0 1 2 1 2 3 2 1 0]\n",
      "0100101011 = 299 -- [1 0 1 2 1 2 1 2 1 0]\n",
      "0100101101 = 301 -- [1 0 1 2 1 2 1 0 1 0]\n",
      "0100110011 = 307 -- [1 0 1 2 1 0 1 2 1 0]\n",
      "0100110101 = 309 -- [1 0 1 2 1 0 1 0 1 0]\n",
      "0101000111 = 327 -- [1 0 1 0 1 2 3 2 1 0]\n",
      "0101001011 = 331 -- [1 0 1 0 1 2 1 2 1 0]\n",
      "0101001101 = 333 -- [1 0 1 0 1 2 1 0 1 0]\n",
      "0101010011 = 339 -- [1 0 1 0 1 0 1 2 1 0]\n",
      "0101010101 = 341 -- [1 0 1 0 1 0 1 0 1 0]\n"
     ]
    }
   ],
   "source": [
    "n = 2*5\n",
    "int_list = []\n",
    "bint_list = []\n",
    "\n",
    "for i in range(2**n):\n",
    "    s = bin(i)[2:].rjust(n, '0')\n",
    "    new_s = s.replace('0','(').replace('1',')')\n",
    "    if Solution1().isValid(new_s):\n",
    "        int_list.append(int(s, 2))\n",
    "\n",
    "        bint = list(map(int, list(s)))\n",
    "        bint_list.append(bint)\n",
    "        bint = np.array(bint)\n",
    "        bint[bint == 1] = -1\n",
    "        bint[bint == 0] = 1\n",
    "        \n",
    "        print(f\"{s} = {int(s, 2)} -- {np.cumsum(bint)}\")"
   ]
  },
  {
   "cell_type": "code",
   "execution_count": 33,
   "metadata": {},
   "outputs": [
    {
     "data": {
      "text/plain": [
       "array([ 1,  2,  3,  4,  5,  6,  7,  8,  9, 10])"
      ]
     },
     "execution_count": 33,
     "metadata": {},
     "output_type": "execute_result"
    }
   ],
   "source": [
    "np.cumsum(list(map(int, list(s))))"
   ]
  },
  {
   "cell_type": "code",
   "execution_count": 11,
   "metadata": {},
   "outputs": [
    {
     "data": {
      "text/plain": [
       "<matplotlib.image.AxesImage at 0x1e165b65900>"
      ]
     },
     "execution_count": 11,
     "metadata": {},
     "output_type": "execute_result"
    },
    {
     "data": {
      "image/png": "[encoded data removed]",
      "text/plain": [
       "<Figure size 640x480 with 1 Axes>"
      ]
     },
     "metadata": {},
     "output_type": "display_data"
    }
   ],
   "source": [
    "plt.imshow(list(map(lambda x: list(map(int, x)), \"\"\"0000000011111111\n",
    "0000000101111111\n",
    "0000000110111111\n",
    "0000000111011111\n",
    "0000000111101111\n",
    "0000000111110111\n",
    "0000000111111011\n",
    "0000000111111101\n",
    "0000001001111111\n",
    "0000001010111111\n",
    "0000001011011111\n",
    "0000001011101111\n",
    "0000001011110111\n",
    "0000001011111011\n",
    "0000001011111101\n",
    "0000001100111111\n",
    "0000001101011111\n",
    "0000001101101111\n",
    "0000001101110111\n",
    "0000001101111011\n",
    "0000001101111101\n",
    "0000001110011111\"\"\".split('\\n'))))"
   ]
  },
  {
   "cell_type": "code",
   "execution_count": 12,
   "metadata": {},
   "outputs": [],
   "source": [
    "int_list = np.array(int_list)\n",
    "bint_list = np.array(bint_list)"
   ]
  },
  {
   "cell_type": "code",
   "execution_count": 13,
   "metadata": {},
   "outputs": [
    {
     "data": {
      "text/plain": [
       "(1430,)"
      ]
     },
     "execution_count": 13,
     "metadata": {},
     "output_type": "execute_result"
    }
   ],
   "source": [
    "int_list.shape"
   ]
  },
  {
   "cell_type": "code",
   "execution_count": 14,
   "metadata": {},
   "outputs": [
    {
     "data": {
      "image/png": "[encoded data removed]",
      "text/plain": [
       "<Figure size 640x480 with 1 Axes>"
      ]
     },
     "metadata": {},
     "output_type": "display_data"
    }
   ],
   "source": [
    "plt.plot(int_list)\n",
    "plt.grid()"
   ]
  },
  {
   "cell_type": "code",
   "execution_count": 15,
   "metadata": {},
   "outputs": [
    {
     "data": {
      "image/png": "[encoded data removed]",
      "text/plain": [
       "<Figure size 640x480 with 1 Axes>"
      ]
     },
     "metadata": {},
     "output_type": "display_data"
    }
   ],
   "source": [
    "plt.plot(np.diff(int_list))\n",
    "plt.semilogy()\n",
    "plt.grid()"
   ]
  },
  {
   "cell_type": "code",
   "execution_count": 16,
   "metadata": {},
   "outputs": [
    {
     "data": {
      "image/png": "[encoded data removed]",
      "text/plain": [
       "<Figure size 640x480 with 1 Axes>"
      ]
     },
     "metadata": {},
     "output_type": "display_data"
    }
   ],
   "source": [
    "plt.plot(np.sort(np.diff(int_list)))\n",
    "plt.semilogy()\n",
    "plt.grid()"
   ]
  },
  {
   "cell_type": "code",
   "execution_count": 17,
   "metadata": {},
   "outputs": [
    {
     "data": {
      "text/plain": [
       "array([   2,    4,    6,    8,   10,   16,   18,   26,   32,   34,   42,\n",
       "         58,   64,   66,   74,  106,  128,  130,  138,  170,  202,  234,\n",
       "        298,  746,  810, 2858])"
      ]
     },
     "execution_count": 17,
     "metadata": {},
     "output_type": "execute_result"
    }
   ],
   "source": [
    "np.unique(np.diff(int_list))"
   ]
  },
  {
   "cell_type": "code",
   "execution_count": 18,
   "metadata": {},
   "outputs": [
    {
     "data": {
      "text/plain": [
       "5"
      ]
     },
     "execution_count": 18,
     "metadata": {},
     "output_type": "execute_result"
    }
   ],
   "source": [
    "sum(map(int, list('111011')))"
   ]
  },
  {
   "cell_type": "code",
   "execution_count": 19,
   "metadata": {},
   "outputs": [
    {
     "data": {
      "text/plain": [
       "'((()))'"
      ]
     },
     "execution_count": 19,
     "metadata": {},
     "output_type": "execute_result"
    }
   ],
   "source": [
    "\"000111\".replace('0','(').replace('1',')')"
   ]
  },
  {
   "cell_type": "code",
   "execution_count": 20,
   "metadata": {},
   "outputs": [
    {
     "data": {
      "text/plain": [
       "'\\n000111\\n001011\\n001101\\n010011\\n010101\\n\\n\\n01\\n\\n0011\\n0101\\n\\n\\n'"
      ]
     },
     "execution_count": 20,
     "metadata": {},
     "output_type": "execute_result"
    }
   ],
   "source": [
    "\"\"\"\n",
    "000111\n",
    "001011\n",
    "001101\n",
    "010011\n",
    "010101\n",
    "\n",
    "\n",
    "01\n",
    "\n",
    "0011\n",
    "0101\n",
    "\n",
    "\n",
    "\"\"\""
   ]
  },
  {
   "cell_type": "code",
   "execution_count": 21,
   "metadata": {},
   "outputs": [
    {
     "data": {
      "text/plain": [
       "(1430, 16)"
      ]
     },
     "execution_count": 21,
     "metadata": {},
     "output_type": "execute_result"
    }
   ],
   "source": [
    "bint_list.shape"
   ]
  },
  {
   "cell_type": "code",
   "execution_count": 22,
   "metadata": {},
   "outputs": [
    {
     "data": {
      "text/plain": [
       "<matplotlib.image.AxesImage at 0x1e167dfb610>"
      ]
     },
     "execution_count": 22,
     "metadata": {},
     "output_type": "execute_result"
    },
    {
     "data": {
      "image/png": "[encoded data removed]",
      "text/plain": [
       "<Figure size 640x480 with 1 Axes>"
      ]
     },
     "metadata": {},
     "output_type": "display_data"
    }
   ],
   "source": [
    "plt.imshow(bint_list[1300:1300+150].T)"
   ]
  },
  {
   "cell_type": "code",
   "execution_count": 23,
   "metadata": {},
   "outputs": [
    {
     "data": {
      "text/plain": [
       "array([[0, 0, 0, ..., 1, 1, 1],\n",
       "       [0, 0, 0, ..., 1, 1, 1],\n",
       "       [0, 0, 0, ..., 1, 1, 1],\n",
       "       ...,\n",
       "       [0, 1, 0, ..., 1, 0, 1],\n",
       "       [0, 1, 0, ..., 0, 1, 1],\n",
       "       [0, 1, 0, ..., 1, 0, 1]])"
      ]
     },
     "execution_count": 23,
     "metadata": {},
     "output_type": "execute_result"
    }
   ],
   "source": [
    "bint_list"
   ]
  },
  {
   "cell_type": "code",
   "execution_count": 24,
   "metadata": {},
   "outputs": [
    {
     "data": {
      "text/plain": [
       "1430"
      ]
     },
     "execution_count": 24,
     "metadata": {},
     "output_type": "execute_result"
    }
   ],
   "source": [
    "1430"
   ]
  },
  {
   "cell_type": "code",
   "execution_count": 25,
   "metadata": {},
   "outputs": [
    {
     "data": {
      "text/plain": [
       "1430"
      ]
     },
     "execution_count": 25,
     "metadata": {},
     "output_type": "execute_result"
    }
   ],
   "source": [
    "13*11*10"
   ]
  },
  {
   "cell_type": "code",
   "execution_count": null,
   "metadata": {},
   "outputs": [],
   "source": []
  },
  {
   "cell_type": "code",
   "execution_count": null,
   "metadata": {},
   "outputs": [],
   "source": []
  },
  {
   "cell_type": "code",
   "execution_count": 58,
   "metadata": {},
   "outputs": [],
   "source": [
    "from sklearn.tree import DecisionTreeClassifier\n",
    "from sklearn.model_selection import train_test_split"
   ]
  },
  {
   "cell_type": "code",
   "execution_count": 52,
   "metadata": {},
   "outputs": [
    {
     "name": "stdout",
     "output_type": "stream",
     "text": [
      "0000000000 = 0 -- [ 1  2  3  4  5  6  7  8  9 10] -- 0\n",
      "0000000001 = 1 -- [1 2 3 4 5 6 7 8 9 8] -- 0\n",
      "0000000010 = 2 -- [1 2 3 4 5 6 7 8 7 8] -- 0\n",
      "0000000011 = 3 -- [1 2 3 4 5 6 7 8 7 6] -- 0\n",
      "0000000100 = 4 -- [1 2 3 4 5 6 7 6 7 8] -- 0\n",
      "0000000101 = 5 -- [1 2 3 4 5 6 7 6 7 6] -- 0\n",
      "0000000110 = 6 -- [1 2 3 4 5 6 7 6 5 6] -- 0\n",
      "0000000111 = 7 -- [1 2 3 4 5 6 7 6 5 4] -- 0\n",
      "0000001000 = 8 -- [1 2 3 4 5 6 5 6 7 8] -- 0\n",
      "0000001001 = 9 -- [1 2 3 4 5 6 5 6 7 6] -- 0\n",
      "0000001010 = 10 -- [1 2 3 4 5 6 5 6 5 6] -- 0\n",
      "0000001011 = 11 -- [1 2 3 4 5 6 5 6 5 4] -- 0\n",
      "0000001100 = 12 -- [1 2 3 4 5 6 5 4 5 6] -- 0\n",
      "0000001101 = 13 -- [1 2 3 4 5 6 5 4 5 4] -- 0\n",
      "0000001110 = 14 -- [1 2 3 4 5 6 5 4 3 4] -- 0\n",
      "0000001111 = 15 -- [1 2 3 4 5 6 5 4 3 2] -- 0\n",
      "0000010000 = 16 -- [1 2 3 4 5 4 5 6 7 8] -- 0\n",
      "0000010001 = 17 -- [1 2 3 4 5 4 5 6 7 6] -- 0\n",
      "0000010010 = 18 -- [1 2 3 4 5 4 5 6 5 6] -- 0\n",
      "0000010011 = 19 -- [1 2 3 4 5 4 5 6 5 4] -- 0\n",
      "0000010100 = 20 -- [1 2 3 4 5 4 5 4 5 6] -- 0\n",
      "0000010101 = 21 -- [1 2 3 4 5 4 5 4 5 4] -- 0\n",
      "0000010110 = 22 -- [1 2 3 4 5 4 5 4 3 4] -- 0\n",
      "0000010111 = 23 -- [1 2 3 4 5 4 5 4 3 2] -- 0\n",
      "0000011000 = 24 -- [1 2 3 4 5 4 3 4 5 6] -- 0\n",
      "0000011001 = 25 -- [1 2 3 4 5 4 3 4 5 4] -- 0\n",
      "0000011010 = 26 -- [1 2 3 4 5 4 3 4 3 4] -- 0\n",
      "0000011011 = 27 -- [1 2 3 4 5 4 3 4 3 2] -- 0\n",
      "0000011100 = 28 -- [1 2 3 4 5 4 3 2 3 4] -- 0\n",
      "0000011101 = 29 -- [1 2 3 4 5 4 3 2 3 2] -- 0\n",
      "0000011110 = 30 -- [1 2 3 4 5 4 3 2 1 2] -- 0\n",
      "0000011111 = 31 -- [1 2 3 4 5 4 3 2 1 0] -- 1\n",
      "0000100000 = 32 -- [1 2 3 4 3 4 5 6 7 8] -- 0\n",
      "0000100001 = 33 -- [1 2 3 4 3 4 5 6 7 6] -- 0\n",
      "0000100010 = 34 -- [1 2 3 4 3 4 5 6 5 6] -- 0\n",
      "0000100011 = 35 -- [1 2 3 4 3 4 5 6 5 4] -- 0\n",
      "0000100100 = 36 -- [1 2 3 4 3 4 5 4 5 6] -- 0\n",
      "0000100101 = 37 -- [1 2 3 4 3 4 5 4 5 4] -- 0\n",
      "0000100110 = 38 -- [1 2 3 4 3 4 5 4 3 4] -- 0\n",
      "0000100111 = 39 -- [1 2 3 4 3 4 5 4 3 2] -- 0\n",
      "0000101000 = 40 -- [1 2 3 4 3 4 3 4 5 6] -- 0\n",
      "0000101001 = 41 -- [1 2 3 4 3 4 3 4 5 4] -- 0\n",
      "0000101010 = 42 -- [1 2 3 4 3 4 3 4 3 4] -- 0\n",
      "0000101011 = 43 -- [1 2 3 4 3 4 3 4 3 2] -- 0\n",
      "0000101100 = 44 -- [1 2 3 4 3 4 3 2 3 4] -- 0\n",
      "0000101101 = 45 -- [1 2 3 4 3 4 3 2 3 2] -- 0\n",
      "0000101110 = 46 -- [1 2 3 4 3 4 3 2 1 2] -- 0\n",
      "0000101111 = 47 -- [1 2 3 4 3 4 3 2 1 0] -- 1\n",
      "0000110000 = 48 -- [1 2 3 4 3 2 3 4 5 6] -- 0\n",
      "0000110001 = 49 -- [1 2 3 4 3 2 3 4 5 4] -- 0\n",
      "0000110010 = 50 -- [1 2 3 4 3 2 3 4 3 4] -- 0\n",
      "0000110011 = 51 -- [1 2 3 4 3 2 3 4 3 2] -- 0\n",
      "0000110100 = 52 -- [1 2 3 4 3 2 3 2 3 4] -- 0\n",
      "0000110101 = 53 -- [1 2 3 4 3 2 3 2 3 2] -- 0\n",
      "0000110110 = 54 -- [1 2 3 4 3 2 3 2 1 2] -- 0\n",
      "0000110111 = 55 -- [1 2 3 4 3 2 3 2 1 0] -- 1\n",
      "0000111000 = 56 -- [1 2 3 4 3 2 1 2 3 4] -- 0\n",
      "0000111001 = 57 -- [1 2 3 4 3 2 1 2 3 2] -- 0\n",
      "0000111010 = 58 -- [1 2 3 4 3 2 1 2 1 2] -- 0\n",
      "0000111011 = 59 -- [1 2 3 4 3 2 1 2 1 0] -- 1\n",
      "0000111100 = 60 -- [1 2 3 4 3 2 1 0 1 2] -- 0\n",
      "0000111101 = 61 -- [1 2 3 4 3 2 1 0 1 0] -- 1\n",
      "0000111110 = 62 -- [ 1  2  3  4  3  2  1  0 -1  0] -- 0\n",
      "0000111111 = 63 -- [ 1  2  3  4  3  2  1  0 -1 -2] -- 0\n",
      "0001000000 = 64 -- [1 2 3 2 3 4 5 6 7 8] -- 0\n",
      "0001000001 = 65 -- [1 2 3 2 3 4 5 6 7 6] -- 0\n",
      "0001000010 = 66 -- [1 2 3 2 3 4 5 6 5 6] -- 0\n",
      "0001000011 = 67 -- [1 2 3 2 3 4 5 6 5 4] -- 0\n",
      "0001000100 = 68 -- [1 2 3 2 3 4 5 4 5 6] -- 0\n",
      "0001000101 = 69 -- [1 2 3 2 3 4 5 4 5 4] -- 0\n",
      "0001000110 = 70 -- [1 2 3 2 3 4 5 4 3 4] -- 0\n",
      "0001000111 = 71 -- [1 2 3 2 3 4 5 4 3 2] -- 0\n",
      "0001001000 = 72 -- [1 2 3 2 3 4 3 4 5 6] -- 0\n",
      "0001001001 = 73 -- [1 2 3 2 3 4 3 4 5 4] -- 0\n",
      "0001001010 = 74 -- [1 2 3 2 3 4 3 4 3 4] -- 0\n",
      "0001001011 = 75 -- [1 2 3 2 3 4 3 4 3 2] -- 0\n",
      "0001001100 = 76 -- [1 2 3 2 3 4 3 2 3 4] -- 0\n",
      "0001001101 = 77 -- [1 2 3 2 3 4 3 2 3 2] -- 0\n",
      "0001001110 = 78 -- [1 2 3 2 3 4 3 2 1 2] -- 0\n",
      "0001001111 = 79 -- [1 2 3 2 3 4 3 2 1 0] -- 1\n",
      "0001010000 = 80 -- [1 2 3 2 3 2 3 4 5 6] -- 0\n",
      "0001010001 = 81 -- [1 2 3 2 3 2 3 4 5 4] -- 0\n",
      "0001010010 = 82 -- [1 2 3 2 3 2 3 4 3 4] -- 0\n",
      "0001010011 = 83 -- [1 2 3 2 3 2 3 4 3 2] -- 0\n",
      "0001010100 = 84 -- [1 2 3 2 3 2 3 2 3 4] -- 0\n",
      "0001010101 = 85 -- [1 2 3 2 3 2 3 2 3 2] -- 0\n",
      "0001010110 = 86 -- [1 2 3 2 3 2 3 2 1 2] -- 0\n",
      "0001010111 = 87 -- [1 2 3 2 3 2 3 2 1 0] -- 1\n",
      "0001011000 = 88 -- [1 2 3 2 3 2 1 2 3 4] -- 0\n",
      "0001011001 = 89 -- [1 2 3 2 3 2 1 2 3 2] -- 0\n",
      "0001011010 = 90 -- [1 2 3 2 3 2 1 2 1 2] -- 0\n",
      "0001011011 = 91 -- [1 2 3 2 3 2 1 2 1 0] -- 1\n",
      "0001011100 = 92 -- [1 2 3 2 3 2 1 0 1 2] -- 0\n",
      "0001011101 = 93 -- [1 2 3 2 3 2 1 0 1 0] -- 1\n",
      "0001011110 = 94 -- [ 1  2  3  2  3  2  1  0 -1  0] -- 0\n",
      "0001011111 = 95 -- [ 1  2  3  2  3  2  1  0 -1 -2] -- 0\n",
      "0001100000 = 96 -- [1 2 3 2 1 2 3 4 5 6] -- 0\n",
      "0001100001 = 97 -- [1 2 3 2 1 2 3 4 5 4] -- 0\n",
      "0001100010 = 98 -- [1 2 3 2 1 2 3 4 3 4] -- 0\n",
      "0001100011 = 99 -- [1 2 3 2 1 2 3 4 3 2] -- 0\n",
      "0001100100 = 100 -- [1 2 3 2 1 2 3 2 3 4] -- 0\n",
      "0001100101 = 101 -- [1 2 3 2 1 2 3 2 3 2] -- 0\n",
      "0001100110 = 102 -- [1 2 3 2 1 2 3 2 1 2] -- 0\n",
      "0001100111 = 103 -- [1 2 3 2 1 2 3 2 1 0] -- 1\n",
      "0001101000 = 104 -- [1 2 3 2 1 2 1 2 3 4] -- 0\n",
      "0001101001 = 105 -- [1 2 3 2 1 2 1 2 3 2] -- 0\n",
      "0001101010 = 106 -- [1 2 3 2 1 2 1 2 1 2] -- 0\n",
      "0001101011 = 107 -- [1 2 3 2 1 2 1 2 1 0] -- 1\n",
      "0001101100 = 108 -- [1 2 3 2 1 2 1 0 1 2] -- 0\n",
      "0001101101 = 109 -- [1 2 3 2 1 2 1 0 1 0] -- 1\n",
      "0001101110 = 110 -- [ 1  2  3  2  1  2  1  0 -1  0] -- 0\n",
      "0001101111 = 111 -- [ 1  2  3  2  1  2  1  0 -1 -2] -- 0\n",
      "0001110000 = 112 -- [1 2 3 2 1 0 1 2 3 4] -- 0\n",
      "0001110001 = 113 -- [1 2 3 2 1 0 1 2 3 2] -- 0\n",
      "0001110010 = 114 -- [1 2 3 2 1 0 1 2 1 2] -- 0\n",
      "0001110011 = 115 -- [1 2 3 2 1 0 1 2 1 0] -- 1\n",
      "0001110100 = 116 -- [1 2 3 2 1 0 1 0 1 2] -- 0\n",
      "0001110101 = 117 -- [1 2 3 2 1 0 1 0 1 0] -- 1\n",
      "0001110110 = 118 -- [ 1  2  3  2  1  0  1  0 -1  0] -- 0\n",
      "0001110111 = 119 -- [ 1  2  3  2  1  0  1  0 -1 -2] -- 0\n",
      "0001111000 = 120 -- [ 1  2  3  2  1  0 -1  0  1  2] -- 0\n",
      "0001111001 = 121 -- [ 1  2  3  2  1  0 -1  0  1  0] -- 0\n",
      "0001111010 = 122 -- [ 1  2  3  2  1  0 -1  0 -1  0] -- 0\n",
      "0001111011 = 123 -- [ 1  2  3  2  1  0 -1  0 -1 -2] -- 0\n",
      "0001111100 = 124 -- [ 1  2  3  2  1  0 -1 -2 -1  0] -- 0\n",
      "0001111101 = 125 -- [ 1  2  3  2  1  0 -1 -2 -1 -2] -- 0\n",
      "0001111110 = 126 -- [ 1  2  3  2  1  0 -1 -2 -3 -2] -- 0\n",
      "0001111111 = 127 -- [ 1  2  3  2  1  0 -1 -2 -3 -4] -- 0\n",
      "0010000000 = 128 -- [1 2 1 2 3 4 5 6 7 8] -- 0\n",
      "0010000001 = 129 -- [1 2 1 2 3 4 5 6 7 6] -- 0\n",
      "0010000010 = 130 -- [1 2 1 2 3 4 5 6 5 6] -- 0\n",
      "0010000011 = 131 -- [1 2 1 2 3 4 5 6 5 4] -- 0\n",
      "0010000100 = 132 -- [1 2 1 2 3 4 5 4 5 6] -- 0\n",
      "0010000101 = 133 -- [1 2 1 2 3 4 5 4 5 4] -- 0\n",
      "0010000110 = 134 -- [1 2 1 2 3 4 5 4 3 4] -- 0\n",
      "0010000111 = 135 -- [1 2 1 2 3 4 5 4 3 2] -- 0\n",
      "0010001000 = 136 -- [1 2 1 2 3 4 3 4 5 6] -- 0\n",
      "0010001001 = 137 -- [1 2 1 2 3 4 3 4 5 4] -- 0\n",
      "0010001010 = 138 -- [1 2 1 2 3 4 3 4 3 4] -- 0\n",
      "0010001011 = 139 -- [1 2 1 2 3 4 3 4 3 2] -- 0\n",
      "0010001100 = 140 -- [1 2 1 2 3 4 3 2 3 4] -- 0\n",
      "0010001101 = 141 -- [1 2 1 2 3 4 3 2 3 2] -- 0\n",
      "0010001110 = 142 -- [1 2 1 2 3 4 3 2 1 2] -- 0\n",
      "0010001111 = 143 -- [1 2 1 2 3 4 3 2 1 0] -- 1\n",
      "0010010000 = 144 -- [1 2 1 2 3 2 3 4 5 6] -- 0\n",
      "0010010001 = 145 -- [1 2 1 2 3 2 3 4 5 4] -- 0\n",
      "0010010010 = 146 -- [1 2 1 2 3 2 3 4 3 4] -- 0\n",
      "0010010011 = 147 -- [1 2 1 2 3 2 3 4 3 2] -- 0\n",
      "0010010100 = 148 -- [1 2 1 2 3 2 3 2 3 4] -- 0\n",
      "0010010101 = 149 -- [1 2 1 2 3 2 3 2 3 2] -- 0\n",
      "0010010110 = 150 -- [1 2 1 2 3 2 3 2 1 2] -- 0\n",
      "0010010111 = 151 -- [1 2 1 2 3 2 3 2 1 0] -- 1\n",
      "0010011000 = 152 -- [1 2 1 2 3 2 1 2 3 4] -- 0\n",
      "0010011001 = 153 -- [1 2 1 2 3 2 1 2 3 2] -- 0\n",
      "0010011010 = 154 -- [1 2 1 2 3 2 1 2 1 2] -- 0\n",
      "0010011011 = 155 -- [1 2 1 2 3 2 1 2 1 0] -- 1\n",
      "0010011100 = 156 -- [1 2 1 2 3 2 1 0 1 2] -- 0\n",
      "0010011101 = 157 -- [1 2 1 2 3 2 1 0 1 0] -- 1\n",
      "0010011110 = 158 -- [ 1  2  1  2  3  2  1  0 -1  0] -- 0\n",
      "0010011111 = 159 -- [ 1  2  1  2  3  2  1  0 -1 -2] -- 0\n",
      "0010100000 = 160 -- [1 2 1 2 1 2 3 4 5 6] -- 0\n",
      "0010100001 = 161 -- [1 2 1 2 1 2 3 4 5 4] -- 0\n",
      "0010100010 = 162 -- [1 2 1 2 1 2 3 4 3 4] -- 0\n",
      "0010100011 = 163 -- [1 2 1 2 1 2 3 4 3 2] -- 0\n",
      "0010100100 = 164 -- [1 2 1 2 1 2 3 2 3 4] -- 0\n",
      "0010100101 = 165 -- [1 2 1 2 1 2 3 2 3 2] -- 0\n",
      "0010100110 = 166 -- [1 2 1 2 1 2 3 2 1 2] -- 0\n",
      "0010100111 = 167 -- [1 2 1 2 1 2 3 2 1 0] -- 1\n",
      "0010101000 = 168 -- [1 2 1 2 1 2 1 2 3 4] -- 0\n",
      "0010101001 = 169 -- [1 2 1 2 1 2 1 2 3 2] -- 0\n",
      "0010101010 = 170 -- [1 2 1 2 1 2 1 2 1 2] -- 0\n",
      "0010101011 = 171 -- [1 2 1 2 1 2 1 2 1 0] -- 1\n",
      "0010101100 = 172 -- [1 2 1 2 1 2 1 0 1 2] -- 0\n",
      "0010101101 = 173 -- [1 2 1 2 1 2 1 0 1 0] -- 1\n",
      "0010101110 = 174 -- [ 1  2  1  2  1  2  1  0 -1  0] -- 0\n",
      "0010101111 = 175 -- [ 1  2  1  2  1  2  1  0 -1 -2] -- 0\n",
      "0010110000 = 176 -- [1 2 1 2 1 0 1 2 3 4] -- 0\n",
      "0010110001 = 177 -- [1 2 1 2 1 0 1 2 3 2] -- 0\n",
      "0010110010 = 178 -- [1 2 1 2 1 0 1 2 1 2] -- 0\n",
      "0010110011 = 179 -- [1 2 1 2 1 0 1 2 1 0] -- 1\n",
      "0010110100 = 180 -- [1 2 1 2 1 0 1 0 1 2] -- 0\n",
      "0010110101 = 181 -- [1 2 1 2 1 0 1 0 1 0] -- 1\n",
      "0010110110 = 182 -- [ 1  2  1  2  1  0  1  0 -1  0] -- 0\n",
      "0010110111 = 183 -- [ 1  2  1  2  1  0  1  0 -1 -2] -- 0\n",
      "0010111000 = 184 -- [ 1  2  1  2  1  0 -1  0  1  2] -- 0\n",
      "0010111001 = 185 -- [ 1  2  1  2  1  0 -1  0  1  0] -- 0\n",
      "0010111010 = 186 -- [ 1  2  1  2  1  0 -1  0 -1  0] -- 0\n",
      "0010111011 = 187 -- [ 1  2  1  2  1  0 -1  0 -1 -2] -- 0\n",
      "0010111100 = 188 -- [ 1  2  1  2  1  0 -1 -2 -1  0] -- 0\n",
      "0010111101 = 189 -- [ 1  2  1  2  1  0 -1 -2 -1 -2] -- 0\n",
      "0010111110 = 190 -- [ 1  2  1  2  1  0 -1 -2 -3 -2] -- 0\n",
      "0010111111 = 191 -- [ 1  2  1  2  1  0 -1 -2 -3 -4] -- 0\n",
      "0011000000 = 192 -- [1 2 1 0 1 2 3 4 5 6] -- 0\n",
      "0011000001 = 193 -- [1 2 1 0 1 2 3 4 5 4] -- 0\n",
      "0011000010 = 194 -- [1 2 1 0 1 2 3 4 3 4] -- 0\n",
      "0011000011 = 195 -- [1 2 1 0 1 2 3 4 3 2] -- 0\n",
      "0011000100 = 196 -- [1 2 1 0 1 2 3 2 3 4] -- 0\n",
      "0011000101 = 197 -- [1 2 1 0 1 2 3 2 3 2] -- 0\n",
      "0011000110 = 198 -- [1 2 1 0 1 2 3 2 1 2] -- 0\n",
      "0011000111 = 199 -- [1 2 1 0 1 2 3 2 1 0] -- 1\n",
      "0011001000 = 200 -- [1 2 1 0 1 2 1 2 3 4] -- 0\n",
      "0011001001 = 201 -- [1 2 1 0 1 2 1 2 3 2] -- 0\n",
      "0011001010 = 202 -- [1 2 1 0 1 2 1 2 1 2] -- 0\n",
      "0011001011 = 203 -- [1 2 1 0 1 2 1 2 1 0] -- 1\n",
      "0011001100 = 204 -- [1 2 1 0 1 2 1 0 1 2] -- 0\n",
      "0011001101 = 205 -- [1 2 1 0 1 2 1 0 1 0] -- 1\n",
      "0011001110 = 206 -- [ 1  2  1  0  1  2  1  0 -1  0] -- 0\n",
      "0011001111 = 207 -- [ 1  2  1  0  1  2  1  0 -1 -2] -- 0\n",
      "0011010000 = 208 -- [1 2 1 0 1 0 1 2 3 4] -- 0\n",
      "0011010001 = 209 -- [1 2 1 0 1 0 1 2 3 2] -- 0\n",
      "0011010010 = 210 -- [1 2 1 0 1 0 1 2 1 2] -- 0\n",
      "0011010011 = 211 -- [1 2 1 0 1 0 1 2 1 0] -- 1\n",
      "0011010100 = 212 -- [1 2 1 0 1 0 1 0 1 2] -- 0\n",
      "0011010101 = 213 -- [1 2 1 0 1 0 1 0 1 0] -- 1\n",
      "0011010110 = 214 -- [ 1  2  1  0  1  0  1  0 -1  0] -- 0\n",
      "0011010111 = 215 -- [ 1  2  1  0  1  0  1  0 -1 -2] -- 0\n",
      "0011011000 = 216 -- [ 1  2  1  0  1  0 -1  0  1  2] -- 0\n",
      "0011011001 = 217 -- [ 1  2  1  0  1  0 -1  0  1  0] -- 0\n",
      "0011011010 = 218 -- [ 1  2  1  0  1  0 -1  0 -1  0] -- 0\n",
      "0011011011 = 219 -- [ 1  2  1  0  1  0 -1  0 -1 -2] -- 0\n",
      "0011011100 = 220 -- [ 1  2  1  0  1  0 -1 -2 -1  0] -- 0\n",
      "0011011101 = 221 -- [ 1  2  1  0  1  0 -1 -2 -1 -2] -- 0\n",
      "0011011110 = 222 -- [ 1  2  1  0  1  0 -1 -2 -3 -2] -- 0\n",
      "0011011111 = 223 -- [ 1  2  1  0  1  0 -1 -2 -3 -4] -- 0\n",
      "0011100000 = 224 -- [ 1  2  1  0 -1  0  1  2  3  4] -- 0\n",
      "0011100001 = 225 -- [ 1  2  1  0 -1  0  1  2  3  2] -- 0\n",
      "0011100010 = 226 -- [ 1  2  1  0 -1  0  1  2  1  2] -- 0\n",
      "0011100011 = 227 -- [ 1  2  1  0 -1  0  1  2  1  0] -- 0\n",
      "0011100100 = 228 -- [ 1  2  1  0 -1  0  1  0  1  2] -- 0\n",
      "0011100101 = 229 -- [ 1  2  1  0 -1  0  1  0  1  0] -- 0\n",
      "0011100110 = 230 -- [ 1  2  1  0 -1  0  1  0 -1  0] -- 0\n",
      "0011100111 = 231 -- [ 1  2  1  0 -1  0  1  0 -1 -2] -- 0\n",
      "0011101000 = 232 -- [ 1  2  1  0 -1  0 -1  0  1  2] -- 0\n",
      "0011101001 = 233 -- [ 1  2  1  0 -1  0 -1  0  1  0] -- 0\n",
      "0011101010 = 234 -- [ 1  2  1  0 -1  0 -1  0 -1  0] -- 0\n",
      "0011101011 = 235 -- [ 1  2  1  0 -1  0 -1  0 -1 -2] -- 0\n",
      "0011101100 = 236 -- [ 1  2  1  0 -1  0 -1 -2 -1  0] -- 0\n",
      "0011101101 = 237 -- [ 1  2  1  0 -1  0 -1 -2 -1 -2] -- 0\n",
      "0011101110 = 238 -- [ 1  2  1  0 -1  0 -1 -2 -3 -2] -- 0\n",
      "0011101111 = 239 -- [ 1  2  1  0 -1  0 -1 -2 -3 -4] -- 0\n",
      "0011110000 = 240 -- [ 1  2  1  0 -1 -2 -1  0  1  2] -- 0\n",
      "0011110001 = 241 -- [ 1  2  1  0 -1 -2 -1  0  1  0] -- 0\n",
      "0011110010 = 242 -- [ 1  2  1  0 -1 -2 -1  0 -1  0] -- 0\n",
      "0011110011 = 243 -- [ 1  2  1  0 -1 -2 -1  0 -1 -2] -- 0\n",
      "0011110100 = 244 -- [ 1  2  1  0 -1 -2 -1 -2 -1  0] -- 0\n",
      "0011110101 = 245 -- [ 1  2  1  0 -1 -2 -1 -2 -1 -2] -- 0\n",
      "0011110110 = 246 -- [ 1  2  1  0 -1 -2 -1 -2 -3 -2] -- 0\n",
      "0011110111 = 247 -- [ 1  2  1  0 -1 -2 -1 -2 -3 -4] -- 0\n",
      "0011111000 = 248 -- [ 1  2  1  0 -1 -2 -3 -2 -1  0] -- 0\n",
      "0011111001 = 249 -- [ 1  2  1  0 -1 -2 -3 -2 -1 -2] -- 0\n",
      "0011111010 = 250 -- [ 1  2  1  0 -1 -2 -3 -2 -3 -2] -- 0\n",
      "0011111011 = 251 -- [ 1  2  1  0 -1 -2 -3 -2 -3 -4] -- 0\n",
      "0011111100 = 252 -- [ 1  2  1  0 -1 -2 -3 -4 -3 -2] -- 0\n",
      "0011111101 = 253 -- [ 1  2  1  0 -1 -2 -3 -4 -3 -4] -- 0\n",
      "0011111110 = 254 -- [ 1  2  1  0 -1 -2 -3 -4 -5 -4] -- 0\n",
      "0011111111 = 255 -- [ 1  2  1  0 -1 -2 -3 -4 -5 -6] -- 0\n",
      "0100000000 = 256 -- [1 0 1 2 3 4 5 6 7 8] -- 0\n",
      "0100000001 = 257 -- [1 0 1 2 3 4 5 6 7 6] -- 0\n",
      "0100000010 = 258 -- [1 0 1 2 3 4 5 6 5 6] -- 0\n",
      "0100000011 = 259 -- [1 0 1 2 3 4 5 6 5 4] -- 0\n",
      "0100000100 = 260 -- [1 0 1 2 3 4 5 4 5 6] -- 0\n",
      "0100000101 = 261 -- [1 0 1 2 3 4 5 4 5 4] -- 0\n",
      "0100000110 = 262 -- [1 0 1 2 3 4 5 4 3 4] -- 0\n",
      "0100000111 = 263 -- [1 0 1 2 3 4 5 4 3 2] -- 0\n",
      "0100001000 = 264 -- [1 0 1 2 3 4 3 4 5 6] -- 0\n",
      "0100001001 = 265 -- [1 0 1 2 3 4 3 4 5 4] -- 0\n",
      "0100001010 = 266 -- [1 0 1 2 3 4 3 4 3 4] -- 0\n",
      "0100001011 = 267 -- [1 0 1 2 3 4 3 4 3 2] -- 0\n",
      "0100001100 = 268 -- [1 0 1 2 3 4 3 2 3 4] -- 0\n",
      "0100001101 = 269 -- [1 0 1 2 3 4 3 2 3 2] -- 0\n",
      "0100001110 = 270 -- [1 0 1 2 3 4 3 2 1 2] -- 0\n",
      "0100001111 = 271 -- [1 0 1 2 3 4 3 2 1 0] -- 1\n",
      "0100010000 = 272 -- [1 0 1 2 3 2 3 4 5 6] -- 0\n",
      "0100010001 = 273 -- [1 0 1 2 3 2 3 4 5 4] -- 0\n",
      "0100010010 = 274 -- [1 0 1 2 3 2 3 4 3 4] -- 0\n",
      "0100010011 = 275 -- [1 0 1 2 3 2 3 4 3 2] -- 0\n",
      "0100010100 = 276 -- [1 0 1 2 3 2 3 2 3 4] -- 0\n",
      "0100010101 = 277 -- [1 0 1 2 3 2 3 2 3 2] -- 0\n",
      "0100010110 = 278 -- [1 0 1 2 3 2 3 2 1 2] -- 0\n",
      "0100010111 = 279 -- [1 0 1 2 3 2 3 2 1 0] -- 1\n",
      "0100011000 = 280 -- [1 0 1 2 3 2 1 2 3 4] -- 0\n",
      "0100011001 = 281 -- [1 0 1 2 3 2 1 2 3 2] -- 0\n",
      "0100011010 = 282 -- [1 0 1 2 3 2 1 2 1 2] -- 0\n",
      "0100011011 = 283 -- [1 0 1 2 3 2 1 2 1 0] -- 1\n",
      "0100011100 = 284 -- [1 0 1 2 3 2 1 0 1 2] -- 0\n",
      "0100011101 = 285 -- [1 0 1 2 3 2 1 0 1 0] -- 1\n",
      "0100011110 = 286 -- [ 1  0  1  2  3  2  1  0 -1  0] -- 0\n",
      "0100011111 = 287 -- [ 1  0  1  2  3  2  1  0 -1 -2] -- 0\n",
      "0100100000 = 288 -- [1 0 1 2 1 2 3 4 5 6] -- 0\n",
      "0100100001 = 289 -- [1 0 1 2 1 2 3 4 5 4] -- 0\n",
      "0100100010 = 290 -- [1 0 1 2 1 2 3 4 3 4] -- 0\n",
      "0100100011 = 291 -- [1 0 1 2 1 2 3 4 3 2] -- 0\n",
      "0100100100 = 292 -- [1 0 1 2 1 2 3 2 3 4] -- 0\n",
      "0100100101 = 293 -- [1 0 1 2 1 2 3 2 3 2] -- 0\n",
      "0100100110 = 294 -- [1 0 1 2 1 2 3 2 1 2] -- 0\n",
      "0100100111 = 295 -- [1 0 1 2 1 2 3 2 1 0] -- 1\n",
      "0100101000 = 296 -- [1 0 1 2 1 2 1 2 3 4] -- 0\n",
      "0100101001 = 297 -- [1 0 1 2 1 2 1 2 3 2] -- 0\n",
      "0100101010 = 298 -- [1 0 1 2 1 2 1 2 1 2] -- 0\n",
      "0100101011 = 299 -- [1 0 1 2 1 2 1 2 1 0] -- 1\n",
      "0100101100 = 300 -- [1 0 1 2 1 2 1 0 1 2] -- 0\n",
      "0100101101 = 301 -- [1 0 1 2 1 2 1 0 1 0] -- 1\n",
      "0100101110 = 302 -- [ 1  0  1  2  1  2  1  0 -1  0] -- 0\n",
      "0100101111 = 303 -- [ 1  0  1  2  1  2  1  0 -1 -2] -- 0\n",
      "0100110000 = 304 -- [1 0 1 2 1 0 1 2 3 4] -- 0\n",
      "0100110001 = 305 -- [1 0 1 2 1 0 1 2 3 2] -- 0\n",
      "0100110010 = 306 -- [1 0 1 2 1 0 1 2 1 2] -- 0\n",
      "0100110011 = 307 -- [1 0 1 2 1 0 1 2 1 0] -- 1\n",
      "0100110100 = 308 -- [1 0 1 2 1 0 1 0 1 2] -- 0\n",
      "0100110101 = 309 -- [1 0 1 2 1 0 1 0 1 0] -- 1\n",
      "0100110110 = 310 -- [ 1  0  1  2  1  0  1  0 -1  0] -- 0\n",
      "0100110111 = 311 -- [ 1  0  1  2  1  0  1  0 -1 -2] -- 0\n",
      "0100111000 = 312 -- [ 1  0  1  2  1  0 -1  0  1  2] -- 0\n",
      "0100111001 = 313 -- [ 1  0  1  2  1  0 -1  0  1  0] -- 0\n",
      "0100111010 = 314 -- [ 1  0  1  2  1  0 -1  0 -1  0] -- 0\n",
      "0100111011 = 315 -- [ 1  0  1  2  1  0 -1  0 -1 -2] -- 0\n",
      "0100111100 = 316 -- [ 1  0  1  2  1  0 -1 -2 -1  0] -- 0\n",
      "0100111101 = 317 -- [ 1  0  1  2  1  0 -1 -2 -1 -2] -- 0\n",
      "0100111110 = 318 -- [ 1  0  1  2  1  0 -1 -2 -3 -2] -- 0\n",
      "0100111111 = 319 -- [ 1  0  1  2  1  0 -1 -2 -3 -4] -- 0\n",
      "0101000000 = 320 -- [1 0 1 0 1 2 3 4 5 6] -- 0\n",
      "0101000001 = 321 -- [1 0 1 0 1 2 3 4 5 4] -- 0\n",
      "0101000010 = 322 -- [1 0 1 0 1 2 3 4 3 4] -- 0\n",
      "0101000011 = 323 -- [1 0 1 0 1 2 3 4 3 2] -- 0\n",
      "0101000100 = 324 -- [1 0 1 0 1 2 3 2 3 4] -- 0\n",
      "0101000101 = 325 -- [1 0 1 0 1 2 3 2 3 2] -- 0\n",
      "0101000110 = 326 -- [1 0 1 0 1 2 3 2 1 2] -- 0\n",
      "0101000111 = 327 -- [1 0 1 0 1 2 3 2 1 0] -- 1\n",
      "0101001000 = 328 -- [1 0 1 0 1 2 1 2 3 4] -- 0\n",
      "0101001001 = 329 -- [1 0 1 0 1 2 1 2 3 2] -- 0\n",
      "0101001010 = 330 -- [1 0 1 0 1 2 1 2 1 2] -- 0\n",
      "0101001011 = 331 -- [1 0 1 0 1 2 1 2 1 0] -- 1\n",
      "0101001100 = 332 -- [1 0 1 0 1 2 1 0 1 2] -- 0\n",
      "0101001101 = 333 -- [1 0 1 0 1 2 1 0 1 0] -- 1\n",
      "0101001110 = 334 -- [ 1  0  1  0  1  2  1  0 -1  0] -- 0\n",
      "0101001111 = 335 -- [ 1  0  1  0  1  2  1  0 -1 -2] -- 0\n",
      "0101010000 = 336 -- [1 0 1 0 1 0 1 2 3 4] -- 0\n",
      "0101010001 = 337 -- [1 0 1 0 1 0 1 2 3 2] -- 0\n",
      "0101010010 = 338 -- [1 0 1 0 1 0 1 2 1 2] -- 0\n",
      "0101010011 = 339 -- [1 0 1 0 1 0 1 2 1 0] -- 1\n",
      "0101010100 = 340 -- [1 0 1 0 1 0 1 0 1 2] -- 0\n",
      "0101010101 = 341 -- [1 0 1 0 1 0 1 0 1 0] -- 1\n",
      "0101010110 = 342 -- [ 1  0  1  0  1  0  1  0 -1  0] -- 0\n",
      "0101010111 = 343 -- [ 1  0  1  0  1  0  1  0 -1 -2] -- 0\n",
      "0101011000 = 344 -- [ 1  0  1  0  1  0 -1  0  1  2] -- 0\n",
      "0101011001 = 345 -- [ 1  0  1  0  1  0 -1  0  1  0] -- 0\n",
      "0101011010 = 346 -- [ 1  0  1  0  1  0 -1  0 -1  0] -- 0\n",
      "0101011011 = 347 -- [ 1  0  1  0  1  0 -1  0 -1 -2] -- 0\n",
      "0101011100 = 348 -- [ 1  0  1  0  1  0 -1 -2 -1  0] -- 0\n",
      "0101011101 = 349 -- [ 1  0  1  0  1  0 -1 -2 -1 -2] -- 0\n",
      "0101011110 = 350 -- [ 1  0  1  0  1  0 -1 -2 -3 -2] -- 0\n",
      "0101011111 = 351 -- [ 1  0  1  0  1  0 -1 -2 -3 -4] -- 0\n",
      "0101100000 = 352 -- [ 1  0  1  0 -1  0  1  2  3  4] -- 0\n",
      "0101100001 = 353 -- [ 1  0  1  0 -1  0  1  2  3  2] -- 0\n",
      "0101100010 = 354 -- [ 1  0  1  0 -1  0  1  2  1  2] -- 0\n",
      "0101100011 = 355 -- [ 1  0  1  0 -1  0  1  2  1  0] -- 0\n",
      "0101100100 = 356 -- [ 1  0  1  0 -1  0  1  0  1  2] -- 0\n",
      "0101100101 = 357 -- [ 1  0  1  0 -1  0  1  0  1  0] -- 0\n",
      "0101100110 = 358 -- [ 1  0  1  0 -1  0  1  0 -1  0] -- 0\n",
      "0101100111 = 359 -- [ 1  0  1  0 -1  0  1  0 -1 -2] -- 0\n",
      "0101101000 = 360 -- [ 1  0  1  0 -1  0 -1  0  1  2] -- 0\n",
      "0101101001 = 361 -- [ 1  0  1  0 -1  0 -1  0  1  0] -- 0\n",
      "0101101010 = 362 -- [ 1  0  1  0 -1  0 -1  0 -1  0] -- 0\n",
      "0101101011 = 363 -- [ 1  0  1  0 -1  0 -1  0 -1 -2] -- 0\n",
      "0101101100 = 364 -- [ 1  0  1  0 -1  0 -1 -2 -1  0] -- 0\n",
      "0101101101 = 365 -- [ 1  0  1  0 -1  0 -1 -2 -1 -2] -- 0\n",
      "0101101110 = 366 -- [ 1  0  1  0 -1  0 -1 -2 -3 -2] -- 0\n",
      "0101101111 = 367 -- [ 1  0  1  0 -1  0 -1 -2 -3 -4] -- 0\n",
      "0101110000 = 368 -- [ 1  0  1  0 -1 -2 -1  0  1  2] -- 0\n",
      "0101110001 = 369 -- [ 1  0  1  0 -1 -2 -1  0  1  0] -- 0\n",
      "0101110010 = 370 -- [ 1  0  1  0 -1 -2 -1  0 -1  0] -- 0\n",
      "0101110011 = 371 -- [ 1  0  1  0 -1 -2 -1  0 -1 -2] -- 0\n",
      "0101110100 = 372 -- [ 1  0  1  0 -1 -2 -1 -2 -1  0] -- 0\n",
      "0101110101 = 373 -- [ 1  0  1  0 -1 -2 -1 -2 -1 -2] -- 0\n",
      "0101110110 = 374 -- [ 1  0  1  0 -1 -2 -1 -2 -3 -2] -- 0\n",
      "0101110111 = 375 -- [ 1  0  1  0 -1 -2 -1 -2 -3 -4] -- 0\n",
      "0101111000 = 376 -- [ 1  0  1  0 -1 -2 -3 -2 -1  0] -- 0\n",
      "0101111001 = 377 -- [ 1  0  1  0 -1 -2 -3 -2 -1 -2] -- 0\n",
      "0101111010 = 378 -- [ 1  0  1  0 -1 -2 -3 -2 -3 -2] -- 0\n",
      "0101111011 = 379 -- [ 1  0  1  0 -1 -2 -3 -2 -3 -4] -- 0\n",
      "0101111100 = 380 -- [ 1  0  1  0 -1 -2 -3 -4 -3 -2] -- 0\n",
      "0101111101 = 381 -- [ 1  0  1  0 -1 -2 -3 -4 -3 -4] -- 0\n",
      "0101111110 = 382 -- [ 1  0  1  0 -1 -2 -3 -4 -5 -4] -- 0\n",
      "0101111111 = 383 -- [ 1  0  1  0 -1 -2 -3 -4 -5 -6] -- 0\n",
      "0110000000 = 384 -- [ 1  0 -1  0  1  2  3  4  5  6] -- 0\n",
      "0110000001 = 385 -- [ 1  0 -1  0  1  2  3  4  5  4] -- 0\n",
      "0110000010 = 386 -- [ 1  0 -1  0  1  2  3  4  3  4] -- 0\n",
      "0110000011 = 387 -- [ 1  0 -1  0  1  2  3  4  3  2] -- 0\n",
      "0110000100 = 388 -- [ 1  0 -1  0  1  2  3  2  3  4] -- 0\n",
      "0110000101 = 389 -- [ 1  0 -1  0  1  2  3  2  3  2] -- 0\n",
      "0110000110 = 390 -- [ 1  0 -1  0  1  2  3  2  1  2] -- 0\n",
      "0110000111 = 391 -- [ 1  0 -1  0  1  2  3  2  1  0] -- 0\n",
      "0110001000 = 392 -- [ 1  0 -1  0  1  2  1  2  3  4] -- 0\n",
      "0110001001 = 393 -- [ 1  0 -1  0  1  2  1  2  3  2] -- 0\n",
      "0110001010 = 394 -- [ 1  0 -1  0  1  2  1  2  1  2] -- 0\n",
      "0110001011 = 395 -- [ 1  0 -1  0  1  2  1  2  1  0] -- 0\n",
      "0110001100 = 396 -- [ 1  0 -1  0  1  2  1  0  1  2] -- 0\n",
      "0110001101 = 397 -- [ 1  0 -1  0  1  2  1  0  1  0] -- 0\n",
      "0110001110 = 398 -- [ 1  0 -1  0  1  2  1  0 -1  0] -- 0\n",
      "0110001111 = 399 -- [ 1  0 -1  0  1  2  1  0 -1 -2] -- 0\n",
      "0110010000 = 400 -- [ 1  0 -1  0  1  0  1  2  3  4] -- 0\n",
      "0110010001 = 401 -- [ 1  0 -1  0  1  0  1  2  3  2] -- 0\n",
      "0110010010 = 402 -- [ 1  0 -1  0  1  0  1  2  1  2] -- 0\n",
      "0110010011 = 403 -- [ 1  0 -1  0  1  0  1  2  1  0] -- 0\n",
      "0110010100 = 404 -- [ 1  0 -1  0  1  0  1  0  1  2] -- 0\n",
      "0110010101 = 405 -- [ 1  0 -1  0  1  0  1  0  1  0] -- 0\n",
      "0110010110 = 406 -- [ 1  0 -1  0  1  0  1  0 -1  0] -- 0\n",
      "0110010111 = 407 -- [ 1  0 -1  0  1  0  1  0 -1 -2] -- 0\n",
      "0110011000 = 408 -- [ 1  0 -1  0  1  0 -1  0  1  2] -- 0\n",
      "0110011001 = 409 -- [ 1  0 -1  0  1  0 -1  0  1  0] -- 0\n",
      "0110011010 = 410 -- [ 1  0 -1  0  1  0 -1  0 -1  0] -- 0\n",
      "0110011011 = 411 -- [ 1  0 -1  0  1  0 -1  0 -1 -2] -- 0\n",
      "0110011100 = 412 -- [ 1  0 -1  0  1  0 -1 -2 -1  0] -- 0\n",
      "0110011101 = 413 -- [ 1  0 -1  0  1  0 -1 -2 -1 -2] -- 0\n",
      "0110011110 = 414 -- [ 1  0 -1  0  1  0 -1 -2 -3 -2] -- 0\n",
      "0110011111 = 415 -- [ 1  0 -1  0  1  0 -1 -2 -3 -4] -- 0\n",
      "0110100000 = 416 -- [ 1  0 -1  0 -1  0  1  2  3  4] -- 0\n",
      "0110100001 = 417 -- [ 1  0 -1  0 -1  0  1  2  3  2] -- 0\n",
      "0110100010 = 418 -- [ 1  0 -1  0 -1  0  1  2  1  2] -- 0\n",
      "0110100011 = 419 -- [ 1  0 -1  0 -1  0  1  2  1  0] -- 0\n",
      "0110100100 = 420 -- [ 1  0 -1  0 -1  0  1  0  1  2] -- 0\n",
      "0110100101 = 421 -- [ 1  0 -1  0 -1  0  1  0  1  0] -- 0\n",
      "0110100110 = 422 -- [ 1  0 -1  0 -1  0  1  0 -1  0] -- 0\n",
      "0110100111 = 423 -- [ 1  0 -1  0 -1  0  1  0 -1 -2] -- 0\n",
      "0110101000 = 424 -- [ 1  0 -1  0 -1  0 -1  0  1  2] -- 0\n",
      "0110101001 = 425 -- [ 1  0 -1  0 -1  0 -1  0  1  0] -- 0\n",
      "0110101010 = 426 -- [ 1  0 -1  0 -1  0 -1  0 -1  0] -- 0\n",
      "0110101011 = 427 -- [ 1  0 -1  0 -1  0 -1  0 -1 -2] -- 0\n",
      "0110101100 = 428 -- [ 1  0 -1  0 -1  0 -1 -2 -1  0] -- 0\n",
      "0110101101 = 429 -- [ 1  0 -1  0 -1  0 -1 -2 -1 -2] -- 0\n",
      "0110101110 = 430 -- [ 1  0 -1  0 -1  0 -1 -2 -3 -2] -- 0\n",
      "0110101111 = 431 -- [ 1  0 -1  0 -1  0 -1 -2 -3 -4] -- 0\n",
      "0110110000 = 432 -- [ 1  0 -1  0 -1 -2 -1  0  1  2] -- 0\n",
      "0110110001 = 433 -- [ 1  0 -1  0 -1 -2 -1  0  1  0] -- 0\n",
      "0110110010 = 434 -- [ 1  0 -1  0 -1 -2 -1  0 -1  0] -- 0\n",
      "0110110011 = 435 -- [ 1  0 -1  0 -1 -2 -1  0 -1 -2] -- 0\n",
      "0110110100 = 436 -- [ 1  0 -1  0 -1 -2 -1 -2 -1  0] -- 0\n",
      "0110110101 = 437 -- [ 1  0 -1  0 -1 -2 -1 -2 -1 -2] -- 0\n",
      "0110110110 = 438 -- [ 1  0 -1  0 -1 -2 -1 -2 -3 -2] -- 0\n",
      "0110110111 = 439 -- [ 1  0 -1  0 -1 -2 -1 -2 -3 -4] -- 0\n",
      "0110111000 = 440 -- [ 1  0 -1  0 -1 -2 -3 -2 -1  0] -- 0\n",
      "0110111001 = 441 -- [ 1  0 -1  0 -1 -2 -3 -2 -1 -2] -- 0\n",
      "0110111010 = 442 -- [ 1  0 -1  0 -1 -2 -3 -2 -3 -2] -- 0\n",
      "0110111011 = 443 -- [ 1  0 -1  0 -1 -2 -3 -2 -3 -4] -- 0\n",
      "0110111100 = 444 -- [ 1  0 -1  0 -1 -2 -3 -4 -3 -2] -- 0\n",
      "0110111101 = 445 -- [ 1  0 -1  0 -1 -2 -3 -4 -3 -4] -- 0\n",
      "0110111110 = 446 -- [ 1  0 -1  0 -1 -2 -3 -4 -5 -4] -- 0\n",
      "0110111111 = 447 -- [ 1  0 -1  0 -1 -2 -3 -4 -5 -6] -- 0\n",
      "0111000000 = 448 -- [ 1  0 -1 -2 -1  0  1  2  3  4] -- 0\n",
      "0111000001 = 449 -- [ 1  0 -1 -2 -1  0  1  2  3  2] -- 0\n",
      "0111000010 = 450 -- [ 1  0 -1 -2 -1  0  1  2  1  2] -- 0\n",
      "0111000011 = 451 -- [ 1  0 -1 -2 -1  0  1  2  1  0] -- 0\n",
      "0111000100 = 452 -- [ 1  0 -1 -2 -1  0  1  0  1  2] -- 0\n",
      "0111000101 = 453 -- [ 1  0 -1 -2 -1  0  1  0  1  0] -- 0\n",
      "0111000110 = 454 -- [ 1  0 -1 -2 -1  0  1  0 -1  0] -- 0\n",
      "0111000111 = 455 -- [ 1  0 -1 -2 -1  0  1  0 -1 -2] -- 0\n",
      "0111001000 = 456 -- [ 1  0 -1 -2 -1  0 -1  0  1  2] -- 0\n",
      "0111001001 = 457 -- [ 1  0 -1 -2 -1  0 -1  0  1  0] -- 0\n",
      "0111001010 = 458 -- [ 1  0 -1 -2 -1  0 -1  0 -1  0] -- 0\n",
      "0111001011 = 459 -- [ 1  0 -1 -2 -1  0 -1  0 -1 -2] -- 0\n",
      "0111001100 = 460 -- [ 1  0 -1 -2 -1  0 -1 -2 -1  0] -- 0\n",
      "0111001101 = 461 -- [ 1  0 -1 -2 -1  0 -1 -2 -1 -2] -- 0\n",
      "0111001110 = 462 -- [ 1  0 -1 -2 -1  0 -1 -2 -3 -2] -- 0\n",
      "0111001111 = 463 -- [ 1  0 -1 -2 -1  0 -1 -2 -3 -4] -- 0\n",
      "0111010000 = 464 -- [ 1  0 -1 -2 -1 -2 -1  0  1  2] -- 0\n",
      "0111010001 = 465 -- [ 1  0 -1 -2 -1 -2 -1  0  1  0] -- 0\n",
      "0111010010 = 466 -- [ 1  0 -1 -2 -1 -2 -1  0 -1  0] -- 0\n",
      "0111010011 = 467 -- [ 1  0 -1 -2 -1 -2 -1  0 -1 -2] -- 0\n",
      "0111010100 = 468 -- [ 1  0 -1 -2 -1 -2 -1 -2 -1  0] -- 0\n",
      "0111010101 = 469 -- [ 1  0 -1 -2 -1 -2 -1 -2 -1 -2] -- 0\n",
      "0111010110 = 470 -- [ 1  0 -1 -2 -1 -2 -1 -2 -3 -2] -- 0\n",
      "0111010111 = 471 -- [ 1  0 -1 -2 -1 -2 -1 -2 -3 -4] -- 0\n",
      "0111011000 = 472 -- [ 1  0 -1 -2 -1 -2 -3 -2 -1  0] -- 0\n",
      "0111011001 = 473 -- [ 1  0 -1 -2 -1 -2 -3 -2 -1 -2] -- 0\n",
      "0111011010 = 474 -- [ 1  0 -1 -2 -1 -2 -3 -2 -3 -2] -- 0\n",
      "0111011011 = 475 -- [ 1  0 -1 -2 -1 -2 -3 -2 -3 -4] -- 0\n",
      "0111011100 = 476 -- [ 1  0 -1 -2 -1 -2 -3 -4 -3 -2] -- 0\n",
      "0111011101 = 477 -- [ 1  0 -1 -2 -1 -2 -3 -4 -3 -4] -- 0\n",
      "0111011110 = 478 -- [ 1  0 -1 -2 -1 -2 -3 -4 -5 -4] -- 0\n",
      "0111011111 = 479 -- [ 1  0 -1 -2 -1 -2 -3 -4 -5 -6] -- 0\n",
      "0111100000 = 480 -- [ 1  0 -1 -2 -3 -2 -1  0  1  2] -- 0\n",
      "0111100001 = 481 -- [ 1  0 -1 -2 -3 -2 -1  0  1  0] -- 0\n",
      "0111100010 = 482 -- [ 1  0 -1 -2 -3 -2 -1  0 -1  0] -- 0\n",
      "0111100011 = 483 -- [ 1  0 -1 -2 -3 -2 -1  0 -1 -2] -- 0\n",
      "0111100100 = 484 -- [ 1  0 -1 -2 -3 -2 -1 -2 -1  0] -- 0\n",
      "0111100101 = 485 -- [ 1  0 -1 -2 -3 -2 -1 -2 -1 -2] -- 0\n",
      "0111100110 = 486 -- [ 1  0 -1 -2 -3 -2 -1 -2 -3 -2] -- 0\n",
      "0111100111 = 487 -- [ 1  0 -1 -2 -3 -2 -1 -2 -3 -4] -- 0\n",
      "0111101000 = 488 -- [ 1  0 -1 -2 -3 -2 -3 -2 -1  0] -- 0\n",
      "0111101001 = 489 -- [ 1  0 -1 -2 -3 -2 -3 -2 -1 -2] -- 0\n",
      "0111101010 = 490 -- [ 1  0 -1 -2 -3 -2 -3 -2 -3 -2] -- 0\n",
      "0111101011 = 491 -- [ 1  0 -1 -2 -3 -2 -3 -2 -3 -4] -- 0\n",
      "0111101100 = 492 -- [ 1  0 -1 -2 -3 -2 -3 -4 -3 -2] -- 0\n",
      "0111101101 = 493 -- [ 1  0 -1 -2 -3 -2 -3 -4 -3 -4] -- 0\n",
      "0111101110 = 494 -- [ 1  0 -1 -2 -3 -2 -3 -4 -5 -4] -- 0\n",
      "0111101111 = 495 -- [ 1  0 -1 -2 -3 -2 -3 -4 -5 -6] -- 0\n",
      "0111110000 = 496 -- [ 1  0 -1 -2 -3 -4 -3 -2 -1  0] -- 0\n",
      "0111110001 = 497 -- [ 1  0 -1 -2 -3 -4 -3 -2 -1 -2] -- 0\n",
      "0111110010 = 498 -- [ 1  0 -1 -2 -3 -4 -3 -2 -3 -2] -- 0\n",
      "0111110011 = 499 -- [ 1  0 -1 -2 -3 -4 -3 -2 -3 -4] -- 0\n",
      "0111110100 = 500 -- [ 1  0 -1 -2 -3 -4 -3 -4 -3 -2] -- 0\n",
      "0111110101 = 501 -- [ 1  0 -1 -2 -3 -4 -3 -4 -3 -4] -- 0\n",
      "0111110110 = 502 -- [ 1  0 -1 -2 -3 -4 -3 -4 -5 -4] -- 0\n",
      "0111110111 = 503 -- [ 1  0 -1 -2 -3 -4 -3 -4 -5 -6] -- 0\n",
      "0111111000 = 504 -- [ 1  0 -1 -2 -3 -4 -5 -4 -3 -2] -- 0\n",
      "0111111001 = 505 -- [ 1  0 -1 -2 -3 -4 -5 -4 -3 -4] -- 0\n",
      "0111111010 = 506 -- [ 1  0 -1 -2 -3 -4 -5 -4 -5 -4] -- 0\n",
      "0111111011 = 507 -- [ 1  0 -1 -2 -3 -4 -5 -4 -5 -6] -- 0\n",
      "0111111100 = 508 -- [ 1  0 -1 -2 -3 -4 -5 -6 -5 -4] -- 0\n",
      "0111111101 = 509 -- [ 1  0 -1 -2 -3 -4 -5 -6 -5 -6] -- 0\n",
      "0111111110 = 510 -- [ 1  0 -1 -2 -3 -4 -5 -6 -7 -6] -- 0\n",
      "0111111111 = 511 -- [ 1  0 -1 -2 -3 -4 -5 -6 -7 -8] -- 0\n",
      "1000000000 = 512 -- [-1  0  1  2  3  4  5  6  7  8] -- 0\n",
      "1000000001 = 513 -- [-1  0  1  2  3  4  5  6  7  6] -- 0\n",
      "1000000010 = 514 -- [-1  0  1  2  3  4  5  6  5  6] -- 0\n",
      "1000000011 = 515 -- [-1  0  1  2  3  4  5  6  5  4] -- 0\n",
      "1000000100 = 516 -- [-1  0  1  2  3  4  5  4  5  6] -- 0\n",
      "1000000101 = 517 -- [-1  0  1  2  3  4  5  4  5  4] -- 0\n",
      "1000000110 = 518 -- [-1  0  1  2  3  4  5  4  3  4] -- 0\n",
      "1000000111 = 519 -- [-1  0  1  2  3  4  5  4  3  2] -- 0\n",
      "1000001000 = 520 -- [-1  0  1  2  3  4  3  4  5  6] -- 0\n",
      "1000001001 = 521 -- [-1  0  1  2  3  4  3  4  5  4] -- 0\n",
      "1000001010 = 522 -- [-1  0  1  2  3  4  3  4  3  4] -- 0\n",
      "1000001011 = 523 -- [-1  0  1  2  3  4  3  4  3  2] -- 0\n",
      "1000001100 = 524 -- [-1  0  1  2  3  4  3  2  3  4] -- 0\n",
      "1000001101 = 525 -- [-1  0  1  2  3  4  3  2  3  2] -- 0\n",
      "1000001110 = 526 -- [-1  0  1  2  3  4  3  2  1  2] -- 0\n",
      "1000001111 = 527 -- [-1  0  1  2  3  4  3  2  1  0] -- 0\n",
      "1000010000 = 528 -- [-1  0  1  2  3  2  3  4  5  6] -- 0\n",
      "1000010001 = 529 -- [-1  0  1  2  3  2  3  4  5  4] -- 0\n",
      "1000010010 = 530 -- [-1  0  1  2  3  2  3  4  3  4] -- 0\n",
      "1000010011 = 531 -- [-1  0  1  2  3  2  3  4  3  2] -- 0\n",
      "1000010100 = 532 -- [-1  0  1  2  3  2  3  2  3  4] -- 0\n",
      "1000010101 = 533 -- [-1  0  1  2  3  2  3  2  3  2] -- 0\n",
      "1000010110 = 534 -- [-1  0  1  2  3  2  3  2  1  2] -- 0\n",
      "1000010111 = 535 -- [-1  0  1  2  3  2  3  2  1  0] -- 0\n",
      "1000011000 = 536 -- [-1  0  1  2  3  2  1  2  3  4] -- 0\n",
      "1000011001 = 537 -- [-1  0  1  2  3  2  1  2  3  2] -- 0\n",
      "1000011010 = 538 -- [-1  0  1  2  3  2  1  2  1  2] -- 0\n",
      "1000011011 = 539 -- [-1  0  1  2  3  2  1  2  1  0] -- 0\n",
      "1000011100 = 540 -- [-1  0  1  2  3  2  1  0  1  2] -- 0\n",
      "1000011101 = 541 -- [-1  0  1  2  3  2  1  0  1  0] -- 0\n",
      "1000011110 = 542 -- [-1  0  1  2  3  2  1  0 -1  0] -- 0\n",
      "1000011111 = 543 -- [-1  0  1  2  3  2  1  0 -1 -2] -- 0\n",
      "1000100000 = 544 -- [-1  0  1  2  1  2  3  4  5  6] -- 0\n",
      "1000100001 = 545 -- [-1  0  1  2  1  2  3  4  5  4] -- 0\n",
      "1000100010 = 546 -- [-1  0  1  2  1  2  3  4  3  4] -- 0\n",
      "1000100011 = 547 -- [-1  0  1  2  1  2  3  4  3  2] -- 0\n",
      "1000100100 = 548 -- [-1  0  1  2  1  2  3  2  3  4] -- 0\n",
      "1000100101 = 549 -- [-1  0  1  2  1  2  3  2  3  2] -- 0\n",
      "1000100110 = 550 -- [-1  0  1  2  1  2  3  2  1  2] -- 0\n",
      "1000100111 = 551 -- [-1  0  1  2  1  2  3  2  1  0] -- 0\n",
      "1000101000 = 552 -- [-1  0  1  2  1  2  1  2  3  4] -- 0\n",
      "1000101001 = 553 -- [-1  0  1  2  1  2  1  2  3  2] -- 0\n",
      "1000101010 = 554 -- [-1  0  1  2  1  2  1  2  1  2] -- 0\n",
      "1000101011 = 555 -- [-1  0  1  2  1  2  1  2  1  0] -- 0\n",
      "1000101100 = 556 -- [-1  0  1  2  1  2  1  0  1  2] -- 0\n",
      "1000101101 = 557 -- [-1  0  1  2  1  2  1  0  1  0] -- 0\n",
      "1000101110 = 558 -- [-1  0  1  2  1  2  1  0 -1  0] -- 0\n",
      "1000101111 = 559 -- [-1  0  1  2  1  2  1  0 -1 -2] -- 0\n",
      "1000110000 = 560 -- [-1  0  1  2  1  0  1  2  3  4] -- 0\n",
      "1000110001 = 561 -- [-1  0  1  2  1  0  1  2  3  2] -- 0\n",
      "1000110010 = 562 -- [-1  0  1  2  1  0  1  2  1  2] -- 0\n",
      "1000110011 = 563 -- [-1  0  1  2  1  0  1  2  1  0] -- 0\n",
      "1000110100 = 564 -- [-1  0  1  2  1  0  1  0  1  2] -- 0\n",
      "1000110101 = 565 -- [-1  0  1  2  1  0  1  0  1  0] -- 0\n",
      "1000110110 = 566 -- [-1  0  1  2  1  0  1  0 -1  0] -- 0\n",
      "1000110111 = 567 -- [-1  0  1  2  1  0  1  0 -1 -2] -- 0\n",
      "1000111000 = 568 -- [-1  0  1  2  1  0 -1  0  1  2] -- 0\n",
      "1000111001 = 569 -- [-1  0  1  2  1  0 -1  0  1  0] -- 0\n",
      "1000111010 = 570 -- [-1  0  1  2  1  0 -1  0 -1  0] -- 0\n",
      "1000111011 = 571 -- [-1  0  1  2  1  0 -1  0 -1 -2] -- 0\n",
      "1000111100 = 572 -- [-1  0  1  2  1  0 -1 -2 -1  0] -- 0\n",
      "1000111101 = 573 -- [-1  0  1  2  1  0 -1 -2 -1 -2] -- 0\n",
      "1000111110 = 574 -- [-1  0  1  2  1  0 -1 -2 -3 -2] -- 0\n",
      "1000111111 = 575 -- [-1  0  1  2  1  0 -1 -2 -3 -4] -- 0\n",
      "1001000000 = 576 -- [-1  0  1  0  1  2  3  4  5  6] -- 0\n",
      "1001000001 = 577 -- [-1  0  1  0  1  2  3  4  5  4] -- 0\n",
      "1001000010 = 578 -- [-1  0  1  0  1  2  3  4  3  4] -- 0\n",
      "1001000011 = 579 -- [-1  0  1  0  1  2  3  4  3  2] -- 0\n",
      "1001000100 = 580 -- [-1  0  1  0  1  2  3  2  3  4] -- 0\n",
      "1001000101 = 581 -- [-1  0  1  0  1  2  3  2  3  2] -- 0\n",
      "1001000110 = 582 -- [-1  0  1  0  1  2  3  2  1  2] -- 0\n",
      "1001000111 = 583 -- [-1  0  1  0  1  2  3  2  1  0] -- 0\n",
      "1001001000 = 584 -- [-1  0  1  0  1  2  1  2  3  4] -- 0\n",
      "1001001001 = 585 -- [-1  0  1  0  1  2  1  2  3  2] -- 0\n",
      "1001001010 = 586 -- [-1  0  1  0  1  2  1  2  1  2] -- 0\n",
      "1001001011 = 587 -- [-1  0  1  0  1  2  1  2  1  0] -- 0\n",
      "1001001100 = 588 -- [-1  0  1  0  1  2  1  0  1  2] -- 0\n",
      "1001001101 = 589 -- [-1  0  1  0  1  2  1  0  1  0] -- 0\n",
      "1001001110 = 590 -- [-1  0  1  0  1  2  1  0 -1  0] -- 0\n",
      "1001001111 = 591 -- [-1  0  1  0  1  2  1  0 -1 -2] -- 0\n",
      "1001010000 = 592 -- [-1  0  1  0  1  0  1  2  3  4] -- 0\n",
      "1001010001 = 593 -- [-1  0  1  0  1  0  1  2  3  2] -- 0\n",
      "1001010010 = 594 -- [-1  0  1  0  1  0  1  2  1  2] -- 0\n",
      "1001010011 = 595 -- [-1  0  1  0  1  0  1  2  1  0] -- 0\n",
      "1001010100 = 596 -- [-1  0  1  0  1  0  1  0  1  2] -- 0\n",
      "1001010101 = 597 -- [-1  0  1  0  1  0  1  0  1  0] -- 0\n",
      "1001010110 = 598 -- [-1  0  1  0  1  0  1  0 -1  0] -- 0\n",
      "1001010111 = 599 -- [-1  0  1  0  1  0  1  0 -1 -2] -- 0\n",
      "1001011000 = 600 -- [-1  0  1  0  1  0 -1  0  1  2] -- 0\n",
      "1001011001 = 601 -- [-1  0  1  0  1  0 -1  0  1  0] -- 0\n",
      "1001011010 = 602 -- [-1  0  1  0  1  0 -1  0 -1  0] -- 0\n",
      "1001011011 = 603 -- [-1  0  1  0  1  0 -1  0 -1 -2] -- 0\n",
      "1001011100 = 604 -- [-1  0  1  0  1  0 -1 -2 -1  0] -- 0\n",
      "1001011101 = 605 -- [-1  0  1  0  1  0 -1 -2 -1 -2] -- 0\n",
      "1001011110 = 606 -- [-1  0  1  0  1  0 -1 -2 -3 -2] -- 0\n",
      "1001011111 = 607 -- [-1  0  1  0  1  0 -1 -2 -3 -4] -- 0\n",
      "1001100000 = 608 -- [-1  0  1  0 -1  0  1  2  3  4] -- 0\n",
      "1001100001 = 609 -- [-1  0  1  0 -1  0  1  2  3  2] -- 0\n",
      "1001100010 = 610 -- [-1  0  1  0 -1  0  1  2  1  2] -- 0\n",
      "1001100011 = 611 -- [-1  0  1  0 -1  0  1  2  1  0] -- 0\n",
      "1001100100 = 612 -- [-1  0  1  0 -1  0  1  0  1  2] -- 0\n",
      "1001100101 = 613 -- [-1  0  1  0 -1  0  1  0  1  0] -- 0\n",
      "1001100110 = 614 -- [-1  0  1  0 -1  0  1  0 -1  0] -- 0\n",
      "1001100111 = 615 -- [-1  0  1  0 -1  0  1  0 -1 -2] -- 0\n",
      "1001101000 = 616 -- [-1  0  1  0 -1  0 -1  0  1  2] -- 0\n",
      "1001101001 = 617 -- [-1  0  1  0 -1  0 -1  0  1  0] -- 0\n",
      "1001101010 = 618 -- [-1  0  1  0 -1  0 -1  0 -1  0] -- 0\n",
      "1001101011 = 619 -- [-1  0  1  0 -1  0 -1  0 -1 -2] -- 0\n",
      "1001101100 = 620 -- [-1  0  1  0 -1  0 -1 -2 -1  0] -- 0\n",
      "1001101101 = 621 -- [-1  0  1  0 -1  0 -1 -2 -1 -2] -- 0\n",
      "1001101110 = 622 -- [-1  0  1  0 -1  0 -1 -2 -3 -2] -- 0\n",
      "1001101111 = 623 -- [-1  0  1  0 -1  0 -1 -2 -3 -4] -- 0\n",
      "1001110000 = 624 -- [-1  0  1  0 -1 -2 -1  0  1  2] -- 0\n",
      "1001110001 = 625 -- [-1  0  1  0 -1 -2 -1  0  1  0] -- 0\n",
      "1001110010 = 626 -- [-1  0  1  0 -1 -2 -1  0 -1  0] -- 0\n",
      "1001110011 = 627 -- [-1  0  1  0 -1 -2 -1  0 -1 -2] -- 0\n",
      "1001110100 = 628 -- [-1  0  1  0 -1 -2 -1 -2 -1  0] -- 0\n",
      "1001110101 = 629 -- [-1  0  1  0 -1 -2 -1 -2 -1 -2] -- 0\n",
      "1001110110 = 630 -- [-1  0  1  0 -1 -2 -1 -2 -3 -2] -- 0\n",
      "1001110111 = 631 -- [-1  0  1  0 -1 -2 -1 -2 -3 -4] -- 0\n",
      "1001111000 = 632 -- [-1  0  1  0 -1 -2 -3 -2 -1  0] -- 0\n",
      "1001111001 = 633 -- [-1  0  1  0 -1 -2 -3 -2 -1 -2] -- 0\n",
      "1001111010 = 634 -- [-1  0  1  0 -1 -2 -3 -2 -3 -2] -- 0\n",
      "1001111011 = 635 -- [-1  0  1  0 -1 -2 -3 -2 -3 -4] -- 0\n",
      "1001111100 = 636 -- [-1  0  1  0 -1 -2 -3 -4 -3 -2] -- 0\n",
      "1001111101 = 637 -- [-1  0  1  0 -1 -2 -3 -4 -3 -4] -- 0\n",
      "1001111110 = 638 -- [-1  0  1  0 -1 -2 -3 -4 -5 -4] -- 0\n",
      "1001111111 = 639 -- [-1  0  1  0 -1 -2 -3 -4 -5 -6] -- 0\n",
      "1010000000 = 640 -- [-1  0 -1  0  1  2  3  4  5  6] -- 0\n",
      "1010000001 = 641 -- [-1  0 -1  0  1  2  3  4  5  4] -- 0\n",
      "1010000010 = 642 -- [-1  0 -1  0  1  2  3  4  3  4] -- 0\n",
      "1010000011 = 643 -- [-1  0 -1  0  1  2  3  4  3  2] -- 0\n",
      "1010000100 = 644 -- [-1  0 -1  0  1  2  3  2  3  4] -- 0\n",
      "1010000101 = 645 -- [-1  0 -1  0  1  2  3  2  3  2] -- 0\n",
      "1010000110 = 646 -- [-1  0 -1  0  1  2  3  2  1  2] -- 0\n",
      "1010000111 = 647 -- [-1  0 -1  0  1  2  3  2  1  0] -- 0\n",
      "1010001000 = 648 -- [-1  0 -1  0  1  2  1  2  3  4] -- 0\n",
      "1010001001 = 649 -- [-1  0 -1  0  1  2  1  2  3  2] -- 0\n",
      "1010001010 = 650 -- [-1  0 -1  0  1  2  1  2  1  2] -- 0\n",
      "1010001011 = 651 -- [-1  0 -1  0  1  2  1  2  1  0] -- 0\n",
      "1010001100 = 652 -- [-1  0 -1  0  1  2  1  0  1  2] -- 0\n",
      "1010001101 = 653 -- [-1  0 -1  0  1  2  1  0  1  0] -- 0\n",
      "1010001110 = 654 -- [-1  0 -1  0  1  2  1  0 -1  0] -- 0\n",
      "1010001111 = 655 -- [-1  0 -1  0  1  2  1  0 -1 -2] -- 0\n",
      "1010010000 = 656 -- [-1  0 -1  0  1  0  1  2  3  4] -- 0\n",
      "1010010001 = 657 -- [-1  0 -1  0  1  0  1  2  3  2] -- 0\n",
      "1010010010 = 658 -- [-1  0 -1  0  1  0  1  2  1  2] -- 0\n",
      "1010010011 = 659 -- [-1  0 -1  0  1  0  1  2  1  0] -- 0\n",
      "1010010100 = 660 -- [-1  0 -1  0  1  0  1  0  1  2] -- 0\n",
      "1010010101 = 661 -- [-1  0 -1  0  1  0  1  0  1  0] -- 0\n",
      "1010010110 = 662 -- [-1  0 -1  0  1  0  1  0 -1  0] -- 0\n",
      "1010010111 = 663 -- [-1  0 -1  0  1  0  1  0 -1 -2] -- 0\n",
      "1010011000 = 664 -- [-1  0 -1  0  1  0 -1  0  1  2] -- 0\n",
      "1010011001 = 665 -- [-1  0 -1  0  1  0 -1  0  1  0] -- 0\n",
      "1010011010 = 666 -- [-1  0 -1  0  1  0 -1  0 -1  0] -- 0\n",
      "1010011011 = 667 -- [-1  0 -1  0  1  0 -1  0 -1 -2] -- 0\n",
      "1010011100 = 668 -- [-1  0 -1  0  1  0 -1 -2 -1  0] -- 0\n",
      "1010011101 = 669 -- [-1  0 -1  0  1  0 -1 -2 -1 -2] -- 0\n",
      "1010011110 = 670 -- [-1  0 -1  0  1  0 -1 -2 -3 -2] -- 0\n",
      "1010011111 = 671 -- [-1  0 -1  0  1  0 -1 -2 -3 -4] -- 0\n",
      "1010100000 = 672 -- [-1  0 -1  0 -1  0  1  2  3  4] -- 0\n",
      "1010100001 = 673 -- [-1  0 -1  0 -1  0  1  2  3  2] -- 0\n",
      "1010100010 = 674 -- [-1  0 -1  0 -1  0  1  2  1  2] -- 0\n",
      "1010100011 = 675 -- [-1  0 -1  0 -1  0  1  2  1  0] -- 0\n",
      "1010100100 = 676 -- [-1  0 -1  0 -1  0  1  0  1  2] -- 0\n",
      "1010100101 = 677 -- [-1  0 -1  0 -1  0  1  0  1  0] -- 0\n",
      "1010100110 = 678 -- [-1  0 -1  0 -1  0  1  0 -1  0] -- 0\n",
      "1010100111 = 679 -- [-1  0 -1  0 -1  0  1  0 -1 -2] -- 0\n",
      "1010101000 = 680 -- [-1  0 -1  0 -1  0 -1  0  1  2] -- 0\n",
      "1010101001 = 681 -- [-1  0 -1  0 -1  0 -1  0  1  0] -- 0\n",
      "1010101010 = 682 -- [-1  0 -1  0 -1  0 -1  0 -1  0] -- 0\n",
      "1010101011 = 683 -- [-1  0 -1  0 -1  0 -1  0 -1 -2] -- 0\n",
      "1010101100 = 684 -- [-1  0 -1  0 -1  0 -1 -2 -1  0] -- 0\n",
      "1010101101 = 685 -- [-1  0 -1  0 -1  0 -1 -2 -1 -2] -- 0\n",
      "1010101110 = 686 -- [-1  0 -1  0 -1  0 -1 -2 -3 -2] -- 0\n",
      "1010101111 = 687 -- [-1  0 -1  0 -1  0 -1 -2 -3 -4] -- 0\n",
      "1010110000 = 688 -- [-1  0 -1  0 -1 -2 -1  0  1  2] -- 0\n",
      "1010110001 = 689 -- [-1  0 -1  0 -1 -2 -1  0  1  0] -- 0\n",
      "1010110010 = 690 -- [-1  0 -1  0 -1 -2 -1  0 -1  0] -- 0\n",
      "1010110011 = 691 -- [-1  0 -1  0 -1 -2 -1  0 -1 -2] -- 0\n",
      "1010110100 = 692 -- [-1  0 -1  0 -1 -2 -1 -2 -1  0] -- 0\n",
      "1010110101 = 693 -- [-1  0 -1  0 -1 -2 -1 -2 -1 -2] -- 0\n",
      "1010110110 = 694 -- [-1  0 -1  0 -1 -2 -1 -2 -3 -2] -- 0\n",
      "1010110111 = 695 -- [-1  0 -1  0 -1 -2 -1 -2 -3 -4] -- 0\n",
      "1010111000 = 696 -- [-1  0 -1  0 -1 -2 -3 -2 -1  0] -- 0\n",
      "1010111001 = 697 -- [-1  0 -1  0 -1 -2 -3 -2 -1 -2] -- 0\n",
      "1010111010 = 698 -- [-1  0 -1  0 -1 -2 -3 -2 -3 -2] -- 0\n",
      "1010111011 = 699 -- [-1  0 -1  0 -1 -2 -3 -2 -3 -4] -- 0\n",
      "1010111100 = 700 -- [-1  0 -1  0 -1 -2 -3 -4 -3 -2] -- 0\n",
      "1010111101 = 701 -- [-1  0 -1  0 -1 -2 -3 -4 -3 -4] -- 0\n",
      "1010111110 = 702 -- [-1  0 -1  0 -1 -2 -3 -4 -5 -4] -- 0\n",
      "1010111111 = 703 -- [-1  0 -1  0 -1 -2 -3 -4 -5 -6] -- 0\n",
      "1011000000 = 704 -- [-1  0 -1 -2 -1  0  1  2  3  4] -- 0\n",
      "1011000001 = 705 -- [-1  0 -1 -2 -1  0  1  2  3  2] -- 0\n",
      "1011000010 = 706 -- [-1  0 -1 -2 -1  0  1  2  1  2] -- 0\n",
      "1011000011 = 707 -- [-1  0 -1 -2 -1  0  1  2  1  0] -- 0\n",
      "1011000100 = 708 -- [-1  0 -1 -2 -1  0  1  0  1  2] -- 0\n",
      "1011000101 = 709 -- [-1  0 -1 -2 -1  0  1  0  1  0] -- 0\n",
      "1011000110 = 710 -- [-1  0 -1 -2 -1  0  1  0 -1  0] -- 0\n",
      "1011000111 = 711 -- [-1  0 -1 -2 -1  0  1  0 -1 -2] -- 0\n",
      "1011001000 = 712 -- [-1  0 -1 -2 -1  0 -1  0  1  2] -- 0\n",
      "1011001001 = 713 -- [-1  0 -1 -2 -1  0 -1  0  1  0] -- 0\n",
      "1011001010 = 714 -- [-1  0 -1 -2 -1  0 -1  0 -1  0] -- 0\n",
      "1011001011 = 715 -- [-1  0 -1 -2 -1  0 -1  0 -1 -2] -- 0\n",
      "1011001100 = 716 -- [-1  0 -1 -2 -1  0 -1 -2 -1  0] -- 0\n",
      "1011001101 = 717 -- [-1  0 -1 -2 -1  0 -1 -2 -1 -2] -- 0\n",
      "1011001110 = 718 -- [-1  0 -1 -2 -1  0 -1 -2 -3 -2] -- 0\n",
      "1011001111 = 719 -- [-1  0 -1 -2 -1  0 -1 -2 -3 -4] -- 0\n",
      "1011010000 = 720 -- [-1  0 -1 -2 -1 -2 -1  0  1  2] -- 0\n",
      "1011010001 = 721 -- [-1  0 -1 -2 -1 -2 -1  0  1  0] -- 0\n",
      "1011010010 = 722 -- [-1  0 -1 -2 -1 -2 -1  0 -1  0] -- 0\n",
      "1011010011 = 723 -- [-1  0 -1 -2 -1 -2 -1  0 -1 -2] -- 0\n",
      "1011010100 = 724 -- [-1  0 -1 -2 -1 -2 -1 -2 -1  0] -- 0\n",
      "1011010101 = 725 -- [-1  0 -1 -2 -1 -2 -1 -2 -1 -2] -- 0\n",
      "1011010110 = 726 -- [-1  0 -1 -2 -1 -2 -1 -2 -3 -2] -- 0\n",
      "1011010111 = 727 -- [-1  0 -1 -2 -1 -2 -1 -2 -3 -4] -- 0\n",
      "1011011000 = 728 -- [-1  0 -1 -2 -1 -2 -3 -2 -1  0] -- 0\n",
      "1011011001 = 729 -- [-1  0 -1 -2 -1 -2 -3 -2 -1 -2] -- 0\n",
      "1011011010 = 730 -- [-1  0 -1 -2 -1 -2 -3 -2 -3 -2] -- 0\n",
      "1011011011 = 731 -- [-1  0 -1 -2 -1 -2 -3 -2 -3 -4] -- 0\n",
      "1011011100 = 732 -- [-1  0 -1 -2 -1 -2 -3 -4 -3 -2] -- 0\n",
      "1011011101 = 733 -- [-1  0 -1 -2 -1 -2 -3 -4 -3 -4] -- 0\n",
      "1011011110 = 734 -- [-1  0 -1 -2 -1 -2 -3 -4 -5 -4] -- 0\n",
      "1011011111 = 735 -- [-1  0 -1 -2 -1 -2 -3 -4 -5 -6] -- 0\n",
      "1011100000 = 736 -- [-1  0 -1 -2 -3 -2 -1  0  1  2] -- 0\n",
      "1011100001 = 737 -- [-1  0 -1 -2 -3 -2 -1  0  1  0] -- 0\n",
      "1011100010 = 738 -- [-1  0 -1 -2 -3 -2 -1  0 -1  0] -- 0\n",
      "1011100011 = 739 -- [-1  0 -1 -2 -3 -2 -1  0 -1 -2] -- 0\n",
      "1011100100 = 740 -- [-1  0 -1 -2 -3 -2 -1 -2 -1  0] -- 0\n",
      "1011100101 = 741 -- [-1  0 -1 -2 -3 -2 -1 -2 -1 -2] -- 0\n",
      "1011100110 = 742 -- [-1  0 -1 -2 -3 -2 -1 -2 -3 -2] -- 0\n",
      "1011100111 = 743 -- [-1  0 -1 -2 -3 -2 -1 -2 -3 -4] -- 0\n",
      "1011101000 = 744 -- [-1  0 -1 -2 -3 -2 -3 -2 -1  0] -- 0\n",
      "1011101001 = 745 -- [-1  0 -1 -2 -3 -2 -3 -2 -1 -2] -- 0\n",
      "1011101010 = 746 -- [-1  0 -1 -2 -3 -2 -3 -2 -3 -2] -- 0\n",
      "1011101011 = 747 -- [-1  0 -1 -2 -3 -2 -3 -2 -3 -4] -- 0\n",
      "1011101100 = 748 -- [-1  0 -1 -2 -3 -2 -3 -4 -3 -2] -- 0\n",
      "1011101101 = 749 -- [-1  0 -1 -2 -3 -2 -3 -4 -3 -4] -- 0\n",
      "1011101110 = 750 -- [-1  0 -1 -2 -3 -2 -3 -4 -5 -4] -- 0\n",
      "1011101111 = 751 -- [-1  0 -1 -2 -3 -2 -3 -4 -5 -6] -- 0\n",
      "1011110000 = 752 -- [-1  0 -1 -2 -3 -4 -3 -2 -1  0] -- 0\n",
      "1011110001 = 753 -- [-1  0 -1 -2 -3 -4 -3 -2 -1 -2] -- 0\n",
      "1011110010 = 754 -- [-1  0 -1 -2 -3 -4 -3 -2 -3 -2] -- 0\n",
      "1011110011 = 755 -- [-1  0 -1 -2 -3 -4 -3 -2 -3 -4] -- 0\n",
      "1011110100 = 756 -- [-1  0 -1 -2 -3 -4 -3 -4 -3 -2] -- 0\n",
      "1011110101 = 757 -- [-1  0 -1 -2 -3 -4 -3 -4 -3 -4] -- 0\n",
      "1011110110 = 758 -- [-1  0 -1 -2 -3 -4 -3 -4 -5 -4] -- 0\n",
      "1011110111 = 759 -- [-1  0 -1 -2 -3 -4 -3 -4 -5 -6] -- 0\n",
      "1011111000 = 760 -- [-1  0 -1 -2 -3 -4 -5 -4 -3 -2] -- 0\n",
      "1011111001 = 761 -- [-1  0 -1 -2 -3 -4 -5 -4 -3 -4] -- 0\n",
      "1011111010 = 762 -- [-1  0 -1 -2 -3 -4 -5 -4 -5 -4] -- 0\n",
      "1011111011 = 763 -- [-1  0 -1 -2 -3 -4 -5 -4 -5 -6] -- 0\n",
      "1011111100 = 764 -- [-1  0 -1 -2 -3 -4 -5 -6 -5 -4] -- 0\n",
      "1011111101 = 765 -- [-1  0 -1 -2 -3 -4 -5 -6 -5 -6] -- 0\n",
      "1011111110 = 766 -- [-1  0 -1 -2 -3 -4 -5 -6 -7 -6] -- 0\n",
      "1011111111 = 767 -- [-1  0 -1 -2 -3 -4 -5 -6 -7 -8] -- 0\n",
      "1100000000 = 768 -- [-1 -2 -1  0  1  2  3  4  5  6] -- 0\n",
      "1100000001 = 769 -- [-1 -2 -1  0  1  2  3  4  5  4] -- 0\n",
      "1100000010 = 770 -- [-1 -2 -1  0  1  2  3  4  3  4] -- 0\n",
      "1100000011 = 771 -- [-1 -2 -1  0  1  2  3  4  3  2] -- 0\n",
      "1100000100 = 772 -- [-1 -2 -1  0  1  2  3  2  3  4] -- 0\n",
      "1100000101 = 773 -- [-1 -2 -1  0  1  2  3  2  3  2] -- 0\n",
      "1100000110 = 774 -- [-1 -2 -1  0  1  2  3  2  1  2] -- 0\n",
      "1100000111 = 775 -- [-1 -2 -1  0  1  2  3  2  1  0] -- 0\n",
      "1100001000 = 776 -- [-1 -2 -1  0  1  2  1  2  3  4] -- 0\n",
      "1100001001 = 777 -- [-1 -2 -1  0  1  2  1  2  3  2] -- 0\n",
      "1100001010 = 778 -- [-1 -2 -1  0  1  2  1  2  1  2] -- 0\n",
      "1100001011 = 779 -- [-1 -2 -1  0  1  2  1  2  1  0] -- 0\n",
      "1100001100 = 780 -- [-1 -2 -1  0  1  2  1  0  1  2] -- 0\n",
      "1100001101 = 781 -- [-1 -2 -1  0  1  2  1  0  1  0] -- 0\n",
      "1100001110 = 782 -- [-1 -2 -1  0  1  2  1  0 -1  0] -- 0\n",
      "1100001111 = 783 -- [-1 -2 -1  0  1  2  1  0 -1 -2] -- 0\n",
      "1100010000 = 784 -- [-1 -2 -1  0  1  0  1  2  3  4] -- 0\n",
      "1100010001 = 785 -- [-1 -2 -1  0  1  0  1  2  3  2] -- 0\n",
      "1100010010 = 786 -- [-1 -2 -1  0  1  0  1  2  1  2] -- 0\n",
      "1100010011 = 787 -- [-1 -2 -1  0  1  0  1  2  1  0] -- 0\n",
      "1100010100 = 788 -- [-1 -2 -1  0  1  0  1  0  1  2] -- 0\n",
      "1100010101 = 789 -- [-1 -2 -1  0  1  0  1  0  1  0] -- 0\n",
      "1100010110 = 790 -- [-1 -2 -1  0  1  0  1  0 -1  0] -- 0\n",
      "1100010111 = 791 -- [-1 -2 -1  0  1  0  1  0 -1 -2] -- 0\n",
      "1100011000 = 792 -- [-1 -2 -1  0  1  0 -1  0  1  2] -- 0\n",
      "1100011001 = 793 -- [-1 -2 -1  0  1  0 -1  0  1  0] -- 0\n",
      "1100011010 = 794 -- [-1 -2 -1  0  1  0 -1  0 -1  0] -- 0\n",
      "1100011011 = 795 -- [-1 -2 -1  0  1  0 -1  0 -1 -2] -- 0\n",
      "1100011100 = 796 -- [-1 -2 -1  0  1  0 -1 -2 -1  0] -- 0\n",
      "1100011101 = 797 -- [-1 -2 -1  0  1  0 -1 -2 -1 -2] -- 0\n",
      "1100011110 = 798 -- [-1 -2 -1  0  1  0 -1 -2 -3 -2] -- 0\n",
      "1100011111 = 799 -- [-1 -2 -1  0  1  0 -1 -2 -3 -4] -- 0\n",
      "1100100000 = 800 -- [-1 -2 -1  0 -1  0  1  2  3  4] -- 0\n",
      "1100100001 = 801 -- [-1 -2 -1  0 -1  0  1  2  3  2] -- 0\n",
      "1100100010 = 802 -- [-1 -2 -1  0 -1  0  1  2  1  2] -- 0\n",
      "1100100011 = 803 -- [-1 -2 -1  0 -1  0  1  2  1  0] -- 0\n",
      "1100100100 = 804 -- [-1 -2 -1  0 -1  0  1  0  1  2] -- 0\n",
      "1100100101 = 805 -- [-1 -2 -1  0 -1  0  1  0  1  0] -- 0\n",
      "1100100110 = 806 -- [-1 -2 -1  0 -1  0  1  0 -1  0] -- 0\n",
      "1100100111 = 807 -- [-1 -2 -1  0 -1  0  1  0 -1 -2] -- 0\n",
      "1100101000 = 808 -- [-1 -2 -1  0 -1  0 -1  0  1  2] -- 0\n",
      "1100101001 = 809 -- [-1 -2 -1  0 -1  0 -1  0  1  0] -- 0\n",
      "1100101010 = 810 -- [-1 -2 -1  0 -1  0 -1  0 -1  0] -- 0\n",
      "1100101011 = 811 -- [-1 -2 -1  0 -1  0 -1  0 -1 -2] -- 0\n",
      "1100101100 = 812 -- [-1 -2 -1  0 -1  0 -1 -2 -1  0] -- 0\n",
      "1100101101 = 813 -- [-1 -2 -1  0 -1  0 -1 -2 -1 -2] -- 0\n",
      "1100101110 = 814 -- [-1 -2 -1  0 -1  0 -1 -2 -3 -2] -- 0\n",
      "1100101111 = 815 -- [-1 -2 -1  0 -1  0 -1 -2 -3 -4] -- 0\n",
      "1100110000 = 816 -- [-1 -2 -1  0 -1 -2 -1  0  1  2] -- 0\n",
      "1100110001 = 817 -- [-1 -2 -1  0 -1 -2 -1  0  1  0] -- 0\n",
      "1100110010 = 818 -- [-1 -2 -1  0 -1 -2 -1  0 -1  0] -- 0\n",
      "1100110011 = 819 -- [-1 -2 -1  0 -1 -2 -1  0 -1 -2] -- 0\n",
      "1100110100 = 820 -- [-1 -2 -1  0 -1 -2 -1 -2 -1  0] -- 0\n",
      "1100110101 = 821 -- [-1 -2 -1  0 -1 -2 -1 -2 -1 -2] -- 0\n",
      "1100110110 = 822 -- [-1 -2 -1  0 -1 -2 -1 -2 -3 -2] -- 0\n",
      "1100110111 = 823 -- [-1 -2 -1  0 -1 -2 -1 -2 -3 -4] -- 0\n",
      "1100111000 = 824 -- [-1 -2 -1  0 -1 -2 -3 -2 -1  0] -- 0\n",
      "1100111001 = 825 -- [-1 -2 -1  0 -1 -2 -3 -2 -1 -2] -- 0\n",
      "1100111010 = 826 -- [-1 -2 -1  0 -1 -2 -3 -2 -3 -2] -- 0\n",
      "1100111011 = 827 -- [-1 -2 -1  0 -1 -2 -3 -2 -3 -4] -- 0\n",
      "1100111100 = 828 -- [-1 -2 -1  0 -1 -2 -3 -4 -3 -2] -- 0\n",
      "1100111101 = 829 -- [-1 -2 -1  0 -1 -2 -3 -4 -3 -4] -- 0\n",
      "1100111110 = 830 -- [-1 -2 -1  0 -1 -2 -3 -4 -5 -4] -- 0\n",
      "1100111111 = 831 -- [-1 -2 -1  0 -1 -2 -3 -4 -5 -6] -- 0\n",
      "1101000000 = 832 -- [-1 -2 -1 -2 -1  0  1  2  3  4] -- 0\n",
      "1101000001 = 833 -- [-1 -2 -1 -2 -1  0  1  2  3  2] -- 0\n",
      "1101000010 = 834 -- [-1 -2 -1 -2 -1  0  1  2  1  2] -- 0\n",
      "1101000011 = 835 -- [-1 -2 -1 -2 -1  0  1  2  1  0] -- 0\n",
      "1101000100 = 836 -- [-1 -2 -1 -2 -1  0  1  0  1  2] -- 0\n",
      "1101000101 = 837 -- [-1 -2 -1 -2 -1  0  1  0  1  0] -- 0\n",
      "1101000110 = 838 -- [-1 -2 -1 -2 -1  0  1  0 -1  0] -- 0\n",
      "1101000111 = 839 -- [-1 -2 -1 -2 -1  0  1  0 -1 -2] -- 0\n",
      "1101001000 = 840 -- [-1 -2 -1 -2 -1  0 -1  0  1  2] -- 0\n",
      "1101001001 = 841 -- [-1 -2 -1 -2 -1  0 -1  0  1  0] -- 0\n",
      "1101001010 = 842 -- [-1 -2 -1 -2 -1  0 -1  0 -1  0] -- 0\n",
      "1101001011 = 843 -- [-1 -2 -1 -2 -1  0 -1  0 -1 -2] -- 0\n",
      "1101001100 = 844 -- [-1 -2 -1 -2 -1  0 -1 -2 -1  0] -- 0\n",
      "1101001101 = 845 -- [-1 -2 -1 -2 -1  0 -1 -2 -1 -2] -- 0\n",
      "1101001110 = 846 -- [-1 -2 -1 -2 -1  0 -1 -2 -3 -2] -- 0\n",
      "1101001111 = 847 -- [-1 -2 -1 -2 -1  0 -1 -2 -3 -4] -- 0\n",
      "1101010000 = 848 -- [-1 -2 -1 -2 -1 -2 -1  0  1  2] -- 0\n",
      "1101010001 = 849 -- [-1 -2 -1 -2 -1 -2 -1  0  1  0] -- 0\n",
      "1101010010 = 850 -- [-1 -2 -1 -2 -1 -2 -1  0 -1  0] -- 0\n",
      "1101010011 = 851 -- [-1 -2 -1 -2 -1 -2 -1  0 -1 -2] -- 0\n",
      "1101010100 = 852 -- [-1 -2 -1 -2 -1 -2 -1 -2 -1  0] -- 0\n",
      "1101010101 = 853 -- [-1 -2 -1 -2 -1 -2 -1 -2 -1 -2] -- 0\n",
      "1101010110 = 854 -- [-1 -2 -1 -2 -1 -2 -1 -2 -3 -2] -- 0\n",
      "1101010111 = 855 -- [-1 -2 -1 -2 -1 -2 -1 -2 -3 -4] -- 0\n",
      "1101011000 = 856 -- [-1 -2 -1 -2 -1 -2 -3 -2 -1  0] -- 0\n",
      "1101011001 = 857 -- [-1 -2 -1 -2 -1 -2 -3 -2 -1 -2] -- 0\n",
      "1101011010 = 858 -- [-1 -2 -1 -2 -1 -2 -3 -2 -3 -2] -- 0\n",
      "1101011011 = 859 -- [-1 -2 -1 -2 -1 -2 -3 -2 -3 -4] -- 0\n",
      "1101011100 = 860 -- [-1 -2 -1 -2 -1 -2 -3 -4 -3 -2] -- 0\n",
      "1101011101 = 861 -- [-1 -2 -1 -2 -1 -2 -3 -4 -3 -4] -- 0\n",
      "1101011110 = 862 -- [-1 -2 -1 -2 -1 -2 -3 -4 -5 -4] -- 0\n",
      "1101011111 = 863 -- [-1 -2 -1 -2 -1 -2 -3 -4 -5 -6] -- 0\n",
      "1101100000 = 864 -- [-1 -2 -1 -2 -3 -2 -1  0  1  2] -- 0\n",
      "1101100001 = 865 -- [-1 -2 -1 -2 -3 -2 -1  0  1  0] -- 0\n",
      "1101100010 = 866 -- [-1 -2 -1 -2 -3 -2 -1  0 -1  0] -- 0\n",
      "1101100011 = 867 -- [-1 -2 -1 -2 -3 -2 -1  0 -1 -2] -- 0\n",
      "1101100100 = 868 -- [-1 -2 -1 -2 -3 -2 -1 -2 -1  0] -- 0\n",
      "1101100101 = 869 -- [-1 -2 -1 -2 -3 -2 -1 -2 -1 -2] -- 0\n",
      "1101100110 = 870 -- [-1 -2 -1 -2 -3 -2 -1 -2 -3 -2] -- 0\n",
      "1101100111 = 871 -- [-1 -2 -1 -2 -3 -2 -1 -2 -3 -4] -- 0\n",
      "1101101000 = 872 -- [-1 -2 -1 -2 -3 -2 -3 -2 -1  0] -- 0\n",
      "1101101001 = 873 -- [-1 -2 -1 -2 -3 -2 -3 -2 -1 -2] -- 0\n",
      "1101101010 = 874 -- [-1 -2 -1 -2 -3 -2 -3 -2 -3 -2] -- 0\n",
      "1101101011 = 875 -- [-1 -2 -1 -2 -3 -2 -3 -2 -3 -4] -- 0\n",
      "1101101100 = 876 -- [-1 -2 -1 -2 -3 -2 -3 -4 -3 -2] -- 0\n",
      "1101101101 = 877 -- [-1 -2 -1 -2 -3 -2 -3 -4 -3 -4] -- 0\n",
      "1101101110 = 878 -- [-1 -2 -1 -2 -3 -2 -3 -4 -5 -4] -- 0\n",
      "1101101111 = 879 -- [-1 -2 -1 -2 -3 -2 -3 -4 -5 -6] -- 0\n",
      "1101110000 = 880 -- [-1 -2 -1 -2 -3 -4 -3 -2 -1  0] -- 0\n",
      "1101110001 = 881 -- [-1 -2 -1 -2 -3 -4 -3 -2 -1 -2] -- 0\n",
      "1101110010 = 882 -- [-1 -2 -1 -2 -3 -4 -3 -2 -3 -2] -- 0\n",
      "1101110011 = 883 -- [-1 -2 -1 -2 -3 -4 -3 -2 -3 -4] -- 0\n",
      "1101110100 = 884 -- [-1 -2 -1 -2 -3 -4 -3 -4 -3 -2] -- 0\n",
      "1101110101 = 885 -- [-1 -2 -1 -2 -3 -4 -3 -4 -3 -4] -- 0\n",
      "1101110110 = 886 -- [-1 -2 -1 -2 -3 -4 -3 -4 -5 -4] -- 0\n",
      "1101110111 = 887 -- [-1 -2 -1 -2 -3 -4 -3 -4 -5 -6] -- 0\n",
      "1101111000 = 888 -- [-1 -2 -1 -2 -3 -4 -5 -4 -3 -2] -- 0\n",
      "1101111001 = 889 -- [-1 -2 -1 -2 -3 -4 -5 -4 -3 -4] -- 0\n",
      "1101111010 = 890 -- [-1 -2 -1 -2 -3 -4 -5 -4 -5 -4] -- 0\n",
      "1101111011 = 891 -- [-1 -2 -1 -2 -3 -4 -5 -4 -5 -6] -- 0\n",
      "1101111100 = 892 -- [-1 -2 -1 -2 -3 -4 -5 -6 -5 -4] -- 0\n",
      "1101111101 = 893 -- [-1 -2 -1 -2 -3 -4 -5 -6 -5 -6] -- 0\n",
      "1101111110 = 894 -- [-1 -2 -1 -2 -3 -4 -5 -6 -7 -6] -- 0\n",
      "1101111111 = 895 -- [-1 -2 -1 -2 -3 -4 -5 -6 -7 -8] -- 0\n",
      "1110000000 = 896 -- [-1 -2 -3 -2 -1  0  1  2  3  4] -- 0\n",
      "1110000001 = 897 -- [-1 -2 -3 -2 -1  0  1  2  3  2] -- 0\n",
      "1110000010 = 898 -- [-1 -2 -3 -2 -1  0  1  2  1  2] -- 0\n",
      "1110000011 = 899 -- [-1 -2 -3 -2 -1  0  1  2  1  0] -- 0\n",
      "1110000100 = 900 -- [-1 -2 -3 -2 -1  0  1  0  1  2] -- 0\n",
      "1110000101 = 901 -- [-1 -2 -3 -2 -1  0  1  0  1  0] -- 0\n",
      "1110000110 = 902 -- [-1 -2 -3 -2 -1  0  1  0 -1  0] -- 0\n",
      "1110000111 = 903 -- [-1 -2 -3 -2 -1  0  1  0 -1 -2] -- 0\n",
      "1110001000 = 904 -- [-1 -2 -3 -2 -1  0 -1  0  1  2] -- 0\n",
      "1110001001 = 905 -- [-1 -2 -3 -2 -1  0 -1  0  1  0] -- 0\n",
      "1110001010 = 906 -- [-1 -2 -3 -2 -1  0 -1  0 -1  0] -- 0\n",
      "1110001011 = 907 -- [-1 -2 -3 -2 -1  0 -1  0 -1 -2] -- 0\n",
      "1110001100 = 908 -- [-1 -2 -3 -2 -1  0 -1 -2 -1  0] -- 0\n",
      "1110001101 = 909 -- [-1 -2 -3 -2 -1  0 -1 -2 -1 -2] -- 0\n",
      "1110001110 = 910 -- [-1 -2 -3 -2 -1  0 -1 -2 -3 -2] -- 0\n",
      "1110001111 = 911 -- [-1 -2 -3 -2 -1  0 -1 -2 -3 -4] -- 0\n",
      "1110010000 = 912 -- [-1 -2 -3 -2 -1 -2 -1  0  1  2] -- 0\n",
      "1110010001 = 913 -- [-1 -2 -3 -2 -1 -2 -1  0  1  0] -- 0\n",
      "1110010010 = 914 -- [-1 -2 -3 -2 -1 -2 -1  0 -1  0] -- 0\n",
      "1110010011 = 915 -- [-1 -2 -3 -2 -1 -2 -1  0 -1 -2] -- 0\n",
      "1110010100 = 916 -- [-1 -2 -3 -2 -1 -2 -1 -2 -1  0] -- 0\n",
      "1110010101 = 917 -- [-1 -2 -3 -2 -1 -2 -1 -2 -1 -2] -- 0\n",
      "1110010110 = 918 -- [-1 -2 -3 -2 -1 -2 -1 -2 -3 -2] -- 0\n",
      "1110010111 = 919 -- [-1 -2 -3 -2 -1 -2 -1 -2 -3 -4] -- 0\n",
      "1110011000 = 920 -- [-1 -2 -3 -2 -1 -2 -3 -2 -1  0] -- 0\n",
      "1110011001 = 921 -- [-1 -2 -3 -2 -1 -2 -3 -2 -1 -2] -- 0\n",
      "1110011010 = 922 -- [-1 -2 -3 -2 -1 -2 -3 -2 -3 -2] -- 0\n",
      "1110011011 = 923 -- [-1 -2 -3 -2 -1 -2 -3 -2 -3 -4] -- 0\n",
      "1110011100 = 924 -- [-1 -2 -3 -2 -1 -2 -3 -4 -3 -2] -- 0\n",
      "1110011101 = 925 -- [-1 -2 -3 -2 -1 -2 -3 -4 -3 -4] -- 0\n",
      "1110011110 = 926 -- [-1 -2 -3 -2 -1 -2 -3 -4 -5 -4] -- 0\n",
      "1110011111 = 927 -- [-1 -2 -3 -2 -1 -2 -3 -4 -5 -6] -- 0\n",
      "1110100000 = 928 -- [-1 -2 -3 -2 -3 -2 -1  0  1  2] -- 0\n",
      "1110100001 = 929 -- [-1 -2 -3 -2 -3 -2 -1  0  1  0] -- 0\n",
      "1110100010 = 930 -- [-1 -2 -3 -2 -3 -2 -1  0 -1  0] -- 0\n",
      "1110100011 = 931 -- [-1 -2 -3 -2 -3 -2 -1  0 -1 -2] -- 0\n",
      "1110100100 = 932 -- [-1 -2 -3 -2 -3 -2 -1 -2 -1  0] -- 0\n",
      "1110100101 = 933 -- [-1 -2 -3 -2 -3 -2 -1 -2 -1 -2] -- 0\n",
      "1110100110 = 934 -- [-1 -2 -3 -2 -3 -2 -1 -2 -3 -2] -- 0\n",
      "1110100111 = 935 -- [-1 -2 -3 -2 -3 -2 -1 -2 -3 -4] -- 0\n",
      "1110101000 = 936 -- [-1 -2 -3 -2 -3 -2 -3 -2 -1  0] -- 0\n",
      "1110101001 = 937 -- [-1 -2 -3 -2 -3 -2 -3 -2 -1 -2] -- 0\n",
      "1110101010 = 938 -- [-1 -2 -3 -2 -3 -2 -3 -2 -3 -2] -- 0\n",
      "1110101011 = 939 -- [-1 -2 -3 -2 -3 -2 -3 -2 -3 -4] -- 0\n",
      "1110101100 = 940 -- [-1 -2 -3 -2 -3 -2 -3 -4 -3 -2] -- 0\n",
      "1110101101 = 941 -- [-1 -2 -3 -2 -3 -2 -3 -4 -3 -4] -- 0\n",
      "1110101110 = 942 -- [-1 -2 -3 -2 -3 -2 -3 -4 -5 -4] -- 0\n",
      "1110101111 = 943 -- [-1 -2 -3 -2 -3 -2 -3 -4 -5 -6] -- 0\n",
      "1110110000 = 944 -- [-1 -2 -3 -2 -3 -4 -3 -2 -1  0] -- 0\n",
      "1110110001 = 945 -- [-1 -2 -3 -2 -3 -4 -3 -2 -1 -2] -- 0\n",
      "1110110010 = 946 -- [-1 -2 -3 -2 -3 -4 -3 -2 -3 -2] -- 0\n",
      "1110110011 = 947 -- [-1 -2 -3 -2 -3 -4 -3 -2 -3 -4] -- 0\n",
      "1110110100 = 948 -- [-1 -2 -3 -2 -3 -4 -3 -4 -3 -2] -- 0\n",
      "1110110101 = 949 -- [-1 -2 -3 -2 -3 -4 -3 -4 -3 -4] -- 0\n",
      "1110110110 = 950 -- [-1 -2 -3 -2 -3 -4 -3 -4 -5 -4] -- 0\n",
      "1110110111 = 951 -- [-1 -2 -3 -2 -3 -4 -3 -4 -5 -6] -- 0\n",
      "1110111000 = 952 -- [-1 -2 -3 -2 -3 -4 -5 -4 -3 -2] -- 0\n",
      "1110111001 = 953 -- [-1 -2 -3 -2 -3 -4 -5 -4 -3 -4] -- 0\n",
      "1110111010 = 954 -- [-1 -2 -3 -2 -3 -4 -5 -4 -5 -4] -- 0\n",
      "1110111011 = 955 -- [-1 -2 -3 -2 -3 -4 -5 -4 -5 -6] -- 0\n",
      "1110111100 = 956 -- [-1 -2 -3 -2 -3 -4 -5 -6 -5 -4] -- 0\n",
      "1110111101 = 957 -- [-1 -2 -3 -2 -3 -4 -5 -6 -5 -6] -- 0\n",
      "1110111110 = 958 -- [-1 -2 -3 -2 -3 -4 -5 -6 -7 -6] -- 0\n",
      "1110111111 = 959 -- [-1 -2 -3 -2 -3 -4 -5 -6 -7 -8] -- 0\n",
      "1111000000 = 960 -- [-1 -2 -3 -4 -3 -2 -1  0  1  2] -- 0\n",
      "1111000001 = 961 -- [-1 -2 -3 -4 -3 -2 -1  0  1  0] -- 0\n",
      "1111000010 = 962 -- [-1 -2 -3 -4 -3 -2 -1  0 -1  0] -- 0\n",
      "1111000011 = 963 -- [-1 -2 -3 -4 -3 -2 -1  0 -1 -2] -- 0\n",
      "1111000100 = 964 -- [-1 -2 -3 -4 -3 -2 -1 -2 -1  0] -- 0\n",
      "1111000101 = 965 -- [-1 -2 -3 -4 -3 -2 -1 -2 -1 -2] -- 0\n",
      "1111000110 = 966 -- [-1 -2 -3 -4 -3 -2 -1 -2 -3 -2] -- 0\n",
      "1111000111 = 967 -- [-1 -2 -3 -4 -3 -2 -1 -2 -3 -4] -- 0\n",
      "1111001000 = 968 -- [-1 -2 -3 -4 -3 -2 -3 -2 -1  0] -- 0\n",
      "1111001001 = 969 -- [-1 -2 -3 -4 -3 -2 -3 -2 -1 -2] -- 0\n",
      "1111001010 = 970 -- [-1 -2 -3 -4 -3 -2 -3 -2 -3 -2] -- 0\n",
      "1111001011 = 971 -- [-1 -2 -3 -4 -3 -2 -3 -2 -3 -4] -- 0\n",
      "1111001100 = 972 -- [-1 -2 -3 -4 -3 -2 -3 -4 -3 -2] -- 0\n",
      "1111001101 = 973 -- [-1 -2 -3 -4 -3 -2 -3 -4 -3 -4] -- 0\n",
      "1111001110 = 974 -- [-1 -2 -3 -4 -3 -2 -3 -4 -5 -4] -- 0\n",
      "1111001111 = 975 -- [-1 -2 -3 -4 -3 -2 -3 -4 -5 -6] -- 0\n",
      "1111010000 = 976 -- [-1 -2 -3 -4 -3 -4 -3 -2 -1  0] -- 0\n",
      "1111010001 = 977 -- [-1 -2 -3 -4 -3 -4 -3 -2 -1 -2] -- 0\n",
      "1111010010 = 978 -- [-1 -2 -3 -4 -3 -4 -3 -2 -3 -2] -- 0\n",
      "1111010011 = 979 -- [-1 -2 -3 -4 -3 -4 -3 -2 -3 -4] -- 0\n",
      "1111010100 = 980 -- [-1 -2 -3 -4 -3 -4 -3 -4 -3 -2] -- 0\n",
      "1111010101 = 981 -- [-1 -2 -3 -4 -3 -4 -3 -4 -3 -4] -- 0\n",
      "1111010110 = 982 -- [-1 -2 -3 -4 -3 -4 -3 -4 -5 -4] -- 0\n",
      "1111010111 = 983 -- [-1 -2 -3 -4 -3 -4 -3 -4 -5 -6] -- 0\n",
      "1111011000 = 984 -- [-1 -2 -3 -4 -3 -4 -5 -4 -3 -2] -- 0\n",
      "1111011001 = 985 -- [-1 -2 -3 -4 -3 -4 -5 -4 -3 -4] -- 0\n",
      "1111011010 = 986 -- [-1 -2 -3 -4 -3 -4 -5 -4 -5 -4] -- 0\n",
      "1111011011 = 987 -- [-1 -2 -3 -4 -3 -4 -5 -4 -5 -6] -- 0\n",
      "1111011100 = 988 -- [-1 -2 -3 -4 -3 -4 -5 -6 -5 -4] -- 0\n",
      "1111011101 = 989 -- [-1 -2 -3 -4 -3 -4 -5 -6 -5 -6] -- 0\n",
      "1111011110 = 990 -- [-1 -2 -3 -4 -3 -4 -5 -6 -7 -6] -- 0\n",
      "1111011111 = 991 -- [-1 -2 -3 -4 -3 -4 -5 -6 -7 -8] -- 0\n",
      "1111100000 = 992 -- [-1 -2 -3 -4 -5 -4 -3 -2 -1  0] -- 0\n",
      "1111100001 = 993 -- [-1 -2 -3 -4 -5 -4 -3 -2 -1 -2] -- 0\n",
      "1111100010 = 994 -- [-1 -2 -3 -4 -5 -4 -3 -2 -3 -2] -- 0\n",
      "1111100011 = 995 -- [-1 -2 -3 -4 -5 -4 -3 -2 -3 -4] -- 0\n",
      "1111100100 = 996 -- [-1 -2 -3 -4 -5 -4 -3 -4 -3 -2] -- 0\n",
      "1111100101 = 997 -- [-1 -2 -3 -4 -5 -4 -3 -4 -3 -4] -- 0\n",
      "1111100110 = 998 -- [-1 -2 -3 -4 -5 -4 -3 -4 -5 -4] -- 0\n",
      "1111100111 = 999 -- [-1 -2 -3 -4 -5 -4 -3 -4 -5 -6] -- 0\n",
      "1111101000 = 1000 -- [-1 -2 -3 -4 -5 -4 -5 -4 -3 -2] -- 0\n",
      "1111101001 = 1001 -- [-1 -2 -3 -4 -5 -4 -5 -4 -3 -4] -- 0\n",
      "1111101010 = 1002 -- [-1 -2 -3 -4 -5 -4 -5 -4 -5 -4] -- 0\n",
      "1111101011 = 1003 -- [-1 -2 -3 -4 -5 -4 -5 -4 -5 -6] -- 0\n",
      "1111101100 = 1004 -- [-1 -2 -3 -4 -5 -4 -5 -6 -5 -4] -- 0\n",
      "1111101101 = 1005 -- [-1 -2 -3 -4 -5 -4 -5 -6 -5 -6] -- 0\n",
      "1111101110 = 1006 -- [-1 -2 -3 -4 -5 -4 -5 -6 -7 -6] -- 0\n",
      "1111101111 = 1007 -- [-1 -2 -3 -4 -5 -4 -5 -6 -7 -8] -- 0\n",
      "1111110000 = 1008 -- [-1 -2 -3 -4 -5 -6 -5 -4 -3 -2] -- 0\n",
      "1111110001 = 1009 -- [-1 -2 -3 -4 -5 -6 -5 -4 -3 -4] -- 0\n",
      "1111110010 = 1010 -- [-1 -2 -3 -4 -5 -6 -5 -4 -5 -4] -- 0\n",
      "1111110011 = 1011 -- [-1 -2 -3 -4 -5 -6 -5 -4 -5 -6] -- 0\n",
      "1111110100 = 1012 -- [-1 -2 -3 -4 -5 -6 -5 -6 -5 -4] -- 0\n",
      "1111110101 = 1013 -- [-1 -2 -3 -4 -5 -6 -5 -6 -5 -6] -- 0\n",
      "1111110110 = 1014 -- [-1 -2 -3 -4 -5 -6 -5 -6 -7 -6] -- 0\n",
      "1111110111 = 1015 -- [-1 -2 -3 -4 -5 -6 -5 -6 -7 -8] -- 0\n",
      "1111111000 = 1016 -- [-1 -2 -3 -4 -5 -6 -7 -6 -5 -4] -- 0\n",
      "1111111001 = 1017 -- [-1 -2 -3 -4 -5 -6 -7 -6 -5 -6] -- 0\n",
      "1111111010 = 1018 -- [-1 -2 -3 -4 -5 -6 -7 -6 -7 -6] -- 0\n",
      "1111111011 = 1019 -- [-1 -2 -3 -4 -5 -6 -7 -6 -7 -8] -- 0\n",
      "1111111100 = 1020 -- [-1 -2 -3 -4 -5 -6 -7 -8 -7 -6] -- 0\n",
      "1111111101 = 1021 -- [-1 -2 -3 -4 -5 -6 -7 -8 -7 -8] -- 0\n",
      "1111111110 = 1022 -- [-1 -2 -3 -4 -5 -6 -7 -8 -9 -8] -- 0\n",
      "1111111111 = 1023 -- [ -1  -2  -3  -4  -5  -6  -7  -8  -9 -10] -- 0\n"
     ]
    }
   ],
   "source": [
    "n = 2*5\n",
    "int_list = []\n",
    "bint_list = []\n",
    "bint_cumsum_list = []\n",
    "isValid_list = []\n",
    "\n",
    "for i in range(2**n):\n",
    "    s = bin(i)[2:].rjust(n, '0')\n",
    "    new_s = s.replace('0','(').replace('1',')')\n",
    "\n",
    "    isValid = int(Solution1().isValid(new_s))\n",
    "    isValid_list.append(isValid)\n",
    "\n",
    "    int_list.append(int(s, 2))\n",
    "\n",
    "    bint = list(map(int, list(s)))\n",
    "    bint_list.append(bint)\n",
    "\n",
    "    bint = np.array(bint)\n",
    "    bint[bint == 1] = -1\n",
    "    bint[bint == 0] = 1\n",
    "    bint_cumsum = np.cumsum(bint)\n",
    "    bint_cumsum_list.append(bint_cumsum)\n",
    "    print(f\"{s} = {int(s, 2)} -- {bint_cumsum} -- {isValid}\")\n",
    "\n",
    "isValid_list = np.array(isValid_list)\n",
    "bint_list = np.array(bint_list)\n",
    "bint_cumsum_list = np.array(bint_cumsum_list)"
   ]
  },
  {
   "cell_type": "code",
   "execution_count": 83,
   "metadata": {},
   "outputs": [
    {
     "data": {
      "text/plain": [
       "(array([[  1,   2,   3, ...,   8,   9,  10],\n",
       "        [  1,   2,   3, ...,   8,   9,   8],\n",
       "        [  1,   2,   3, ...,   8,   7,   8],\n",
       "        ...,\n",
       "        [ -1,  -2,  -3, ...,  -8,  -7,  -8],\n",
       "        [ -1,  -2,  -3, ...,  -8,  -9,  -8],\n",
       "        [ -1,  -2,  -3, ...,  -8,  -9, -10]]),\n",
       " array([0, 0, 0, ..., 0, 0, 0]))"
      ]
     },
     "execution_count": 83,
     "metadata": {},
     "output_type": "execute_result"
    }
   ],
   "source": [
    "X = np.hstack([bint_cumsum_list])\n",
    "y = isValid_list\n",
    "X, y"
   ]
  },
  {
   "cell_type": "code",
   "execution_count": 106,
   "metadata": {},
   "outputs": [],
   "source": [
    "X_train, X_test, y_train, y_test = train_test_split(X, y, test_size=0.30, random_state=42)"
   ]
  },
  {
   "cell_type": "code",
   "execution_count": 107,
   "metadata": {},
   "outputs": [
    {
     "data": {
      "text/html": [
       "<style>#sk-container-id-10 {color: black;}#sk-container-id-10 pre{padding: 0;}#sk-container-id-10 div.sk-toggleable {background-color: white;}#sk-container-id-10 label.sk-toggleable__label {cursor: pointer;display: block;width: 100%;margin-bottom: 0;padding: 0.3em;box-sizing: border-box;text-align: center;}#sk-container-id-10 label.sk-toggleable__label-arrow:before {content: \"▸\";float: left;margin-right: 0.25em;color: #696969;}#sk-container-id-10 label.sk-toggleable__label-arrow:hover:before {color: black;}#sk-container-id-10 div.sk-estimator:hover label.sk-toggleable__label-arrow:before {color: black;}#sk-container-id-10 div.sk-toggleable__content {max-height: 0;max-width: 0;overflow: hidden;text-align: left;background-color: #f0f8ff;}#sk-container-id-10 div.sk-toggleable__content pre {margin: 0.2em;color: black;border-radius: 0.25em;background-color: #f0f8ff;}#sk-container-id-10 input.sk-toggleable__control:checked~div.sk-toggleable__content {max-height: 200px;max-width: 100%;overflow: auto;}#sk-container-id-10 input.sk-toggleable__control:checked~label.sk-toggleable__label-arrow:before {content: \"▾\";}#sk-container-id-10 div.sk-estimator input.sk-toggleable__control:checked~label.sk-toggleable__label {background-color: #d4ebff;}#sk-container-id-10 div.sk-label input.sk-toggleable__control:checked~label.sk-toggleable__label {background-color: #d4ebff;}#sk-container-id-10 input.sk-hidden--visually {border: 0;clip: rect(1px 1px 1px 1px);clip: rect(1px, 1px, 1px, 1px);height: 1px;margin: -1px;overflow: hidden;padding: 0;position: absolute;width: 1px;}#sk-container-id-10 div.sk-estimator {font-family: monospace;background-color: #f0f8ff;border: 1px dotted black;border-radius: 0.25em;box-sizing: border-box;margin-bottom: 0.5em;}#sk-container-id-10 div.sk-estimator:hover {background-color: #d4ebff;}#sk-container-id-10 div.sk-parallel-item::after {content: \"\";width: 100%;border-bottom: 1px solid gray;flex-grow: 1;}#sk-container-id-10 div.sk-label:hover label.sk-toggleable__label {background-color: #d4ebff;}#sk-container-id-10 div.sk-serial::before {content: \"\";position: absolute;border-left: 1px solid gray;box-sizing: border-box;top: 0;bottom: 0;left: 50%;z-index: 0;}#sk-container-id-10 div.sk-serial {display: flex;flex-direction: column;align-items: center;background-color: white;padding-right: 0.2em;padding-left: 0.2em;position: relative;}#sk-container-id-10 div.sk-item {position: relative;z-index: 1;}#sk-container-id-10 div.sk-parallel {display: flex;align-items: stretch;justify-content: center;background-color: white;position: relative;}#sk-container-id-10 div.sk-item::before, #sk-container-id-10 div.sk-parallel-item::before {content: \"\";position: absolute;border-left: 1px solid gray;box-sizing: border-box;top: 0;bottom: 0;left: 50%;z-index: -1;}#sk-container-id-10 div.sk-parallel-item {display: flex;flex-direction: column;z-index: 1;position: relative;background-color: white;}#sk-container-id-10 div.sk-parallel-item:first-child::after {align-self: flex-end;width: 50%;}#sk-container-id-10 div.sk-parallel-item:last-child::after {align-self: flex-start;width: 50%;}#sk-container-id-10 div.sk-parallel-item:only-child::after {width: 0;}#sk-container-id-10 div.sk-dashed-wrapped {border: 1px dashed gray;margin: 0 0.4em 0.5em 0.4em;box-sizing: border-box;padding-bottom: 0.4em;background-color: white;}#sk-container-id-10 div.sk-label label {font-family: monospace;font-weight: bold;display: inline-block;line-height: 1.2em;}#sk-container-id-10 div.sk-label-container {text-align: center;}#sk-container-id-10 div.sk-container {/* jupyter's `normalize.less` sets `[hidden] { display: none; }` but bootstrap.min.css set `[hidden] { display: none !important; }` so we also need the `!important` here to be able to override the default hidden behavior on the sphinx rendered scikit-learn.org. See: https://github.com/scikit-learn/scikit-learn/issues/21755 */display: inline-block !important;position: relative;}#sk-container-id-10 div.sk-text-repr-fallback {display: none;}</style><div id=\"sk-container-id-10\" class=\"sk-top-container\"><div class=\"sk-text-repr-fallback\"><pre>DecisionTreeClassifier()</pre><b>In a Jupyter environment, please rerun this cell to show the HTML representation or trust the notebook. <br />On GitHub, the HTML representation is unable to render, please try loading this page with nbviewer.org.</b></div><div class=\"sk-container\" hidden><div class=\"sk-item\"><div class=\"sk-estimator sk-toggleable\"><input class=\"sk-toggleable__control sk-hidden--visually\" id=\"sk-estimator-id-10\" type=\"checkbox\" checked><label for=\"sk-estimator-id-10\" class=\"sk-toggleable__label sk-toggleable__label-arrow\">DecisionTreeClassifier</label><div class=\"sk-toggleable__content\"><pre>DecisionTreeClassifier()</pre></div></div></div></div></div>"
      ],
      "text/plain": [
       "DecisionTreeClassifier()"
      ]
     },
     "execution_count": 107,
     "metadata": {},
     "output_type": "execute_result"
    }
   ],
   "source": [
    "dt = DecisionTreeClassifier()\n",
    "dt.fit(X_train, y_train)"
   ]
  },
  {
   "cell_type": "code",
   "execution_count": 108,
   "metadata": {},
   "outputs": [],
   "source": [
    "y_pred = dt.predict(X_test)"
   ]
  },
  {
   "cell_type": "code",
   "execution_count": 109,
   "metadata": {},
   "outputs": [
    {
     "data": {
      "text/plain": [
       "1.0"
      ]
     },
     "execution_count": 109,
     "metadata": {},
     "output_type": "execute_result"
    }
   ],
   "source": [
    "dt.score(X_test, y_test)"
   ]
  },
  {
   "cell_type": "code",
   "execution_count": 110,
   "metadata": {},
   "outputs": [
    {
     "data": {
      "text/plain": [
       "array([0.18381154, 0.        , 0.00352557, 0.05870123, 0.00487197,\n",
       "       0.        , 0.1486711 , 0.        , 0.37287577, 0.22754282])"
      ]
     },
     "execution_count": 110,
     "metadata": {},
     "output_type": "execute_result"
    }
   ],
   "source": [
    "dt.feature_importances_"
   ]
  },
  {
   "cell_type": "code",
   "execution_count": 111,
   "metadata": {},
   "outputs": [
    {
     "data": {
      "text/plain": [
       "array([ 1,  2,  1,  0, -1,  0,  1,  2,  1,  0])"
      ]
     },
     "execution_count": 111,
     "metadata": {},
     "output_type": "execute_result"
    }
   ],
   "source": [
    "X_train[0]"
   ]
  },
  {
   "cell_type": "code",
   "execution_count": 115,
   "metadata": {},
   "outputs": [
    {
     "data": {
      "text/plain": [
       "0"
      ]
     },
     "execution_count": 115,
     "metadata": {},
     "output_type": "execute_result"
    }
   ],
   "source": [
    "y_train[0]"
   ]
  },
  {
   "cell_type": "code",
   "execution_count": null,
   "metadata": {},
   "outputs": [],
   "source": []
  }
 ],
 "metadata": {
  "kernelspec": {
   "display_name": "Python 3",
   "language": "python",
   "name": "python3"
  },
  "language_info": {
   "codemirror_mode": {
    "name": "ipython",
    "version": 3
   },
   "file_extension": ".py",
   "mimetype": "text/x-python",
   "name": "python",
   "nbconvert_exporter": "python",
   "pygments_lexer": "ipython3",
   "version": "3.10.8"
  }
 },
 "nbformat": 4,
 "nbformat_minor": 2
}
