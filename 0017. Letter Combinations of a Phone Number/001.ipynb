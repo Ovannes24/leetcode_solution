{
 "cells": [
  {
   "cell_type": "code",
   "execution_count": 1,
   "metadata": {},
   "outputs": [],
   "source": [
    "import numpy as np\n",
    "import matplotlib.pyplot as plt\n",
    "from typing import List"
   ]
  },
  {
   "cell_type": "code",
   "execution_count": 93,
   "metadata": {},
   "outputs": [],
   "source": [
    "class Solution:\n",
    "    def letterCombinations(self, digits: str) -> List[str]:\n",
    "        d = {\n",
    "        \"2\": \"abc\",\n",
    "        \"3\": \"def\",\n",
    "        \"4\": \"ghi\",\n",
    "        \"5\": \"jkl\",\n",
    "        \"6\": \"mno\",\n",
    "        \"7\": \"pqrs\",\n",
    "        \"8\": \"tuv\",\n",
    "        \"9\": \"wxyz\",\n",
    "        }\n",
    "        n = digits\n",
    "        res = list(d[n[0]])\n",
    "\n",
    "        for n_ in n[1:]:\n",
    "            for i in range(len(res)):\n",
    "                res[i] = [ res[i]+d[n_][j]  for j in range(len(d[n_]))]\n",
    "                # print(res)\n",
    "            res = sum(res, [])\n",
    "\n",
    "        return res\n",
    "        "
   ]
  },
  {
   "cell_type": "code",
   "execution_count": 94,
   "metadata": {},
   "outputs": [],
   "source": [
    "n = \"234\""
   ]
  },
  {
   "cell_type": "code",
   "execution_count": 95,
   "metadata": {},
   "outputs": [
    {
     "data": {
      "text/plain": [
       "['adg',\n",
       " 'adh',\n",
       " 'adi',\n",
       " 'aeg',\n",
       " 'aeh',\n",
       " 'aei',\n",
       " 'afg',\n",
       " 'afh',\n",
       " 'afi',\n",
       " 'bdg',\n",
       " 'bdh',\n",
       " 'bdi',\n",
       " 'beg',\n",
       " 'beh',\n",
       " 'bei',\n",
       " 'bfg',\n",
       " 'bfh',\n",
       " 'bfi',\n",
       " 'cdg',\n",
       " 'cdh',\n",
       " 'cdi',\n",
       " 'ceg',\n",
       " 'ceh',\n",
       " 'cei',\n",
       " 'cfg',\n",
       " 'cfh',\n",
       " 'cfi']"
      ]
     },
     "execution_count": 95,
     "metadata": {},
     "output_type": "execute_result"
    }
   ],
   "source": [
    "sol = Solution()\n",
    "res = sol.letterCombinations(n)\n",
    "res"
   ]
  },
  {
   "cell_type": "code",
   "execution_count": null,
   "metadata": {},
   "outputs": [],
   "source": []
  },
  {
   "cell_type": "code",
   "execution_count": 88,
   "metadata": {},
   "outputs": [],
   "source": [
    "d = {\n",
    "    \"2\": \"abc\",\n",
    "    \"3\": \"def\",\n",
    "    \"4\": \"ghi\",\n",
    "    \"5\": \"jkl\",\n",
    "    \"6\": \"mno\",\n",
    "    \"7\": \"pqrs\",\n",
    "    \"8\": \"tuv\",\n",
    "    \"9\": \"wxyz\",\n",
    "}"
   ]
  },
  {
   "cell_type": "code",
   "execution_count": 89,
   "metadata": {},
   "outputs": [
    {
     "name": "stdout",
     "output_type": "stream",
     "text": [
      "[['ad', 'ae', 'af'], 'b', 'c']\n",
      "[['ad', 'ae', 'af'], ['bd', 'be', 'bf'], 'c']\n",
      "[['ad', 'ae', 'af'], ['bd', 'be', 'bf'], ['cd', 'ce', 'cf']]\n",
      "--- ['ad', 'ae', 'af', 'bd', 'be', 'bf', 'cd', 'ce', 'cf']\n",
      "[['adg', 'adh', 'adi'], 'ae', 'af', 'bd', 'be', 'bf', 'cd', 'ce', 'cf']\n",
      "[['adg', 'adh', 'adi'], ['aeg', 'aeh', 'aei'], 'af', 'bd', 'be', 'bf', 'cd', 'ce', 'cf']\n",
      "[['adg', 'adh', 'adi'], ['aeg', 'aeh', 'aei'], ['afg', 'afh', 'afi'], 'bd', 'be', 'bf', 'cd', 'ce', 'cf']\n",
      "[['adg', 'adh', 'adi'], ['aeg', 'aeh', 'aei'], ['afg', 'afh', 'afi'], ['bdg', 'bdh', 'bdi'], 'be', 'bf', 'cd', 'ce', 'cf']\n",
      "[['adg', 'adh', 'adi'], ['aeg', 'aeh', 'aei'], ['afg', 'afh', 'afi'], ['bdg', 'bdh', 'bdi'], ['beg', 'beh', 'bei'], 'bf', 'cd', 'ce', 'cf']\n",
      "[['adg', 'adh', 'adi'], ['aeg', 'aeh', 'aei'], ['afg', 'afh', 'afi'], ['bdg', 'bdh', 'bdi'], ['beg', 'beh', 'bei'], ['bfg', 'bfh', 'bfi'], 'cd', 'ce', 'cf']\n",
      "[['adg', 'adh', 'adi'], ['aeg', 'aeh', 'aei'], ['afg', 'afh', 'afi'], ['bdg', 'bdh', 'bdi'], ['beg', 'beh', 'bei'], ['bfg', 'bfh', 'bfi'], ['cdg', 'cdh', 'cdi'], 'ce', 'cf']\n",
      "[['adg', 'adh', 'adi'], ['aeg', 'aeh', 'aei'], ['afg', 'afh', 'afi'], ['bdg', 'bdh', 'bdi'], ['beg', 'beh', 'bei'], ['bfg', 'bfh', 'bfi'], ['cdg', 'cdh', 'cdi'], ['ceg', 'ceh', 'cei'], 'cf']\n",
      "[['adg', 'adh', 'adi'], ['aeg', 'aeh', 'aei'], ['afg', 'afh', 'afi'], ['bdg', 'bdh', 'bdi'], ['beg', 'beh', 'bei'], ['bfg', 'bfh', 'bfi'], ['cdg', 'cdh', 'cdi'], ['ceg', 'ceh', 'cei'], ['cfg', 'cfh', 'cfi']]\n",
      "--- ['adg', 'adh', 'adi', 'aeg', 'aeh', 'aei', 'afg', 'afh', 'afi', 'bdg', 'bdh', 'bdi', 'beg', 'beh', 'bei', 'bfg', 'bfh', 'bfi', 'cdg', 'cdh', 'cdi', 'ceg', 'ceh', 'cei', 'cfg', 'cfh', 'cfi']\n"
     ]
    }
   ],
   "source": [
    "res = list(d[n[0]])\n",
    "\n",
    "for n_ in n[1:]:\n",
    "    for i in range(len(res)):\n",
    "        res[i] = [ res[i]+d[n_][j]  for j in range(len(d[n_]))]\n",
    "        print(res)\n",
    "    res = sum(res, [])\n",
    "    print(\"---\", res)"
   ]
  },
  {
   "cell_type": "code",
   "execution_count": 82,
   "metadata": {},
   "outputs": [
    {
     "data": {
      "text/plain": [
       "[['ad', 'ae', 'af'], ['bd', 'be', 'bf'], ['cd', 'ce', 'cf']]"
      ]
     },
     "execution_count": 82,
     "metadata": {},
     "output_type": "execute_result"
    }
   ],
   "source": [
    "res"
   ]
  },
  {
   "cell_type": "code",
   "execution_count": 77,
   "metadata": {},
   "outputs": [
    {
     "ename": "TypeError",
     "evalue": "can only concatenate list (not \"str\") to list",
     "output_type": "error",
     "traceback": [
      "\u001b[1;31m---------------------------------------------------------------------------\u001b[0m",
      "\u001b[1;31mTypeError\u001b[0m                                 Traceback (most recent call last)",
      "Cell \u001b[1;32mIn[77], line 1\u001b[0m\n\u001b[1;32m----> 1\u001b[0m \u001b[38;5;28;43msum\u001b[39;49m\u001b[43m(\u001b[49m\u001b[43mres\u001b[49m\u001b[43m,\u001b[49m\u001b[43m \u001b[49m\u001b[43m[\u001b[49m\u001b[43m]\u001b[49m\u001b[43m)\u001b[49m\n",
      "\u001b[1;31mTypeError\u001b[0m: can only concatenate list (not \"str\") to list"
     ]
    }
   ],
   "source": [
    "sum(res, [])"
   ]
  },
  {
   "cell_type": "code",
   "execution_count": null,
   "metadata": {},
   "outputs": [],
   "source": []
  }
 ],
 "metadata": {
  "kernelspec": {
   "display_name": "Python 3",
   "language": "python",
   "name": "python3"
  },
  "language_info": {
   "codemirror_mode": {
    "name": "ipython",
    "version": 3
   },
   "file_extension": ".py",
   "mimetype": "text/x-python",
   "name": "python",
   "nbconvert_exporter": "python",
   "pygments_lexer": "ipython3",
   "version": "3.10.8"
  }
 },
 "nbformat": 4,
 "nbformat_minor": 2
}
