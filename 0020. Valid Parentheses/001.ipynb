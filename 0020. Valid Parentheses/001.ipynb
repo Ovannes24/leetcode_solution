{
 "cells": [
  {
   "cell_type": "code",
   "execution_count": 2,
   "metadata": {},
   "outputs": [],
   "source": [
    "import numpy as np\n",
    "import matplotlib.pyplot as plt\n",
    "from typing import List, Optional"
   ]
  },
  {
   "cell_type": "code",
   "execution_count": 59,
   "metadata": {},
   "outputs": [],
   "source": [
    "class Solution:\n",
    "    def isValid(self, s: str) -> bool:\n",
    "        ss = 0\n",
    "        d = {\n",
    "            '(': 1,\n",
    "            ')': -1,\n",
    "            '[': 1,\n",
    "            ']': -1,\n",
    "            '{': 1,\n",
    "            '}': -1,\n",
    "        }\n",
    "        for i in s:\n",
    "            ss+=d[i]\n",
    "            print(ss)\n",
    "\n",
    "        return ss"
   ]
  },
  {
   "cell_type": "code",
   "execution_count": 70,
   "metadata": {},
   "outputs": [],
   "source": [
    "class Solution:\n",
    "    def isValid(self, s: str) -> bool:\n",
    "        d = {\n",
    "            '(': ')',\n",
    "            '[': ']',\n",
    "            '{': '}',\n",
    "        }\n",
    "\n",
    "        d1 = []\n",
    "        for i in s:\n",
    "            if i in d.keys():\n",
    "                d1.append(d[i])\n",
    "            else:\n",
    "                if d1[-1] == i:\n",
    "                    d1 = d1[:-1]\n",
    "                else:\n",
    "                    return False\n",
    "        return True\n",
    "\n",
    "            \n",
    "\n"
   ]
  },
  {
   "cell_type": "code",
   "execution_count": null,
   "metadata": {},
   "outputs": [],
   "source": [
    "class Solution:\n",
    "    def isValid(self, s: str) -> bool:\n",
    "        d = {\n",
    "            '(': ')',\n",
    "            '[': ']',\n",
    "            '{': '}',\n",
    "        }\n",
    "\n",
    "        d1 = []\n",
    "        for i in s:\n",
    "            if i in d.keys():\n",
    "                d1.append(d[i])\n",
    "            else:\n",
    "                if len(d1) >0:\n",
    "                    if d1[-1] == i:\n",
    "                        d1 = d1[:-1]\n",
    "                    else:\n",
    "                        return False\n",
    "                else: return False\n",
    "\n",
    "        if len(d1) != 0:\n",
    "            return False\n",
    "        return True\n",
    "\n",
    "            \n",
    "\n"
   ]
  },
  {
   "cell_type": "code",
   "execution_count": 71,
   "metadata": {},
   "outputs": [],
   "source": [
    "s = \"((([)))]\""
   ]
  },
  {
   "cell_type": "code",
   "execution_count": 72,
   "metadata": {},
   "outputs": [
    {
     "data": {
      "text/plain": [
       "False"
      ]
     },
     "execution_count": 72,
     "metadata": {},
     "output_type": "execute_result"
    }
   ],
   "source": [
    "sol = Solution()\n",
    "res = sol.isValid(s)\n",
    "res"
   ]
  },
  {
   "cell_type": "code",
   "execution_count": 37,
   "metadata": {},
   "outputs": [
    {
     "data": {
      "text/plain": [
       "'\\n\\n012345\\n({}[])\\n({[]})\\n\\n\\n\\n\\n'"
      ]
     },
     "execution_count": 37,
     "metadata": {},
     "output_type": "execute_result"
    }
   ],
   "source": [
    "\"\"\"\n",
    "(((((())))))\n",
    "0   1    2\n",
    "(\n",
    "    [\n",
    "        {}\n",
    "        {}\n",
    "        {\n",
    "    ]\n",
    "        }\n",
    ")\n",
    "\"\"\""
   ]
  },
  {
   "cell_type": "code",
   "execution_count": null,
   "metadata": {},
   "outputs": [],
   "source": []
  }
 ],
 "metadata": {
  "kernelspec": {
   "display_name": "Python 3",
   "language": "python",
   "name": "python3"
  },
  "language_info": {
   "codemirror_mode": {
    "name": "ipython",
    "version": 3
   },
   "file_extension": ".py",
   "mimetype": "text/x-python",
   "name": "python",
   "nbconvert_exporter": "python",
   "pygments_lexer": "ipython3",
   "version": "3.10.8"
  }
 },
 "nbformat": 4,
 "nbformat_minor": 2
}
