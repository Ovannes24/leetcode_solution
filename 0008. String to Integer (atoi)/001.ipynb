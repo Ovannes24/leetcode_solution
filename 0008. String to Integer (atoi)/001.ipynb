{
 "cells": [
  {
   "cell_type": "code",
   "execution_count": 11,
   "metadata": {},
   "outputs": [],
   "source": [
    "def isDigit(s: str, dot=False, operator=False):\n",
    "    chars = '0123456789'\n",
    "\n",
    "    if s in chars:\n",
    "        return True\n",
    "    else:\n",
    "        return False"
   ]
  },
  {
   "cell_type": "code",
   "execution_count": 46,
   "metadata": {},
   "outputs": [],
   "source": [
    "string = '3.14159'"
   ]
  },
  {
   "cell_type": "code",
   "execution_count": 47,
   "metadata": {},
   "outputs": [
    {
     "name": "stdout",
     "output_type": "stream",
     "text": [
      "3.14159\n"
     ]
    }
   ],
   "source": [
    "dot=False\n",
    "operator=True\n",
    "\n",
    "new_string = ''\n",
    "l_new_string = 0\n",
    "for c in string:\n",
    "    if dot:\n",
    "        if c=='.':\n",
    "            new_string += c\n",
    "            dot=False\n",
    "\n",
    "    if operator:\n",
    "        if c == '+':\n",
    "            new_string += '+'\n",
    "            operator=False\n",
    "        elif c=='-':\n",
    "            new_string += '-'\n",
    "            operator=False\n",
    "\n",
    "    if isDigit(c, dot=dot, operator=operator):\n",
    "        new_string += c\n",
    "        l_new_string+=1\n",
    "\n",
    "        if l_new_string>0 and not dot:\n",
    "            dot=True\n",
    "\n",
    "print(float(new_string)) "
   ]
  },
  {
   "cell_type": "code",
   "execution_count": 66,
   "metadata": {},
   "outputs": [],
   "source": [
    "def myAtoi(s):\n",
    "    def isDigit(s: str, dot=False, operator=False):\n",
    "        chars = '0123456789'\n",
    "\n",
    "        if s in chars:\n",
    "            return True\n",
    "        else:\n",
    "            return False\n",
    "\n",
    "    string = s\n",
    "    dot=False\n",
    "    dotable = False\n",
    "    operator=True\n",
    "\n",
    "    new_string = ''\n",
    "    l_new_string = 0\n",
    "\n",
    "    for c in string:\n",
    "        if dot:\n",
    "            if c=='.':\n",
    "                new_string += c\n",
    "                dot=False\n",
    "                dotable=True\n",
    "        if operator:\n",
    "            if c == '+':\n",
    "                new_string += '+'\n",
    "                operator=False\n",
    "            elif c=='-':\n",
    "                new_string += '-'\n",
    "                operator=False\n",
    "        if isDigit(c, dot=dot, operator=operator):\n",
    "            new_string += c\n",
    "            l_new_string+=1\n",
    "\n",
    "            if l_new_string>0 and not dot:\n",
    "                dot=True\n",
    "        # print(c, l_new_string, dot, operator, new_string)\n",
    "\n",
    "        if c!='+' and c!='-' and c!=' ' and not isDigit(c) and l_new_string==0:\n",
    "            return 0\n",
    "\n",
    "    if float(new_string) < -2147483648:\n",
    "        return -2147483648\n",
    "    if float(new_string) > 2147483648-1:\n",
    "        return 2147483648-1\n",
    "        \n",
    "    if dotable:\n",
    "        return float(new_string)\n",
    "    else:\n",
    "        return int(new_string)"
   ]
  },
  {
   "cell_type": "code",
   "execution_count": 72,
   "metadata": {},
   "outputs": [],
   "source": [
    "string = '+-12'"
   ]
  },
  {
   "cell_type": "code",
   "execution_count": 73,
   "metadata": {},
   "outputs": [
    {
     "data": {
      "text/plain": [
       "12"
      ]
     },
     "execution_count": 73,
     "metadata": {},
     "output_type": "execute_result"
    }
   ],
   "source": [
    "myAtoi(string) // 1"
   ]
  },
  {
   "cell_type": "code",
   "execution_count": 71,
   "metadata": {},
   "outputs": [
    {
     "ename": "ValueError",
     "evalue": "invalid literal for int() with base 10: '+-12'",
     "output_type": "error",
     "traceback": [
      "\u001b[1;31m---------------------------------------------------------------------------\u001b[0m",
      "\u001b[1;31mValueError\u001b[0m                                Traceback (most recent call last)",
      "Cell \u001b[1;32mIn[71], line 1\u001b[0m\n\u001b[1;32m----> 1\u001b[0m \u001b[38;5;28;43mint\u001b[39;49m\u001b[43m(\u001b[49m\u001b[38;5;124;43m'\u001b[39;49m\u001b[38;5;124;43m+-12\u001b[39;49m\u001b[38;5;124;43m'\u001b[39;49m\u001b[43m)\u001b[49m\n",
      "\u001b[1;31mValueError\u001b[0m: invalid literal for int() with base 10: '+-12'"
     ]
    }
   ],
   "source": [
    "int('+-12')"
   ]
  },
  {
   "cell_type": "code",
   "execution_count": 74,
   "metadata": {},
   "outputs": [
    {
     "data": {
      "text/plain": [
       "False"
      ]
     },
     "execution_count": 74,
     "metadata": {},
     "output_type": "execute_result"
    }
   ],
   "source": [
    "all([True, False])"
   ]
  },
  {
   "cell_type": "code",
   "execution_count": 75,
   "metadata": {},
   "outputs": [
    {
     "data": {
      "text/plain": [
       "True"
      ]
     },
     "execution_count": 75,
     "metadata": {},
     "output_type": "execute_result"
    }
   ],
   "source": [
    "any([True, False])"
   ]
  },
  {
   "cell_type": "code",
   "execution_count": 81,
   "metadata": {},
   "outputs": [
    {
     "name": "stdout",
     "output_type": "stream",
     "text": [
      "0\n",
      "1\n",
      "2\n",
      "3\n",
      "4\n",
      "5\n",
      "6\n",
      "7\n",
      "8\n",
      "9\n",
      "Lol\n"
     ]
    }
   ],
   "source": [
    "for i in range(10):\n",
    "    print(i)\n",
    "    if i == i:\n",
    "        continue\n",
    "    print(i)\n",
    "print('Lol')"
   ]
  },
  {
   "cell_type": "code",
   "execution_count": 83,
   "metadata": {},
   "outputs": [
    {
     "data": {
      "text/plain": [
       "1"
      ]
     },
     "execution_count": 83,
     "metadata": {},
     "output_type": "execute_result"
    }
   ],
   "source": [
    "3//2"
   ]
  },
  {
   "cell_type": "code",
   "execution_count": 87,
   "metadata": {},
   "outputs": [
    {
     "name": "stdout",
     "output_type": "stream",
     "text": [
      "lol\n"
     ]
    }
   ],
   "source": [
    "if 1:\n",
    "    print('lol')"
   ]
  },
  {
   "cell_type": "code",
   "execution_count": null,
   "metadata": {},
   "outputs": [],
   "source": []
  }
 ],
 "metadata": {
  "kernelspec": {
   "display_name": "Python 3",
   "language": "python",
   "name": "python3"
  },
  "language_info": {
   "codemirror_mode": {
    "name": "ipython",
    "version": 3
   },
   "file_extension": ".py",
   "mimetype": "text/x-python",
   "name": "python",
   "nbconvert_exporter": "python",
   "pygments_lexer": "ipython3",
   "version": "3.10.8"
  }
 },
 "nbformat": 4,
 "nbformat_minor": 2
}
