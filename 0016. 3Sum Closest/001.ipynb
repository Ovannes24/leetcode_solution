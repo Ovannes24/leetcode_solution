{
 "cells": [
  {
   "cell_type": "code",
   "execution_count": 1,
   "metadata": {},
   "outputs": [],
   "source": [
    "import numpy as np\n",
    "import matplotlib.pyplot as plt\n",
    "from typing import List"
   ]
  },
  {
   "cell_type": "code",
   "execution_count": 4,
   "metadata": {},
   "outputs": [],
   "source": [
    "class Solution:\n",
    "    def threeSumClosest(self, nums: List[int], target: int) -> int:\n",
    "        res = []\n",
    "        nums.sort()\n",
    "\n",
    "        for i in range(len(nums)):\n",
    "            if i > 0 and nums[i] == nums[i-1]:\n",
    "                continue\n",
    "            \n",
    "            j = i + 1\n",
    "            k = len(nums) - 1\n",
    "\n",
    "            while j < k:\n",
    "                total = nums[i] + nums[j] + nums[k]\n",
    "                # print(i, j, k, res)\n",
    "                if total > 0:\n",
    "                    k -= 1\n",
    "                elif total < 0:\n",
    "                    j += 1\n",
    "                else:\n",
    "                    res.append([nums[i], nums[j], nums[k]])\n",
    "                    j += 1\n",
    "\n",
    "                    while nums[j] == nums[j-1] and j < k:\n",
    "                        j += 1\n",
    "        \n",
    "        return res\n"
   ]
  },
  {
   "cell_type": "code",
   "execution_count": 104,
   "metadata": {},
   "outputs": [],
   "source": [
    "class Solution:\n",
    "    def threeSumClosest(self, nums: List[int], target: int) -> int:\n",
    "        res = []\n",
    "        # res1 = 1000000\n",
    "        nums.sort()\n",
    "        isFirst = True\n",
    "        for i in range(len(nums)):\n",
    "            if i > 0 and nums[i] == nums[i-1]:\n",
    "                continue\n",
    "            \n",
    "            j = i + 1\n",
    "            k = len(nums) - 1\n",
    "\n",
    "            while j < k:\n",
    "                total = nums[i] + nums[j] + nums[k]\n",
    "                # print(i, j, k, res)\n",
    "                if isFirst:\n",
    "                    res1 = total\n",
    "                    isFirst = False\n",
    "                print(\n",
    "                    f\"{nums[i], nums[j], nums[k]}\",\n",
    "                    \"\\t\",\n",
    "                    f\"|{total} - {target}| = {abs(total - target)}\", \n",
    "                    '\\t',\n",
    "                    f\"|{res1} - {target}| = {abs(res1 - target)}\",\n",
    "                    '\\t',\n",
    "\n",
    "                )\n",
    "\n",
    "                if total == target:\n",
    "                    return total\n",
    "\n",
    "                if abs(total - target) <  abs(res1 - target):\n",
    "                    res1 = total\n",
    "\n",
    "\n",
    "                if total > target:\n",
    "                    k -= 1\n",
    "                elif total < target:\n",
    "                    j += 1\n",
    "                else:\n",
    "                    # res.append([nums[i], nums[j], nums[k]])\n",
    "                    j += 1\n",
    "                    while nums[j] == nums[j-1] and j < k:\n",
    "                        j += 1\n",
    "        \n",
    "        return res1\n"
   ]
  },
  {
   "cell_type": "code",
   "execution_count": 105,
   "metadata": {},
   "outputs": [],
   "source": [
    "# n = [-1,2,1,-4]\n",
    "# t = 1\n",
    "\n",
    "# n = [0,0,0]\n",
    "# t = 1\n",
    "\n",
    "n = [4,0,5,-5,3,3,0,-4,-5]\n",
    "t = -2"
   ]
  },
  {
   "cell_type": "code",
   "execution_count": 106,
   "metadata": {},
   "outputs": [
    {
     "name": "stdout",
     "output_type": "stream",
     "text": [
      "(-5, -5, 5) \t |-5 - -2| = 3 \t |-5 - -2| = 3 \t\n",
      "(-5, -4, 5) \t |-4 - -2| = 2 \t |-5 - -2| = 3 \t\n",
      "(-5, 0, 5) \t |0 - -2| = 2 \t |-4 - -2| = 2 \t\n",
      "(-5, 0, 4) \t |-1 - -2| = 1 \t |-4 - -2| = 2 \t\n",
      "(-5, 0, 3) \t |-2 - -2| = 0 \t |-1 - -2| = 1 \t\n"
     ]
    },
    {
     "data": {
      "text/plain": [
       "-2"
      ]
     },
     "execution_count": 106,
     "metadata": {},
     "output_type": "execute_result"
    }
   ],
   "source": [
    "sol = Solution()\n",
    "res = sol.threeSumClosest(n, t)\n",
    "res"
   ]
  },
  {
   "cell_type": "code",
   "execution_count": null,
   "metadata": {},
   "outputs": [],
   "source": []
  },
  {
   "cell_type": "code",
   "execution_count": null,
   "metadata": {},
   "outputs": [],
   "source": []
  }
 ],
 "metadata": {
  "kernelspec": {
   "display_name": "Python 3",
   "language": "python",
   "name": "python3"
  },
  "language_info": {
   "codemirror_mode": {
    "name": "ipython",
    "version": 3
   },
   "file_extension": ".py",
   "mimetype": "text/x-python",
   "name": "python",
   "nbconvert_exporter": "python",
   "pygments_lexer": "ipython3",
   "version": "3.10.8"
  }
 },
 "nbformat": 4,
 "nbformat_minor": 2
}
