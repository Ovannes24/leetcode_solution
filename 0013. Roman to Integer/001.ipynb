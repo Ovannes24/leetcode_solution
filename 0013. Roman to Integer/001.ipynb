{
 "cells": [
  {
   "cell_type": "code",
   "execution_count": 2,
   "metadata": {},
   "outputs": [],
   "source": [
    "import numpy as np\n",
    "import matplotlib.pyplot as plt"
   ]
  },
  {
   "cell_type": "code",
   "execution_count": 37,
   "metadata": {},
   "outputs": [],
   "source": [
    "class Solution:\n",
    "    def romanToInt(self, s: str) -> int:\n",
    "        d = {\n",
    "            'I': 1, \n",
    "            'V': 5,    'IV': 4,   \n",
    "            'X': 10,   'IX': 9,   \n",
    "            'L': 50,   'XL': 40,  \n",
    "            'C': 100,  'XC': 90,  \n",
    "            'D': 500,  'CD': 400,  \n",
    "            'M': 1000, 'CM': 900, \n",
    "        }\n",
    "\n",
    "        res = 0 \n",
    "        last_i = 'I'\n",
    "        for i in s[::-1]:\n",
    "            # print(i, d[last_i], d[i], res)\n",
    "            if d[last_i] <= d[i]:\n",
    "                res += d[i]\n",
    "                last_i = i\n",
    "            else:\n",
    "                res -= d[i]\n",
    "\n",
    "        \n",
    "\n",
    "        return res"
   ]
  },
  {
   "cell_type": "code",
   "execution_count": 38,
   "metadata": {},
   "outputs": [],
   "source": [
    "s = \"MCMXCIV\""
   ]
  },
  {
   "cell_type": "code",
   "execution_count": 39,
   "metadata": {},
   "outputs": [
    {
     "data": {
      "text/plain": [
       "1994"
      ]
     },
     "execution_count": 39,
     "metadata": {},
     "output_type": "execute_result"
    }
   ],
   "source": [
    "sol = Solution()\n",
    "sol.romanToInt(s)"
   ]
  },
  {
   "cell_type": "code",
   "execution_count": 5,
   "metadata": {},
   "outputs": [],
   "source": [
    "d = {\n",
    "    'I': 1, \n",
    "    'V': 5,    'IV': 4,   \n",
    "    'X': 10,   'IX': 9,   \n",
    "    'L': 50,   'XL': 40,  \n",
    "    'C': 100,  'XC': 90,  \n",
    "    'D': 500,  'CD': 400,  \n",
    "    'M': 1000, 'CM': 900, \n",
    "}"
   ]
  },
  {
   "cell_type": "code",
   "execution_count": 10,
   "metadata": {},
   "outputs": [
    {
     "data": {
      "text/plain": [
       "True"
      ]
     },
     "execution_count": 10,
     "metadata": {},
     "output_type": "execute_result"
    }
   ],
   "source": [
    "'I' in d.keys()"
   ]
  },
  {
   "cell_type": "code",
   "execution_count": 31,
   "metadata": {},
   "outputs": [],
   "source": [
    "s = \"LVIII\""
   ]
  },
  {
   "cell_type": "code",
   "execution_count": 32,
   "metadata": {},
   "outputs": [
    {
     "name": "stdout",
     "output_type": "stream",
     "text": [
      "I 1 1 0\n",
      "I 1 1 1\n",
      "I 1 1 2\n",
      "V 1 5 3\n",
      "L 5 50 8\n"
     ]
    },
    {
     "data": {
      "text/plain": [
       "58"
      ]
     },
     "execution_count": 32,
     "metadata": {},
     "output_type": "execute_result"
    }
   ],
   "source": [
    "res = 0 \n",
    "last_i = 'I'\n",
    "for i in s[::-1]:\n",
    "    print(i, d[last_i], d[i], res)\n",
    "    if d[last_i] <= d[i]:\n",
    "        res += d[i]\n",
    "        last_i = i\n",
    "    else:\n",
    "        res -= d[i]\n",
    "\n",
    "res"
   ]
  },
  {
   "cell_type": "code",
   "execution_count": null,
   "metadata": {},
   "outputs": [],
   "source": []
  }
 ],
 "metadata": {
  "kernelspec": {
   "display_name": "Python 3",
   "language": "python",
   "name": "python3"
  },
  "language_info": {
   "codemirror_mode": {
    "name": "ipython",
    "version": 3
   },
   "file_extension": ".py",
   "mimetype": "text/x-python",
   "name": "python",
   "nbconvert_exporter": "python",
   "pygments_lexer": "ipython3",
   "version": "3.10.8"
  }
 },
 "nbformat": 4,
 "nbformat_minor": 2
}
