{
 "cells": [
  {
   "cell_type": "code",
   "execution_count": 2,
   "metadata": {},
   "outputs": [],
   "source": [
    "import numpy as np\n",
    "import matplotlib.pyplot as plt\n",
    "from typing import List, Optional"
   ]
  },
  {
   "cell_type": "code",
   "execution_count": 9,
   "metadata": {},
   "outputs": [],
   "source": [
    "class Solution:\n",
    "    def divide(self, dividend: int, divisor: int) -> int:\n",
    "        if dividend == 0:\n",
    "            return 0\n",
    "\n",
    "        res = dividend//divisor\n",
    "        if res >= 0:\n",
    "            return res\n",
    "        else:\n",
    "            if res == dividend/divisor:\n",
    "                return res\n",
    "            else:\n",
    "                return res+1"
   ]
  },
  {
   "cell_type": "code",
   "execution_count": 17,
   "metadata": {},
   "outputs": [],
   "source": [
    "class Solution:\n",
    "    def divide(self, dividend: int, divisor: int) -> int:\n",
    "        if dividend == 0:\n",
    "            return 0\n",
    "\n",
    "        if -2147483648 == dividend and -1 == divisor:\n",
    "            return 2147483647\n",
    "\n",
    "        res = dividend//divisor\n",
    "        if res >= 0:\n",
    "            return res\n",
    "        else:\n",
    "            if res == dividend/divisor:\n",
    "                return res\n",
    "            else:\n",
    "                return res+1"
   ]
  },
  {
   "cell_type": "code",
   "execution_count": 26,
   "metadata": {},
   "outputs": [],
   "source": [
    "class Solution:\n",
    "    def divide(self, dividend: int, divisor: int) -> int:\n",
    "        if dividend == 0:\n",
    "            return 0\n",
    "\n",
    "        if -2147483648 == dividend and -1 == divisor:\n",
    "            return 2147483647\n",
    "        return int(dividend/divisor)"
   ]
  },
  {
   "cell_type": "code",
   "execution_count": 74,
   "metadata": {},
   "outputs": [],
   "source": [
    "class Solution:\n",
    "    def divide(self, dividend: int, divisor: int) -> int:\n",
    "        res = 0\n",
    "        signed = -1 if ((dividend < 0) ^ (divisor < 0)) else 1\n",
    "\n",
    "        dividend = abs(dividend)\n",
    "        divisor = abs(divisor)\n",
    "\n",
    "        quotient = 0\n",
    "        temp = 0\n",
    "\n",
    "        for i in range(31, -1, -1):\n",
    "            print(bin(divisor << i), bin(dividend), bin(quotient) )\n",
    "            if (temp + (divisor << i) <= dividend):\n",
    "                temp += divisor << i\n",
    "                quotient |= 1 << i\n",
    "        \n",
    "        if signed == -1 :\n",
    "            quotient = -quotient\n",
    "        if quotient > 2**31 - 1:\n",
    "            return 2**31 - 1\n",
    "        elif quotient < -(2**31):\n",
    "            return -(2**31)\n",
    "        else:\n",
    "            return quotient"
   ]
  },
  {
   "cell_type": "code",
   "execution_count": 84,
   "metadata": {},
   "outputs": [],
   "source": [
    "class Solution:\n",
    "    def divide(self, dividend: int, divisor: int) -> int:\n",
    "        pm = 1\n",
    "        d = dividend\n",
    "        dv = divisor\n",
    "        if d <0:\n",
    "            d = abs(d)\n",
    "            pm*=-1\n",
    "        if dv <0:\n",
    "            dv = abs(dv)\n",
    "            pm*=-1\n",
    "        \n",
    "        res = 0\n",
    "        \n",
    "        for i in range(32, -1, -1):\n",
    "            print(bin(d), bin(d>>i), bin(dv), bin(res))\n",
    "            if d << i >= dv:\n",
    "                res = res << 1\n",
    "            else:\n",
    "                res = (res << 1) + 1\n",
    "                d = d - 2**i\n",
    "\n",
    "        return pm*res\n",
    "\n"
   ]
  },
  {
   "cell_type": "code",
   "execution_count": 85,
   "metadata": {},
   "outputs": [],
   "source": [
    "dividend = 780\n",
    "divisor = 3\n",
    "\n",
    "# dividend = 1\n",
    "# divisor = 2\n",
    "\n",
    "# dividend = -2147483648\n",
    "# divisor = -1"
   ]
  },
  {
   "cell_type": "code",
   "execution_count": 86,
   "metadata": {},
   "outputs": [
    {
     "name": "stdout",
     "output_type": "stream",
     "text": [
      "0b1100001100 0b0 0b11 0b0\n",
      "0b1100001100 0b0 0b11 0b0\n",
      "0b1100001100 0b0 0b11 0b0\n",
      "0b1100001100 0b0 0b11 0b0\n",
      "0b1100001100 0b0 0b11 0b0\n",
      "0b1100001100 0b0 0b11 0b0\n",
      "0b1100001100 0b0 0b11 0b0\n",
      "0b1100001100 0b0 0b11 0b0\n",
      "0b1100001100 0b0 0b11 0b0\n",
      "0b1100001100 0b0 0b11 0b0\n",
      "0b1100001100 0b0 0b11 0b0\n",
      "0b1100001100 0b0 0b11 0b0\n",
      "0b1100001100 0b0 0b11 0b0\n",
      "0b1100001100 0b0 0b11 0b0\n",
      "0b1100001100 0b0 0b11 0b0\n",
      "0b1100001100 0b0 0b11 0b0\n",
      "0b1100001100 0b0 0b11 0b0\n",
      "0b1100001100 0b0 0b11 0b0\n",
      "0b1100001100 0b0 0b11 0b0\n",
      "0b1100001100 0b0 0b11 0b0\n",
      "0b1100001100 0b0 0b11 0b0\n",
      "0b1100001100 0b0 0b11 0b0\n",
      "0b1100001100 0b0 0b11 0b0\n",
      "0b1100001100 0b1 0b11 0b0\n",
      "0b1100001100 0b11 0b11 0b0\n",
      "0b1100001100 0b110 0b11 0b0\n",
      "0b1100001100 0b1100 0b11 0b0\n",
      "0b1100001100 0b11000 0b11 0b0\n",
      "0b1100001100 0b110000 0b11 0b0\n",
      "0b1100001100 0b1100001 0b11 0b0\n",
      "0b1100001100 0b11000011 0b11 0b0\n",
      "0b1100001100 0b110000110 0b11 0b0\n",
      "0b1100001100 0b1100001100 0b11 0b0\n"
     ]
    },
    {
     "data": {
      "text/plain": [
       "0"
      ]
     },
     "execution_count": 86,
     "metadata": {},
     "output_type": "execute_result"
    }
   ],
   "source": [
    "sol = Solution()\n",
    "res = sol.divide(dividend, divisor)\n",
    "res"
   ]
  },
  {
   "cell_type": "code",
   "execution_count": 40,
   "metadata": {},
   "outputs": [
    {
     "data": {
      "text/plain": [
       "260"
      ]
     },
     "execution_count": 40,
     "metadata": {},
     "output_type": "execute_result"
    }
   ],
   "source": [
    "780//3"
   ]
  },
  {
   "cell_type": "code",
   "execution_count": 101,
   "metadata": {},
   "outputs": [
    {
     "data": {
      "text/plain": [
       "('0b10001111', '0b101111', 47)"
      ]
     },
     "execution_count": 101,
     "metadata": {},
     "output_type": "execute_result"
    }
   ],
   "source": [
    "bin(143), bin(143//3), 143//3"
   ]
  },
  {
   "cell_type": "code",
   "execution_count": 116,
   "metadata": {},
   "outputs": [
    {
     "name": "stdout",
     "output_type": "stream",
     "text": [
      "0b0 0b0 0b11 0b0 0\n",
      "0b0 0b0 0b11 0b0 0\n",
      "0b0 0b0 0b11 0b0 0\n",
      "0b0 0b0 0b11 0b0 0\n",
      "0b0 0b0 0b11 0b0 0\n",
      "0b0 0b0 0b11 0b0 0\n",
      "0b0 0b0 0b11 0b0 0\n",
      "0b0 0b0 0b11 0b0 0\n",
      "0b0 0b0 0b11 0b0 0\n",
      "0b0 0b0 0b11 0b0 0\n",
      "0b0 0b0 0b11 0b0 0\n",
      "0b0 0b0 0b11 0b0 0\n",
      "0b0 0b0 0b11 0b0 0\n",
      "0b0 0b0 0b11 0b0 0\n",
      "0b0 0b0 0b11 0b0 0\n",
      "0b0 0b0 0b11 0b0 0\n",
      "0b0 0b0 0b11 0b0 0\n",
      "0b0 0b0 0b11 0b0 0\n",
      "0b0 0b0 0b11 0b0 0\n",
      "0b0 0b0 0b11 0b0 0\n",
      "0b0 0b0 0b11 0b0 0\n",
      "0b0 0b0 0b11 0b0 0\n",
      "0b0 0b0 0b11 0b0 0\n",
      "0b0 0b0 0b11 0b0 0\n",
      "0b0 0b0 0b11 0b0 0\n",
      "0b1 0b0 0b11 0b0 0\n",
      "0b10 0b10 0b11 0b1 1\n",
      "0b100 0b100 0b11 0b10 2\n",
      "0b1000 0b1000 0b11 0b11 3\n",
      "0b10001 0b10000 0b11 0b100 4\n",
      "0b100011 0b100010 0b11 0b101 5\n",
      "0b1000111 0b1000110 0b11 0b110 6\n",
      "0b10001111 0b10001110 0b11 0b111 7\n"
     ]
    }
   ],
   "source": [
    "dividend = 143\n",
    "divisor = 3\n",
    "\n",
    "temp = 0\n",
    "c = 1\n",
    "\n",
    "for i in range(32, -1, -1):\n",
    "    if (dividend >> i) - (dividend >> (i+3)) << 1 >= divisor:\n",
    "        temp+=1\n",
    "    else:\n",
    "        temp <<=1\n",
    "    print(bin(dividend >> i), bin(dividend >> (i+1) << 1),  bin(divisor), bin(temp), temp)"
   ]
  },
  {
   "cell_type": "code",
   "execution_count": 115,
   "metadata": {},
   "outputs": [
    {
     "data": {
      "text/plain": [
       "2147483648"
      ]
     },
     "execution_count": 115,
     "metadata": {},
     "output_type": "execute_result"
    }
   ],
   "source": [
    "-2147483648//-1"
   ]
  },
  {
   "cell_type": "code",
   "execution_count": 25,
   "metadata": {},
   "outputs": [
    {
     "data": {
      "text/plain": [
       "0"
      ]
     },
     "execution_count": 25,
     "metadata": {},
     "output_type": "execute_result"
    }
   ],
   "source": [
    "int(-0.999)"
   ]
  },
  {
   "cell_type": "code",
   "execution_count": 32,
   "metadata": {},
   "outputs": [
    {
     "data": {
      "text/plain": [
       "'0b11'"
      ]
     },
     "execution_count": 32,
     "metadata": {},
     "output_type": "execute_result"
    }
   ],
   "source": [
    "bin(3)"
   ]
  },
  {
   "cell_type": "code",
   "execution_count": 36,
   "metadata": {},
   "outputs": [
    {
     "data": {
      "text/plain": [
       "-48"
      ]
     },
     "execution_count": 36,
     "metadata": {},
     "output_type": "execute_result"
    }
   ],
   "source": [
    "-3 << 4"
   ]
  },
  {
   "cell_type": "code",
   "execution_count": 40,
   "metadata": {},
   "outputs": [
    {
     "data": {
      "text/plain": [
       "'0b1010'"
      ]
     },
     "execution_count": 40,
     "metadata": {},
     "output_type": "execute_result"
    }
   ],
   "source": [
    "bin(5 << 1)"
   ]
  },
  {
   "cell_type": "code",
   "execution_count": 38,
   "metadata": {},
   "outputs": [
    {
     "data": {
      "text/plain": [
       "'0b10'"
      ]
     },
     "execution_count": 38,
     "metadata": {},
     "output_type": "execute_result"
    }
   ],
   "source": [
    "bin(5 >> 1)"
   ]
  },
  {
   "cell_type": "code",
   "execution_count": 46,
   "metadata": {},
   "outputs": [
    {
     "data": {
      "text/plain": [
       "10"
      ]
     },
     "execution_count": 46,
     "metadata": {},
     "output_type": "execute_result"
    }
   ],
   "source": [
    "5 << 1"
   ]
  },
  {
   "cell_type": "code",
   "execution_count": null,
   "metadata": {},
   "outputs": [],
   "source": []
  }
 ],
 "metadata": {
  "kernelspec": {
   "display_name": "Python 3",
   "language": "python",
   "name": "python3"
  },
  "language_info": {
   "codemirror_mode": {
    "name": "ipython",
    "version": 3
   },
   "file_extension": ".py",
   "mimetype": "text/x-python",
   "name": "python",
   "nbconvert_exporter": "python",
   "pygments_lexer": "ipython3",
   "version": "3.10.8"
  }
 },
 "nbformat": 4,
 "nbformat_minor": 2
}
