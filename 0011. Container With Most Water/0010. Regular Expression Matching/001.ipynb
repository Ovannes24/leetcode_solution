{
 "cells": [
  {
   "cell_type": "code",
   "execution_count": 5,
   "metadata": {},
   "outputs": [],
   "source": [
    "import numpy as np\n",
    "import matplotlib.pyplot as plt\n",
    "from typing import List"
   ]
  },
  {
   "cell_type": "markdown",
   "metadata": {},
   "source": [
    "[1,2,1]\n",
    "\n",
    "[1,1,2]\n",
    "[1,3,2]\n",
    "\n",
    "1 1 2"
   ]
  },
  {
   "cell_type": "code",
   "execution_count": 48,
   "metadata": {},
   "outputs": [],
   "source": [
    "class Solution:\n",
    "    def maxArea(self, height: List[int]) -> int:\n",
    "        h = height\n",
    "        lh = len(h)\n",
    "        c = 0\n",
    "        for i in range(lh):\n",
    "            for j in range(lh):\n",
    "                c= max (c, (i - j)*min(h[i], h[j]))\n",
    "\n",
    "        return c"
   ]
  },
  {
   "cell_type": "code",
   "execution_count": 146,
   "metadata": {},
   "outputs": [],
   "source": [
    "# class Solution:\n",
    "#     def maxArea(self, height: List[int]) -> int:\n",
    "#         h = height\n",
    "#         lh = len(h)\n",
    "#         sh = sorted(h)\n",
    "#         ash = []\n",
    "\n",
    "#         for i in range(lh):\n",
    "#             for j in range(lh):\n",
    "#                 if sh[i] == h[j] and len(ash) != lh:\n",
    "#                     ash.append(j)\n",
    "\n",
    "#         # print(sh, ash)\n",
    "#         return max([min(sh[i],(ash[i]))**2 for i in range(lh)])"
   ]
  },
  {
   "cell_type": "code",
   "execution_count": 147,
   "metadata": {},
   "outputs": [],
   "source": [
    "# class Solution:\n",
    "#     def maxArea(self, height: List[int]) -> int:\n",
    "#         h = height\n",
    "#         lh = len(h)\n",
    "\n",
    "#         c = 0\n",
    "\n",
    "#         l = 0\n",
    "#         r = lh-1\n",
    "#         for i in range(lh//2+1):\n",
    "#             t = (r-l)*min(h[l], h[r])\n",
    "#             if t >= c:\n",
    "#                 l+=1\n",
    "#                 c = t\n",
    "#             else:\n",
    "#                 r-=1\n",
    "\n",
    "\n",
    "#         c1 = 0 \n",
    "#         l = 0\n",
    "#         r = lh-1\n",
    "#         for i in range(lh//2+1):\n",
    "#             t = (r-l)*min(h[l], h[r])\n",
    "#             if t >= c1:\n",
    "#                 r-=1\n",
    "#                 c1 = t\n",
    "#             else:\n",
    "#                 l+=1\n",
    "\n",
    "#         print(c, c1)\n",
    "#         return max(c, c1)\n",
    "\n"
   ]
  },
  {
   "cell_type": "code",
   "execution_count": 155,
   "metadata": {},
   "outputs": [],
   "source": [
    "class Solution:\n",
    "    def maxArea(self, height: List[int]) -> int:\n",
    "        h = height\n",
    "        lh = len(h)\n",
    "\n",
    "        c = 0\n",
    "\n",
    "        l = 0\n",
    "        r = lh-1\n",
    "        for i in range(lh):\n",
    "            t = (r-l)*min(h[l], h[r])\n",
    "            if h[l] < h[r]:\n",
    "                l+=1\n",
    "            else:\n",
    "                r-=1\n",
    "                \n",
    "            c = max(c, t)\n",
    "\n",
    "        return c\n",
    "\n"
   ]
  },
  {
   "cell_type": "code",
   "execution_count": 165,
   "metadata": {},
   "outputs": [],
   "source": [
    "class Solution:\n",
    "    def maxArea(self, height: List[int]) -> int:\n",
    "        h = height\n",
    "        lh = len(h)\n",
    "\n",
    "        c = 0\n",
    "\n",
    "        l = 0\n",
    "        r = lh-1\n",
    "        for i in range(lh//2):\n",
    "            if h[l] < h[r]:\n",
    "                t = (r-l)*h[l]\n",
    "                l+=1\n",
    "            else:\n",
    "                t = (r-l)*h[r]\n",
    "                r-=1\n",
    "            print(t)\n",
    "            c = max(c, t)\n",
    "\n",
    "        return c\n",
    "\n"
   ]
  },
  {
   "cell_type": "code",
   "execution_count": 166,
   "metadata": {},
   "outputs": [],
   "source": [
    "h = [1,8,6,2,5,4,8,3,7]\n",
    "# h = [2,3,4,5,18,17,6]\n",
    "lh = range(len(h))"
   ]
  },
  {
   "cell_type": "code",
   "execution_count": 167,
   "metadata": {},
   "outputs": [
    {
     "name": "stdout",
     "output_type": "stream",
     "text": [
      "8\n",
      "49\n",
      "18\n",
      "40\n"
     ]
    },
    {
     "data": {
      "text/plain": [
       "49"
      ]
     },
     "execution_count": 167,
     "metadata": {},
     "output_type": "execute_result"
    }
   ],
   "source": [
    "sol = Solution()\n",
    "sol.maxArea(h)"
   ]
  },
  {
   "cell_type": "code",
   "execution_count": 164,
   "metadata": {},
   "outputs": [
    {
     "data": {
      "text/plain": [
       "20"
      ]
     },
     "execution_count": 164,
     "metadata": {},
     "output_type": "execute_result"
    }
   ],
   "source": [
    "sol.maxArea(sorted(h))"
   ]
  },
  {
   "cell_type": "code",
   "execution_count": 44,
   "metadata": {},
   "outputs": [
    {
     "data": {
      "text/plain": [
       "[[0, 1, 2, 3, 4, 5, 6, 7, 8],\n",
       " [-1, 0, 1, 2, 3, 4, 5, 6, 7],\n",
       " [-2, -1, 0, 1, 2, 3, 4, 5, 6],\n",
       " [-3, -2, -1, 0, 1, 2, 3, 4, 5],\n",
       " [-4, -3, -2, -1, 0, 1, 2, 3, 4],\n",
       " [-5, -4, -3, -2, -1, 0, 1, 2, 3],\n",
       " [-6, -5, -4, -3, -2, -1, 0, 1, 2],\n",
       " [-7, -6, -5, -4, -3, -2, -1, 0, 1],\n",
       " [-8, -7, -6, -5, -4, -3, -2, -1, 0]]"
      ]
     },
     "execution_count": 44,
     "metadata": {},
     "output_type": "execute_result"
    }
   ],
   "source": [
    "H = [[i - j for i in lh] for j in lh]\n",
    "H"
   ]
  },
  {
   "cell_type": "code",
   "execution_count": 45,
   "metadata": {},
   "outputs": [
    {
     "data": {
      "text/plain": [
       "[[1, 1, 1, 1, 1, 1, 1, 1, 1],\n",
       " [1, 8, 6, 2, 5, 4, 8, 3, 7],\n",
       " [1, 6, 6, 2, 5, 4, 6, 3, 6],\n",
       " [1, 2, 2, 2, 2, 2, 2, 2, 2],\n",
       " [1, 5, 5, 2, 5, 4, 5, 3, 5],\n",
       " [1, 4, 4, 2, 4, 4, 4, 3, 4],\n",
       " [1, 8, 6, 2, 5, 4, 8, 3, 7],\n",
       " [1, 3, 3, 2, 3, 3, 3, 3, 3],\n",
       " [1, 7, 6, 2, 5, 4, 7, 3, 7]]"
      ]
     },
     "execution_count": 45,
     "metadata": {},
     "output_type": "execute_result"
    }
   ],
   "source": [
    "M = [[min(i, j) for i in h] for j in h]\n",
    "M"
   ]
  },
  {
   "cell_type": "code",
   "execution_count": 46,
   "metadata": {},
   "outputs": [
    {
     "data": {
      "text/plain": [
       "[[0, 1, 2, 3, 4, 5, 6, 7, 8],\n",
       " [-1, 0, 6, 4, 15, 16, 40, 18, 49],\n",
       " [-2, -6, 0, 2, 10, 12, 24, 15, 36],\n",
       " [-3, -4, -2, 0, 2, 4, 6, 8, 10],\n",
       " [-4, -15, -10, -2, 0, 4, 10, 9, 20],\n",
       " [-5, -16, -12, -4, -4, 0, 4, 6, 12],\n",
       " [-6, -40, -24, -6, -10, -4, 0, 3, 14],\n",
       " [-7, -18, -15, -8, -9, -6, -3, 0, 3],\n",
       " [-8, -49, -36, -10, -20, -12, -14, -3, 0]]"
      ]
     },
     "execution_count": 46,
     "metadata": {},
     "output_type": "execute_result"
    }
   ],
   "source": [
    "[[H[j][i]*M[j][i] for i in lh] for j in lh]"
   ]
  },
  {
   "cell_type": "code",
   "execution_count": 118,
   "metadata": {},
   "outputs": [
    {
     "data": {
      "text/plain": [
       "[<matplotlib.lines.Line2D at 0x2288dfd9d50>]"
      ]
     },
     "execution_count": 118,
     "metadata": {},
     "output_type": "execute_result"
    },
    {
     "data": {
      "image/png": "[encoded data removed]",
      "text/plain": [
       "<Figure size 640x480 with 1 Axes>"
      ]
     },
     "metadata": {},
     "output_type": "display_data"
    }
   ],
   "source": [
    "plt.plot(np.sort((np.array(M) * np.array(H)).reshape(-1)))"
   ]
  },
  {
   "cell_type": "code",
   "execution_count": 110,
   "metadata": {},
   "outputs": [
    {
     "data": {
      "text/plain": [
       "(array([1, 2, 3, 4, 5, 6, 7, 8, 8]),\n",
       " array([0, 3, 7, 5, 4, 2, 8, 1, 6], dtype=int64))"
      ]
     },
     "execution_count": 110,
     "metadata": {},
     "output_type": "execute_result"
    }
   ],
   "source": [
    "np.sort(h), np.argsort(h)"
   ]
  },
  {
   "cell_type": "code",
   "execution_count": null,
   "metadata": {},
   "outputs": [],
   "source": [
    "argsort"
   ]
  }
 ],
 "metadata": {
  "kernelspec": {
   "display_name": "Python 3",
   "language": "python",
   "name": "python3"
  },
  "language_info": {
   "codemirror_mode": {
    "name": "ipython",
    "version": 3
   },
   "file_extension": ".py",
   "mimetype": "text/x-python",
   "name": "python",
   "nbconvert_exporter": "python",
   "pygments_lexer": "ipython3",
   "version": "3.10.8"
  }
 },
 "nbformat": 4,
 "nbformat_minor": 2
}
