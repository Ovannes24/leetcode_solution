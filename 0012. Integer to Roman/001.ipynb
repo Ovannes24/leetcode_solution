{
 "cells": [
  {
   "cell_type": "code",
   "execution_count": 1,
   "metadata": {},
   "outputs": [],
   "source": [
    "import numpy as np\n",
    "import matplotlib.pyplot as plt"
   ]
  },
  {
   "cell_type": "code",
   "execution_count": 58,
   "metadata": {},
   "outputs": [],
   "source": [
    "class Solution:\n",
    "    def intToRoman(self, num: int) -> str:\n",
    "        d = {\n",
    "            1: 'I',\n",
    "            4: 'IV',\n",
    "            5: 'V',\n",
    "            9: 'IX',\n",
    "            10: 'X',\n",
    "            40: 'XL',\n",
    "            50: 'L',\n",
    "            90: 'XC',\n",
    "            100: 'C',\n",
    "            500: 'D',\n",
    "            900: 'CM',\n",
    "            1000: 'M'\n",
    "        }\n",
    "\n",
    "        n_ = num\n",
    "\n",
    "        s = ''\n",
    "        for i in list(d.keys())[::-1]:\n",
    "            # print(i, n_, d[i]*(n_ // i)\n",
    "            s+=d[i]*(n_ // i)\n",
    "            n_ = n_ % i\n",
    "\n",
    "        return s"
   ]
  },
  {
   "cell_type": "code",
   "execution_count": 59,
   "metadata": {},
   "outputs": [],
   "source": [
    "n = 9"
   ]
  },
  {
   "cell_type": "code",
   "execution_count": 60,
   "metadata": {},
   "outputs": [
    {
     "data": {
      "text/plain": [
       "'IX'"
      ]
     },
     "execution_count": 60,
     "metadata": {},
     "output_type": "execute_result"
    }
   ],
   "source": [
    "sol = Solution()\n",
    "sol.intToRoman(n)"
   ]
  },
  {
   "cell_type": "code",
   "execution_count": 61,
   "metadata": {},
   "outputs": [],
   "source": [
    "d = {\n",
    "    'I': 1,\n",
    "    'V': 5,\n",
    "    'X': 10,\n",
    "    'L': 50,\n",
    "    'C': 100,\n",
    "    'D': 500,\n",
    "    'M': 1000,\n",
    "}"
   ]
  },
  {
   "cell_type": "code",
   "execution_count": 42,
   "metadata": {},
   "outputs": [],
   "source": [
    "d = {\n",
    "    1: 'I',\n",
    "    4: 'IV',\n",
    "    5: 'V',\n",
    "    9: 'IX',\n",
    "    10: 'X',\n",
    "    40: 'XL',\n",
    "    50: 'L',\n",
    "    90: 'XC',\n",
    "    100: 'C',\n",
    "    500: 'D',\n",
    "    900: 'CM',\n",
    "    1000: 'M'\n",
    "}"
   ]
  },
  {
   "cell_type": "code",
   "execution_count": 43,
   "metadata": {},
   "outputs": [
    {
     "name": "stdout",
     "output_type": "stream",
     "text": [
      "MCMXCIV\n"
     ]
    }
   ],
   "source": [
    "n_ = 1994\n",
    "\n",
    "s = ''\n",
    "for i in list(d.keys())[::-1]:\n",
    "    # print(i, n_, d[i]*(n_ // i)\n",
    "    s+=d[i]*(n_ // i)\n",
    "    n_ = n_ % i\n",
    "\n",
    "print(s)"
   ]
  },
  {
   "cell_type": "code",
   "execution_count": null,
   "metadata": {},
   "outputs": [],
   "source": []
  },
  {
   "cell_type": "code",
   "execution_count": null,
   "metadata": {},
   "outputs": [],
   "source": []
  },
  {
   "cell_type": "code",
   "execution_count": null,
   "metadata": {},
   "outputs": [],
   "source": []
  }
 ],
 "metadata": {
  "kernelspec": {
   "display_name": "Python 3",
   "language": "python",
   "name": "python3"
  },
  "language_info": {
   "codemirror_mode": {
    "name": "ipython",
    "version": 3
   },
   "file_extension": ".py",
   "mimetype": "text/x-python",
   "name": "python",
   "nbconvert_exporter": "python",
   "pygments_lexer": "ipython3",
   "version": "3.10.8"
  }
 },
 "nbformat": 4,
 "nbformat_minor": 2
}
