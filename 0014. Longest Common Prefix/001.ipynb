{
 "cells": [
  {
   "cell_type": "code",
   "execution_count": 1,
   "metadata": {},
   "outputs": [],
   "source": [
    "import numpy as np\n",
    "import matplotlib.pyplot as plt\n",
    "from typing import List"
   ]
  },
  {
   "cell_type": "code",
   "execution_count": 64,
   "metadata": {},
   "outputs": [],
   "source": [
    "class Solution:\n",
    "    def longestCommonPrefix(self, strs: List[str]) -> str:\n",
    "        s = strs\n",
    "\n",
    "        isEqual = True\n",
    "\n",
    "        ls = len(s)-1\n",
    "        if ls == 0:\n",
    "            return s[0]\n",
    "\n",
    "        m = 10000000\n",
    "        for i in s:\n",
    "            m = min(m, len(i))\n",
    "            if m == 1:\n",
    "                return i\n",
    "\n",
    "        if m == 0:\n",
    "            return \"\"\n",
    "\n",
    "        print(m)\n",
    "        res = ''\n",
    "        j = 0\n",
    "        while isEqual:\n",
    "            for i in range(ls):\n",
    "                if j<=m:\n",
    "                    if s[i][j] == s[i+1][j]:\n",
    "                        if i == ls-1:\n",
    "                            res+=s[i][j]\n",
    "                            # print(i, j, s[i][j])\n",
    "                    else:\n",
    "                        isEqual = False\n",
    "            j+=1\n",
    "        if isEqual:\n",
    "            return res\n",
    "        else:\n",
    "            return \"\""
   ]
  },
  {
   "cell_type": "code",
   "execution_count": 130,
   "metadata": {},
   "outputs": [],
   "source": [
    "class Solution:\n",
    "    def longestCommonPrefix(self, strs: List[str]) -> str:\n",
    "        s = strs\n",
    "\n",
    "        res = \"\"\n",
    "        first_s = s[0]\n",
    "\n",
    "        for cc in s[1:]:\n",
    "            for c, r in zip(cc, first_s):\n",
    "                # print(first_s, cc, r, c)\n",
    "                if r == c:\n",
    "                    res += r\n",
    "                else:\n",
    "                    break\n",
    "            first_s = res\n",
    "            res = \"\"\n",
    "                    \n",
    "        return first_s\n"
   ]
  },
  {
   "cell_type": "code",
   "execution_count": 135,
   "metadata": {},
   "outputs": [],
   "source": [
    "# s = [\"flower\",\"flow\",\"flight\"]\n",
    "# s = [\"ab\", \"a\"]\n",
    "s = [\"reflower\",\"flow\",\"flight\"]"
   ]
  },
  {
   "cell_type": "code",
   "execution_count": 136,
   "metadata": {},
   "outputs": [
    {
     "name": "stdout",
     "output_type": "stream",
     "text": [
      "reflower flow r f\n"
     ]
    },
    {
     "data": {
      "text/plain": [
       "''"
      ]
     },
     "execution_count": 136,
     "metadata": {},
     "output_type": "execute_result"
    }
   ],
   "source": [
    "sol = Solution()\n",
    "sol.longestCommonPrefix(s)"
   ]
  },
  {
   "cell_type": "code",
   "execution_count": null,
   "metadata": {},
   "outputs": [],
   "source": []
  },
  {
   "cell_type": "code",
   "execution_count": null,
   "metadata": {},
   "outputs": [],
   "source": []
  },
  {
   "cell_type": "code",
   "execution_count": null,
   "metadata": {},
   "outputs": [],
   "source": []
  },
  {
   "cell_type": "code",
   "execution_count": 49,
   "metadata": {},
   "outputs": [
    {
     "name": "stdout",
     "output_type": "stream",
     "text": [
      "a\n",
      "1\n",
      "0 0 a\n"
     ]
    },
    {
     "ename": "IndexError",
     "evalue": "string index out of range",
     "output_type": "error",
     "traceback": [
      "\u001b[1;31m---------------------------------------------------------------------------\u001b[0m",
      "\u001b[1;31mIndexError\u001b[0m                                Traceback (most recent call last)",
      "Cell \u001b[1;32mIn[49], line 24\u001b[0m\n\u001b[0;32m     22\u001b[0m \u001b[38;5;28;01mwhile\u001b[39;00m isEqual:\n\u001b[0;32m     23\u001b[0m     \u001b[38;5;28;01mfor\u001b[39;00m i \u001b[38;5;129;01min\u001b[39;00m \u001b[38;5;28mrange\u001b[39m(ls):\n\u001b[1;32m---> 24\u001b[0m         \u001b[38;5;28;01mif\u001b[39;00m s[i][j] \u001b[38;5;241m==\u001b[39m \u001b[43ms\u001b[49m\u001b[43m[\u001b[49m\u001b[43mi\u001b[49m\u001b[38;5;241;43m+\u001b[39;49m\u001b[38;5;241;43m1\u001b[39;49m\u001b[43m]\u001b[49m\u001b[43m[\u001b[49m\u001b[43mj\u001b[49m\u001b[43m]\u001b[49m:\n\u001b[0;32m     25\u001b[0m             \u001b[38;5;28;01mif\u001b[39;00m i \u001b[38;5;241m==\u001b[39m ls\u001b[38;5;241m-\u001b[39m\u001b[38;5;241m1\u001b[39m:\n\u001b[0;32m     26\u001b[0m                 res\u001b[38;5;241m+\u001b[39m\u001b[38;5;241m=\u001b[39ms[i][j]\n",
      "\u001b[1;31mIndexError\u001b[0m: string index out of range"
     ]
    }
   ],
   "source": [
    "isEqual = True\n",
    "\n",
    "ls = len(s)-1\n",
    "\n",
    "if ls == 0:\n",
    "    print(s[0])\n",
    "\n",
    "m = 10000000\n",
    "for i in s:\n",
    "    m = min(m, len(i))\n",
    "    if m == 1:\n",
    "        print(i)\n",
    "\n",
    "print(m)\n",
    "if m == 0:\n",
    "    print(\"----\")\n",
    "\n",
    "\n",
    "\n",
    "res = ''\n",
    "j = 0\n",
    "while isEqual:\n",
    "    for i in range(ls):\n",
    "        if s[i][j] == s[i+1][j]:\n",
    "            if i == ls-1:\n",
    "                res+=s[i][j]\n",
    "                print(i, j, s[i][j])\n",
    "        else:\n",
    "            isEqual = False\n",
    "    j+=1\n",
    "\n",
    "res"
   ]
  },
  {
   "cell_type": "code",
   "execution_count": null,
   "metadata": {},
   "outputs": [],
   "source": []
  }
 ],
 "metadata": {
  "kernelspec": {
   "display_name": "Python 3",
   "language": "python",
   "name": "python3"
  },
  "language_info": {
   "codemirror_mode": {
    "name": "ipython",
    "version": 3
   },
   "file_extension": ".py",
   "mimetype": "text/x-python",
   "name": "python",
   "nbconvert_exporter": "python",
   "pygments_lexer": "ipython3",
   "version": "3.10.8"
  }
 },
 "nbformat": 4,
 "nbformat_minor": 2
}
