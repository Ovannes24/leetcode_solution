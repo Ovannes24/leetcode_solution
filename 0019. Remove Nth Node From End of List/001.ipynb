{
 "cells": [
  {
   "cell_type": "code",
   "execution_count": 2,
   "metadata": {},
   "outputs": [],
   "source": [
    "import numpy as np\n",
    "import matplotlib.pyplot as plt\n",
    "from typing import List, Optional"
   ]
  },
  {
   "cell_type": "code",
   "execution_count": 49,
   "metadata": {},
   "outputs": [],
   "source": [
    "# # Definition for singly-linked list.\n",
    "# class ListNode:\n",
    "#     def __init__(self, val=0, next=None):\n",
    "#         self.val = val\n",
    "#         self.next = next\n",
    "\n",
    "# class Solution:\n",
    "#     def removeNthFromEnd(self, head: Optional[ListNode], n: int) -> Optional[ListNode]:\n",
    "\n",
    "#         first_head = head\n",
    "\n",
    "#         while head is not None:\n",
    "#             print(head.val, end=' ')\n",
    "#             head = head.next\n",
    "\n",
    "#         head = first_head\n",
    "#         nexts = []\n",
    "#         lns = []\n",
    "#         while head is not None:\n",
    "#             nexts.append(head.next)\n",
    "#             lns.append(head)\n",
    "#             head = head.next\n",
    "            \n",
    "#         print()\n",
    "#         lns[-(n-1)] = nexts[-n]\n",
    "\n",
    "#         head = lns[0]\n",
    "#         while head is not None:\n",
    "#             print(head.val, end=' ')\n",
    "#             head = head.next\n",
    "#         return head"
   ]
  },
  {
   "cell_type": "code",
   "execution_count": 110,
   "metadata": {},
   "outputs": [],
   "source": [
    "# Definition for singly-linked list.\n",
    "class ListNode:\n",
    "    def __init__(self, val=0, next=None):\n",
    "        self.val = val\n",
    "        self.next = next\n",
    "\n",
    "class Solution:\n",
    "    def removeNthFromEnd(self, head: Optional[ListNode], n: int) -> Optional[ListNode]:\n",
    "\n",
    "        first_head = head\n",
    "        ln = 0\n",
    "        while head is not None:\n",
    "            print(head.val, end=' ')\n",
    "            ln+=1\n",
    "            head = head.next\n",
    "        print('ln =', ln)\n",
    "\n",
    "        if ln == 1 and n == 1:\n",
    "            return None\n",
    "        \n",
    "        if ln == n:\n",
    "            return first_head.next\n",
    "\n",
    "        ln1 = 0\n",
    "        head = first_head\n",
    "        while head is not None:\n",
    "            # print(head.val, end=' ')\n",
    "            ln1+=1\n",
    "            if ln-n != ln1: \n",
    "                head = head.next\n",
    "            else:\n",
    "                # if head.next is not None:\n",
    "                head.next = head.next.next\n",
    "                head = head.next\n",
    "\n",
    "        print()\n",
    "        head = first_head\n",
    "        while head is not None:\n",
    "            print(head.val, end=' ')\n",
    "            head = head.next\n",
    "        return head"
   ]
  },
  {
   "cell_type": "code",
   "execution_count": null,
   "metadata": {},
   "outputs": [],
   "source": [
    "# Definition for singly-linked list.\n",
    "class ListNode:\n",
    "    def __init__(self, val=0, next=None):\n",
    "        self.val = val\n",
    "        self.next = next\n",
    "\n",
    "class Solution:\n",
    "    def removeNthFromEnd(self, head: Optional[ListNode], n: int) -> Optional[ListNode]:\n",
    "\n",
    "        first_head = head\n",
    "        ln = 0\n",
    "        while head is not None:\n",
    "            print(head.val, end=' ')\n",
    "            ln+=1\n",
    "            head = head.next\n",
    "        print('ln =', ln)\n",
    "\n",
    "        if ln == 1 and n == 1:\n",
    "            return None\n",
    "        \n",
    "        if ln == n:\n",
    "            return first_head.next\n",
    "\n",
    "        ln1 = 0\n",
    "        head = first_head\n",
    "        while head is not None:\n",
    "            # print(head.val, end=' ')\n",
    "            ln1+=1\n",
    "            if ln-n != ln1: \n",
    "                head = head.next\n",
    "            else:\n",
    "                # if head.next is not None:\n",
    "                head.next = head.next.next\n",
    "                head = head.next\n",
    "\n",
    "        print()\n",
    "        head = first_head\n",
    "        while head is not None:\n",
    "            print(head.val, end=' ')\n",
    "            head = head.next\n",
    "        return head"
   ]
  },
  {
   "cell_type": "code",
   "execution_count": 111,
   "metadata": {},
   "outputs": [],
   "source": [
    "h = [1,2,3,4,5]\n",
    "n = 2\n",
    "\n",
    "# h = [1,2]\n",
    "# n = 1\n",
    "\n",
    "h = [1,2]\n",
    "n = 1\n",
    "\n",
    "\n",
    "first_head = ListNode(h[0], next=None)\n",
    "head = first_head\n",
    "for i in h[1:]:\n",
    "    head.next = ListNode(i, next=None)\n",
    "    head = head.next"
   ]
  },
  {
   "cell_type": "code",
   "execution_count": 112,
   "metadata": {},
   "outputs": [
    {
     "name": "stdout",
     "output_type": "stream",
     "text": [
      "1 2 ln = 2\n",
      "\n"
     ]
    }
   ],
   "source": [
    "sol = Solution()\n",
    "res = sol.removeNthFromEnd(first_head, n)\n",
    "res"
   ]
  },
  {
   "cell_type": "code",
   "execution_count": null,
   "metadata": {},
   "outputs": [],
   "source": []
  },
  {
   "cell_type": "code",
   "execution_count": null,
   "metadata": {},
   "outputs": [],
   "source": []
  }
 ],
 "metadata": {
  "kernelspec": {
   "display_name": "Python 3",
   "language": "python",
   "name": "python3"
  },
  "language_info": {
   "codemirror_mode": {
    "name": "ipython",
    "version": 3
   },
   "file_extension": ".py",
   "mimetype": "text/x-python",
   "name": "python",
   "nbconvert_exporter": "python",
   "pygments_lexer": "ipython3",
   "version": "3.10.8"
  }
 },
 "nbformat": 4,
 "nbformat_minor": 2
}
